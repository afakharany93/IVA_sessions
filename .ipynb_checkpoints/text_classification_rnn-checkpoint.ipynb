{
 "cells": [
  {
   "cell_type": "markdown",
   "metadata": {
    "id": "hX4n9TsbGw-f"
   },
   "source": [
    "##### Copyright 2018 The TensorFlow Authors."
   ]
  },
  {
   "cell_type": "code",
   "execution_count": 1,
   "metadata": {
    "cellView": "form",
    "execution": {
     "iopub.execute_input": "2021-08-11T17:13:38.872051Z",
     "iopub.status.busy": "2021-08-11T17:13:38.871472Z",
     "iopub.status.idle": "2021-08-11T17:13:38.874601Z",
     "shell.execute_reply": "2021-08-11T17:13:38.874020Z"
    },
    "id": "0nbI5DtDGw-i"
   },
   "outputs": [],
   "source": [
    "#@title Licensed under the Apache License, Version 2.0 (the \"License\");\n",
    "# you may not use this file except in compliance with the License.\n",
    "# You may obtain a copy of the License at\n",
    "#\n",
    "# https://www.apache.org/licenses/LICENSE-2.0\n",
    "#\n",
    "# Unless required by applicable law or agreed to in writing, software\n",
    "# distributed under the License is distributed on an \"AS IS\" BASIS,\n",
    "# WITHOUT WARRANTIES OR CONDITIONS OF ANY KIND, either express or implied.\n",
    "# See the License for the specific language governing permissions and\n",
    "# limitations under the License."
   ]
  },
  {
   "cell_type": "markdown",
   "metadata": {
    "id": "9TnJztDZGw-n"
   },
   "source": [
    "# Text classification with an RNN"
   ]
  },
  {
   "cell_type": "markdown",
   "metadata": {
    "id": "AfN3bMR5Gw-o"
   },
   "source": [
    "<table class=\"tfo-notebook-buttons\" align=\"left\">\n",
    "  <td>\n",
    "    <a target=\"_blank\" href=\"https://www.tensorflow.org/text/tutorials/text_classification_rnn\"><img src=\"https://www.tensorflow.org/images/tf_logo_32px.png\" />View on TensorFlow.org</a>\n",
    "  </td>\n",
    "  <td>\n",
    "    <a target=\"_blank\" href=\"https://colab.research.google.com/github/tensorflow/text/blob/master/docs/tutorials/text_classification_rnn.ipynb\"><img src=\"https://www.tensorflow.org/images/colab_logo_32px.png\" />Run in Google Colab</a>\n",
    "  </td>\n",
    "  <td>\n",
    "    <a target=\"_blank\" href=\"https://github.com/tensorflow/text/blob/master/docs/tutorials/text_classification_rnn.ipynb\"><img src=\"https://www.tensorflow.org/images/GitHub-Mark-32px.png\" />View source on GitHub</a>\n",
    "  </td>\n",
    "  <td>\n",
    "    <a href=\"https://storage.googleapis.com/tensorflow_docs/text/docs/tutorials/text_classification_rnn.ipynb\"><img src=\"https://www.tensorflow.org/images/download_logo_32px.png\" />Download notebook</a>\n",
    "  </td>\n",
    "</table>"
   ]
  },
  {
   "cell_type": "markdown",
   "metadata": {
    "id": "lUWearf0Gw-p"
   },
   "source": [
    "This text classification tutorial trains a [recurrent neural network](https://developers.google.com/machine-learning/glossary/#recurrent_neural_network) on the [IMDB large movie review dataset](http://ai.stanford.edu/~amaas/data/sentiment/) for sentiment analysis."
   ]
  },
  {
   "cell_type": "markdown",
   "metadata": {
    "id": "_2VQo4bajwUU"
   },
   "source": [
    "## Setup"
   ]
  },
  {
   "cell_type": "code",
   "execution_count": 2,
   "metadata": {
    "execution": {
     "iopub.execute_input": "2021-08-11T17:13:38.882468Z",
     "iopub.status.busy": "2021-08-11T17:13:38.881852Z",
     "iopub.status.idle": "2021-08-11T17:13:40.923583Z",
     "shell.execute_reply": "2021-08-11T17:13:40.922975Z"
    },
    "id": "z682XYsrjkY9"
   },
   "outputs": [],
   "source": [
    "import numpy as np\n",
    "\n",
    "import tensorflow_datasets as tfds\n",
    "import tensorflow as tf\n",
    "\n",
    "tfds.disable_progress_bar()"
   ]
  },
  {
   "cell_type": "markdown",
   "metadata": {
    "id": "1rXHa-w9JZhb"
   },
   "source": [
    "Import `matplotlib` and create a helper function to plot graphs:"
   ]
  },
  {
   "cell_type": "code",
   "execution_count": 3,
   "metadata": {
    "execution": {
     "iopub.execute_input": "2021-08-11T17:13:40.929414Z",
     "iopub.status.busy": "2021-08-11T17:13:40.928389Z",
     "iopub.status.idle": "2021-08-11T17:13:41.555297Z",
     "shell.execute_reply": "2021-08-11T17:13:41.555711Z"
    },
    "id": "Mp1Z7P9pYRSK"
   },
   "outputs": [],
   "source": [
    "import matplotlib.pyplot as plt\n",
    "\n",
    "\n",
    "def plot_graphs(history, metric):\n",
    "  plt.plot(history.history[metric])\n",
    "  plt.plot(history.history['val_'+metric], '')\n",
    "  plt.xlabel(\"Epochs\")\n",
    "  plt.ylabel(metric)\n",
    "  plt.legend([metric, 'val_'+metric])"
   ]
  },
  {
   "cell_type": "markdown",
   "metadata": {
    "id": "pRmMubr0jrE2"
   },
   "source": [
    "## Setup input pipeline\n",
    "\n",
    "\n",
    "The IMDB large movie review dataset is a *binary classification* dataset—all the reviews have either a *positive* or *negative* sentiment.\n",
    "\n",
    "Download the dataset using [TFDS](https://www.tensorflow.org/datasets). See the [loading text tutorial](https://www.tensorflow.org/tutorials/load_data/text) for details on how to load this sort of data manually.\n"
   ]
  },
  {
   "cell_type": "code",
   "execution_count": 4,
   "metadata": {
    "execution": {
     "iopub.execute_input": "2021-08-11T17:13:41.561110Z",
     "iopub.status.busy": "2021-08-11T17:13:41.560446Z",
     "iopub.status.idle": "2021-08-11T17:13:46.294617Z",
     "shell.execute_reply": "2021-08-11T17:13:46.295046Z"
    },
    "id": "SHRwRoP2nVHX"
   },
   "outputs": [
    {
     "name": "stderr",
     "output_type": "stream",
     "text": [
      "2021-10-01 08:16:27.651783: W tensorflow/core/platform/cloud/google_auth_provider.cc:184] All attempts to get a Google authentication bearer token failed, returning an empty token. Retrieving token from files failed with \"Not found: Could not locate the credentials file.\". Retrieving token from GCE failed with \"Failed precondition: Error executing an HTTP request: libcurl code 6 meaning 'Couldn't resolve host name', error details: Could not resolve host: metadata\".\n"
     ]
    },
    {
     "name": "stdout",
     "output_type": "stream",
     "text": [
      "\u001b[1mDownloading and preparing dataset 80.23 MiB (download: 80.23 MiB, generated: Unknown size, total: 80.23 MiB) to /home/ahmed/tensorflow_datasets/imdb_reviews/plain_text/1.0.0...\u001b[0m\n",
      "\u001b[1mDataset imdb_reviews downloaded and prepared to /home/ahmed/tensorflow_datasets/imdb_reviews/plain_text/1.0.0. Subsequent calls will reuse this data.\u001b[0m\n"
     ]
    },
    {
     "name": "stderr",
     "output_type": "stream",
     "text": [
      "2021-10-01 08:17:15.883318: I tensorflow/stream_executor/cuda/cuda_gpu_executor.cc:937] successful NUMA node read from SysFS had negative value (-1), but there must be at least one NUMA node, so returning NUMA node zero\n",
      "2021-10-01 08:17:15.913406: I tensorflow/stream_executor/cuda/cuda_gpu_executor.cc:937] successful NUMA node read from SysFS had negative value (-1), but there must be at least one NUMA node, so returning NUMA node zero\n",
      "2021-10-01 08:17:15.914008: I tensorflow/stream_executor/cuda/cuda_gpu_executor.cc:937] successful NUMA node read from SysFS had negative value (-1), but there must be at least one NUMA node, so returning NUMA node zero\n",
      "2021-10-01 08:17:15.915250: I tensorflow/core/platform/cpu_feature_guard.cc:142] This TensorFlow binary is optimized with oneAPI Deep Neural Network Library (oneDNN) to use the following CPU instructions in performance-critical operations:  AVX2 FMA\n",
      "To enable them in other operations, rebuild TensorFlow with the appropriate compiler flags.\n",
      "2021-10-01 08:17:15.915825: I tensorflow/stream_executor/cuda/cuda_gpu_executor.cc:937] successful NUMA node read from SysFS had negative value (-1), but there must be at least one NUMA node, so returning NUMA node zero\n",
      "2021-10-01 08:17:15.916535: I tensorflow/stream_executor/cuda/cuda_gpu_executor.cc:937] successful NUMA node read from SysFS had negative value (-1), but there must be at least one NUMA node, so returning NUMA node zero\n",
      "2021-10-01 08:17:15.917007: I tensorflow/stream_executor/cuda/cuda_gpu_executor.cc:937] successful NUMA node read from SysFS had negative value (-1), but there must be at least one NUMA node, so returning NUMA node zero\n",
      "2021-10-01 08:17:16.409444: I tensorflow/stream_executor/cuda/cuda_gpu_executor.cc:937] successful NUMA node read from SysFS had negative value (-1), but there must be at least one NUMA node, so returning NUMA node zero\n",
      "2021-10-01 08:17:16.409878: I tensorflow/stream_executor/cuda/cuda_gpu_executor.cc:937] successful NUMA node read from SysFS had negative value (-1), but there must be at least one NUMA node, so returning NUMA node zero\n",
      "2021-10-01 08:17:16.410162: I tensorflow/stream_executor/cuda/cuda_gpu_executor.cc:937] successful NUMA node read from SysFS had negative value (-1), but there must be at least one NUMA node, so returning NUMA node zero\n",
      "2021-10-01 08:17:16.410500: I tensorflow/core/common_runtime/gpu/gpu_device.cc:1510] Created device /job:localhost/replica:0/task:0/device:GPU:0 with 9736 MB memory:  -> device: 0, name: NVIDIA GeForce RTX 3060, pci bus id: 0000:09:00.0, compute capability: 8.6\n"
     ]
    },
    {
     "data": {
      "text/plain": [
       "(TensorSpec(shape=(), dtype=tf.string, name=None),\n",
       " TensorSpec(shape=(), dtype=tf.int64, name=None))"
      ]
     },
     "execution_count": 4,
     "metadata": {},
     "output_type": "execute_result"
    }
   ],
   "source": [
    "dataset, info = tfds.load('imdb_reviews', with_info=True,\n",
    "                          as_supervised=True)\n",
    "train_dataset, test_dataset = dataset['train'], dataset['test']\n",
    "\n",
    "train_dataset.element_spec"
   ]
  },
  {
   "cell_type": "markdown",
   "metadata": {
    "id": "nWA4c2ir7g6p"
   },
   "source": [
    "Initially this returns a dataset of (text, label pairs):"
   ]
  },
  {
   "cell_type": "code",
   "execution_count": 5,
   "metadata": {
    "execution": {
     "iopub.execute_input": "2021-08-11T17:13:46.299523Z",
     "iopub.status.busy": "2021-08-11T17:13:46.298913Z",
     "iopub.status.idle": "2021-08-11T17:13:47.820374Z",
     "shell.execute_reply": "2021-08-11T17:13:47.820785Z"
    },
    "id": "vd4_BGKyurao"
   },
   "outputs": [
    {
     "name": "stdout",
     "output_type": "stream",
     "text": [
      "text:  b\"This was an absolutely terrible movie. Don't be lured in by Christopher Walken or Michael Ironside. Both are great actors, but this must simply be their worst role in history. Even their great acting could not redeem this movie's ridiculous storyline. This movie is an early nineties US propaganda piece. The most pathetic scenes were those when the Columbian rebels were making their cases for revolutions. Maria Conchita Alonso appeared phony, and her pseudo-love affair with Walken was nothing but a pathetic emotional plug in a movie that was devoid of any real meaning. I am disappointed that there are movies like this, ruining actor's like Christopher Walken's good name. I could barely sit through it.\"\n",
      "label:  0\n"
     ]
    },
    {
     "name": "stderr",
     "output_type": "stream",
     "text": [
      "2021-10-01 08:17:16.536401: I tensorflow/compiler/mlir/mlir_graph_optimization_pass.cc:185] None of the MLIR Optimization Passes are enabled (registered 2)\n",
      "2021-10-01 08:17:16.553938: W tensorflow/core/kernels/data/cache_dataset_ops.cc:768] The calling iterator did not fully read the dataset being cached. In order to avoid unexpected truncation of the dataset, the partially cached contents of the dataset  will be discarded. This can happen if you have an input pipeline similar to `dataset.cache().take(k).repeat()`. You should use `dataset.take(k).cache().repeat()` instead.\n"
     ]
    }
   ],
   "source": [
    "for example, label in train_dataset.take(1):\n",
    "  print('text: ', example.numpy())\n",
    "  print('label: ', label.numpy())"
   ]
  },
  {
   "cell_type": "markdown",
   "metadata": {
    "id": "z2qVJzcEluH_"
   },
   "source": [
    "Next shuffle the data for training and create batches of these `(text, label)` pairs:"
   ]
  },
  {
   "cell_type": "code",
   "execution_count": 6,
   "metadata": {
    "execution": {
     "iopub.execute_input": "2021-08-11T17:13:47.825199Z",
     "iopub.status.busy": "2021-08-11T17:13:47.824616Z",
     "iopub.status.idle": "2021-08-11T17:13:47.826511Z",
     "shell.execute_reply": "2021-08-11T17:13:47.826893Z"
    },
    "id": "dDsCaZCDYZgm"
   },
   "outputs": [],
   "source": [
    "BUFFER_SIZE = 10000\n",
    "BATCH_SIZE = 64"
   ]
  },
  {
   "cell_type": "code",
   "execution_count": 7,
   "metadata": {
    "execution": {
     "iopub.execute_input": "2021-08-11T17:13:47.831176Z",
     "iopub.status.busy": "2021-08-11T17:13:47.830574Z",
     "iopub.status.idle": "2021-08-11T17:13:47.834930Z",
     "shell.execute_reply": "2021-08-11T17:13:47.835314Z"
    },
    "id": "VznrltNOnUc5"
   },
   "outputs": [],
   "source": [
    "train_dataset = train_dataset.shuffle(BUFFER_SIZE).batch(BATCH_SIZE).prefetch(tf.data.AUTOTUNE)\n",
    "test_dataset = test_dataset.batch(BATCH_SIZE).prefetch(tf.data.AUTOTUNE)"
   ]
  },
  {
   "cell_type": "code",
   "execution_count": 8,
   "metadata": {
    "execution": {
     "iopub.execute_input": "2021-08-11T17:13:47.839813Z",
     "iopub.status.busy": "2021-08-11T17:13:47.839254Z",
     "iopub.status.idle": "2021-08-11T17:13:48.455162Z",
     "shell.execute_reply": "2021-08-11T17:13:48.454694Z"
    },
    "id": "jqkvdcFv41wC"
   },
   "outputs": [
    {
     "name": "stdout",
     "output_type": "stream",
     "text": [
      "texts:  [b'This long winded film turns out to be less about Berkowitz and his effect on NYC, but more about painting caricatures of a certain group of Italian-Americans, known locally as \"Guidos.\" The problem is that \"Guidos\" are uninteresting, no matter what kind of story or setting they are immersed in. They are already living caricatures, so Lee only amplifies them, rather than simply portraying them.<br /><br />When someone has a caricature done of themselves, they don\\'t go home and say, \"Hey, let\\'s make the ears and nose even bigger!\" That\\'s what Lee has done in this film. The most interesting characters in the film are the two (Adrian Brody and Jennifer Esposito) who wish to escape the \"Guido\" lifestyle. Top it off with an uninteresting storyline for the characters, particularly John Leguizamo\\'s, and you get a nice film to fall asleep by. Especially considering it\\'s lengthy run time.<br /><br />One more strike against it: For someone proclaiming to be a Yankees fan, and has grown up in New York, Spike Lee should know how to spell Phil Rizzuto, which is spelled incorrectly in the closing credits.'\n",
      " b'This was a very brief episode that appeared in one of the \"Night Gallery\" show back in 1971. The episode starred Sue Lyon (of Lolita movie fame) and Joseph Campanella who play a baby sitter and a vampire, respectively. The vampire hires a baby sitter to watch his child (which appears to be some kind of werewolf or monster) while he goes out at night for blood. The baby sitter is totally oblivious to the vampire\\'s appearance when she first sees him and only starts to put two and two together when she notices that he has no reflection in the mirror, has an odd collection of books in the library on the occult, and hears strange noises while the vampire goes to talk to the child. She realizes that the man who hired her may not be what she thought he was originally. She bolts out the door, the vampire comes out looking puzzled and the episode is over. I don\\'t know what purpose it was to make such an abbreviated episode that lasted just 5 minutes. They should just have expanded the earlier episode by those same 5 minutes and skipped this one. A total wasted effort.'\n",
      " b'Maybe it\\'s just because I have an intense fear of hospitals and medical stuff, but this one got under my skin (pardon the pun). This piece is brave, not afraid to go over the top and as satisfying as they come in terms of revenge movies. Not only did I find myself feeling lots of hatred for the screwer and lots of sympathy towards the \"screwee\", I felt myself cringe and feel pangs of disgust at certain junctures which is really a rare and delightful thing for a somewhat jaded horror viewer like myself. Some parts are very reminiscant of \"Hellraiser\", but come off as tribute rather than imitation. It\\'s a heavy handed piece that does not offer the viewer much to consider, but I enjoy being assaulted by a film once and awhile. This piece brings it and doesn\\'t appologize. I liked this one a lot. Do NOT watch whilst eating pudding.']\n",
      "\n",
      "labels:  [0 0 1]\n"
     ]
    },
    {
     "name": "stderr",
     "output_type": "stream",
     "text": [
      "2021-10-01 08:17:16.642420: W tensorflow/core/kernels/data/cache_dataset_ops.cc:768] The calling iterator did not fully read the dataset being cached. In order to avoid unexpected truncation of the dataset, the partially cached contents of the dataset  will be discarded. This can happen if you have an input pipeline similar to `dataset.cache().take(k).repeat()`. You should use `dataset.take(k).cache().repeat()` instead.\n"
     ]
    }
   ],
   "source": [
    "for example, label in train_dataset.take(1):\n",
    "  print('texts: ', example.numpy()[:3])\n",
    "  print()\n",
    "  print('labels: ', label.numpy()[:3])"
   ]
  },
  {
   "cell_type": "markdown",
   "metadata": {
    "id": "s5eWCo88voPY"
   },
   "source": [
    "## Create the text encoder"
   ]
  },
  {
   "cell_type": "markdown",
   "metadata": {
    "id": "TFevcItw15P_"
   },
   "source": [
    "The raw text loaded by `tfds` needs to be processed before it can be used in a model. The simplest way to process text for training is using the `experimental.preprocessing.TextVectorization` layer. This layer has many capabilities, but this tutorial sticks to the default behavior.\n",
    "\n",
    "Create the layer, and pass the dataset's text to the layer's `.adapt` method:"
   ]
  },
  {
   "cell_type": "code",
   "execution_count": 9,
   "metadata": {
    "execution": {
     "iopub.execute_input": "2021-08-11T17:13:48.465893Z",
     "iopub.status.busy": "2021-08-11T17:13:48.459566Z",
     "iopub.status.idle": "2021-08-11T17:13:55.446014Z",
     "shell.execute_reply": "2021-08-11T17:13:55.446385Z"
    },
    "id": "uC25Lu1Yvuqy"
   },
   "outputs": [],
   "source": [
    "VOCAB_SIZE = 1000\n",
    "encoder = tf.keras.layers.experimental.preprocessing.TextVectorization(\n",
    "    max_tokens=VOCAB_SIZE)\n",
    "encoder.adapt(train_dataset.map(lambda text, label: text))"
   ]
  },
  {
   "cell_type": "markdown",
   "metadata": {
    "id": "IuQzVBbe3Ldu"
   },
   "source": [
    "The `.adapt` method sets the layer's vocabulary. Here are the first 20 tokens. After the padding and unknown tokens they're sorted by frequency: "
   ]
  },
  {
   "cell_type": "code",
   "execution_count": 10,
   "metadata": {
    "execution": {
     "iopub.execute_input": "2021-08-11T17:13:55.452657Z",
     "iopub.status.busy": "2021-08-11T17:13:55.450386Z",
     "iopub.status.idle": "2021-08-11T17:13:55.455363Z",
     "shell.execute_reply": "2021-08-11T17:13:55.455769Z"
    },
    "id": "tBoyjjWg0Ac9"
   },
   "outputs": [
    {
     "data": {
      "text/plain": [
       "array(['', '[UNK]', 'the', 'and', 'a', 'of', 'to', 'is', 'in', 'it', 'i',\n",
       "       'this', 'that', 'br', 'was', 'as', 'for', 'with', 'movie', 'but'],\n",
       "      dtype='<U14')"
      ]
     },
     "execution_count": 10,
     "metadata": {},
     "output_type": "execute_result"
    }
   ],
   "source": [
    "vocab = np.array(encoder.get_vocabulary())\n",
    "vocab[:20]"
   ]
  },
  {
   "cell_type": "markdown",
   "metadata": {
    "id": "mjId5pua3jHQ"
   },
   "source": [
    "Once the vocabulary is set, the layer can encode text into indices. The tensors of indices are 0-padded to the longest sequence in the batch (unless you set a fixed `output_sequence_length`):"
   ]
  },
  {
   "cell_type": "code",
   "execution_count": 11,
   "metadata": {
    "execution": {
     "iopub.execute_input": "2021-08-11T17:13:55.459826Z",
     "iopub.status.busy": "2021-08-11T17:13:55.459264Z",
     "iopub.status.idle": "2021-08-11T17:13:55.471870Z",
     "shell.execute_reply": "2021-08-11T17:13:55.472220Z"
    },
    "id": "RGc7C9WiwRWs"
   },
   "outputs": [
    {
     "data": {
      "text/plain": [
       "array([[ 11, 206,   1, ...,   0,   0,   0],\n",
       "       [ 11,  14,   4, ...,   0,   0,   0],\n",
       "       [270,  30,  41, ...,   0,   0,   0]])"
      ]
     },
     "execution_count": 11,
     "metadata": {},
     "output_type": "execute_result"
    }
   ],
   "source": [
    "encoded_example = encoder(example)[:3].numpy()\n",
    "encoded_example"
   ]
  },
  {
   "cell_type": "markdown",
   "metadata": {
    "id": "F5cjz0bS39IN"
   },
   "source": [
    "With the default settings, the process is not completely reversible. There are three main reasons for that:\n",
    "\n",
    "1. The default value for `preprocessing.TextVectorization`'s `standardize` argument is `\"lower_and_strip_punctuation\"`.\n",
    "2. The limited vocabulary size and lack of character-based fallback results in some unknown tokens."
   ]
  },
  {
   "cell_type": "code",
   "execution_count": 12,
   "metadata": {
    "execution": {
     "iopub.execute_input": "2021-08-11T17:13:55.476466Z",
     "iopub.status.busy": "2021-08-11T17:13:55.475927Z",
     "iopub.status.idle": "2021-08-11T17:13:55.481986Z",
     "shell.execute_reply": "2021-08-11T17:13:55.481559Z"
    },
    "id": "N_tD0QY5wXaK"
   },
   "outputs": [
    {
     "name": "stdout",
     "output_type": "stream",
     "text": [
      "Original:  b'This long winded film turns out to be less about Berkowitz and his effect on NYC, but more about painting caricatures of a certain group of Italian-Americans, known locally as \"Guidos.\" The problem is that \"Guidos\" are uninteresting, no matter what kind of story or setting they are immersed in. They are already living caricatures, so Lee only amplifies them, rather than simply portraying them.<br /><br />When someone has a caricature done of themselves, they don\\'t go home and say, \"Hey, let\\'s make the ears and nose even bigger!\" That\\'s what Lee has done in this film. The most interesting characters in the film are the two (Adrian Brody and Jennifer Esposito) who wish to escape the \"Guido\" lifestyle. Top it off with an uninteresting storyline for the characters, particularly John Leguizamo\\'s, and you get a nice film to fall asleep by. Especially considering it\\'s lengthy run time.<br /><br />One more strike against it: For someone proclaiming to be a Yankees fan, and has grown up in New York, Spike Lee should know how to spell Phil Rizzuto, which is spelled incorrectly in the closing credits.'\n",
      "Round-trip:  this long [UNK] film turns out to be less about [UNK] and his effect on [UNK] but more about [UNK] [UNK] of a certain group of [UNK] known [UNK] as [UNK] the problem is that [UNK] are [UNK] no matter what kind of story or setting they are [UNK] in they are already living [UNK] so lee only [UNK] them rather than simply [UNK] [UNK] br when someone has a [UNK] done of themselves they dont go home and say [UNK] lets make the [UNK] and [UNK] even [UNK] thats what lee has done in this film the most interesting characters in the film are the two [UNK] [UNK] and [UNK] [UNK] who wish to [UNK] the [UNK] [UNK] top it off with an [UNK] storyline for the characters particularly john [UNK] and you get a nice film to fall [UNK] by especially [UNK] its [UNK] run [UNK] br one more [UNK] against it for someone [UNK] to be a [UNK] fan and has [UNK] up in new york [UNK] lee should know how to [UNK] [UNK] [UNK] which is [UNK] [UNK] in the [UNK] credits                                                                                                                                                                                                                                                                                                                                                                                                                                                                    \n",
      "\n",
      "Original:  b'This was a very brief episode that appeared in one of the \"Night Gallery\" show back in 1971. The episode starred Sue Lyon (of Lolita movie fame) and Joseph Campanella who play a baby sitter and a vampire, respectively. The vampire hires a baby sitter to watch his child (which appears to be some kind of werewolf or monster) while he goes out at night for blood. The baby sitter is totally oblivious to the vampire\\'s appearance when she first sees him and only starts to put two and two together when she notices that he has no reflection in the mirror, has an odd collection of books in the library on the occult, and hears strange noises while the vampire goes to talk to the child. She realizes that the man who hired her may not be what she thought he was originally. She bolts out the door, the vampire comes out looking puzzled and the episode is over. I don\\'t know what purpose it was to make such an abbreviated episode that lasted just 5 minutes. They should just have expanded the earlier episode by those same 5 minutes and skipped this one. A total wasted effort.'\n",
      "Round-trip:  this was a very [UNK] episode that [UNK] in one of the night [UNK] show back in [UNK] the episode [UNK] [UNK] [UNK] of [UNK] movie [UNK] and [UNK] [UNK] who play a baby [UNK] and a [UNK] [UNK] the [UNK] [UNK] a baby [UNK] to watch his child which appears to be some kind of [UNK] or monster while he goes out at night for blood the baby [UNK] is totally [UNK] to the [UNK] [UNK] when she first [UNK] him and only starts to put two and two together when she [UNK] that he has no [UNK] in the [UNK] has an [UNK] [UNK] of [UNK] in the [UNK] on the [UNK] and [UNK] strange [UNK] while the [UNK] goes to talk to the child she [UNK] that the man who [UNK] her may not be what she thought he was [UNK] she [UNK] out the [UNK] the [UNK] comes out looking [UNK] and the episode is over i dont know what [UNK] it was to make such an [UNK] episode that [UNK] just 5 minutes they should just have [UNK] the earlier episode by those same 5 minutes and [UNK] this one a total [UNK] effort                                                                                                                                                                                                                                                                                                                                                                                                                                                       \n",
      "\n",
      "Original:  b'Maybe it\\'s just because I have an intense fear of hospitals and medical stuff, but this one got under my skin (pardon the pun). This piece is brave, not afraid to go over the top and as satisfying as they come in terms of revenge movies. Not only did I find myself feeling lots of hatred for the screwer and lots of sympathy towards the \"screwee\", I felt myself cringe and feel pangs of disgust at certain junctures which is really a rare and delightful thing for a somewhat jaded horror viewer like myself. Some parts are very reminiscant of \"Hellraiser\", but come off as tribute rather than imitation. It\\'s a heavy handed piece that does not offer the viewer much to consider, but I enjoy being assaulted by a film once and awhile. This piece brings it and doesn\\'t appologize. I liked this one a lot. Do NOT watch whilst eating pudding.'\n",
      "Round-trip:  maybe its just because i have an [UNK] [UNK] of [UNK] and [UNK] stuff but this one got under my [UNK] [UNK] the [UNK] this piece is [UNK] not [UNK] to go over the top and as [UNK] as they come in [UNK] of [UNK] movies not only did i find myself feeling lots of [UNK] for the [UNK] and lots of [UNK] towards the [UNK] i felt myself [UNK] and feel [UNK] of [UNK] at certain [UNK] which is really a [UNK] and [UNK] thing for a somewhat [UNK] horror viewer like myself some parts are very [UNK] of [UNK] but come off as [UNK] rather than [UNK] its a [UNK] [UNK] piece that does not [UNK] the viewer much to [UNK] but i enjoy being [UNK] by a film once and [UNK] this piece brings it and doesnt [UNK] i liked this one a lot do not watch [UNK] [UNK] [UNK]                                                                                                                                                                                                                                                                                                                                                                                                                                                                                                     \n",
      "\n"
     ]
    }
   ],
   "source": [
    "for n in range(3):\n",
    "  print(\"Original: \", example[n].numpy())\n",
    "  print(\"Round-trip: \", \" \".join(vocab[encoded_example[n]]))\n",
    "  print()"
   ]
  },
  {
   "cell_type": "markdown",
   "metadata": {
    "id": "bjUqGVBxGw-t"
   },
   "source": [
    "## Create the model"
   ]
  },
  {
   "cell_type": "markdown",
   "metadata": {
    "id": "W7zsmInBOCPO"
   },
   "source": [
    "![A drawing of the information flow in the model](images/bidirectional.png)"
   ]
  },
  {
   "cell_type": "markdown",
   "metadata": {
    "id": "bgs6nnSTGw-t"
   },
   "source": [
    "Above is a diagram of the model. \n",
    "\n",
    "1. This model can be build as a `tf.keras.Sequential`.\n",
    "\n",
    "2. The first layer is the `encoder`, which converts the text to a sequence of token indices.\n",
    "\n",
    "3. After the encoder is an embedding layer. An embedding layer stores one vector per word. When called, it converts the sequences of word indices to sequences of vectors. These vectors are trainable. After training (on enough data), words with similar meanings often have similar vectors.\n",
    "\n",
    "  This index-lookup is much more efficient than the equivalent operation of passing a one-hot encoded vector through a `tf.keras.layers.Dense` layer.\n",
    "\n",
    "4. A recurrent neural network (RNN) processes sequence input by iterating through the elements. RNNs pass the outputs from one timestep to their input on the next timestep.\n",
    "\n",
    "  The `tf.keras.layers.Bidirectional` wrapper can also be used with an RNN layer. This propagates the input forward and backwards through the RNN layer and then concatenates the final output. \n",
    "\n",
    "  * The main advantage of a bidirectional RNN is that the signal from the beginning of the input doesn't need to be processed all the way through every timestep to affect the output.  \n",
    "\n",
    "  * The main disadvantage of a bidirectional RNN is that you can't efficiently stream predictions as words are being added to the end.\n",
    "\n",
    "5. After the RNN has converted the sequence to a single vector the two `layers.Dense` do some final processing, and convert from this vector representation to a single logit as the classification output. \n"
   ]
  },
  {
   "cell_type": "markdown",
   "metadata": {
    "id": "V4fodCI7soQi"
   },
   "source": [
    "The code to implement this is below:"
   ]
  },
  {
   "cell_type": "code",
   "execution_count": 13,
   "metadata": {
    "execution": {
     "iopub.execute_input": "2021-08-11T17:13:55.501123Z",
     "iopub.status.busy": "2021-08-11T17:13:55.486455Z",
     "iopub.status.idle": "2021-08-11T17:13:55.505663Z",
     "shell.execute_reply": "2021-08-11T17:13:55.505224Z"
    },
    "id": "LwfoBkmRYcP3"
   },
   "outputs": [],
   "source": [
    "model = tf.keras.Sequential([\n",
    "    encoder,\n",
    "    tf.keras.layers.Embedding(\n",
    "        input_dim=len(encoder.get_vocabulary()),\n",
    "        output_dim=64,\n",
    "        # Use masking to handle the variable sequence lengths\n",
    "        mask_zero=True),\n",
    "    tf.keras.layers.Bidirectional(tf.keras.layers.LSTM(64)),\n",
    "    tf.keras.layers.Dense(64, activation='relu'),\n",
    "    tf.keras.layers.Dense(1)\n",
    "])"
   ]
  },
  {
   "cell_type": "markdown",
   "metadata": {
    "id": "QIGmIGkkouUb"
   },
   "source": [
    "Please note that Keras sequential model is used here since all the layers in the model only have single input and produce single output. In case you want to use stateful RNN layer, you might want to build your model with Keras functional API or model subclassing so that you can retrieve and reuse the RNN layer states. Please check [Keras RNN guide](https://www.tensorflow.org/guide/keras/rnn#rnn_state_reuse) for more details."
   ]
  },
  {
   "cell_type": "markdown",
   "metadata": {
    "id": "kF-PsCk1LwjY"
   },
   "source": [
    "The embedding layer [uses masking](https://www.tensorflow.org/guide/keras/masking_and_padding) to handle the varying sequence-lengths. All the layers after the `Embedding` support masking:"
   ]
  },
  {
   "cell_type": "code",
   "execution_count": 14,
   "metadata": {
    "execution": {
     "iopub.execute_input": "2021-08-11T17:13:55.510225Z",
     "iopub.status.busy": "2021-08-11T17:13:55.509609Z",
     "iopub.status.idle": "2021-08-11T17:13:55.512371Z",
     "shell.execute_reply": "2021-08-11T17:13:55.511939Z"
    },
    "id": "87a8-CwfKebw"
   },
   "outputs": [
    {
     "name": "stdout",
     "output_type": "stream",
     "text": [
      "[False, True, True, True, True]\n"
     ]
    }
   ],
   "source": [
    "print([layer.supports_masking for layer in model.layers])"
   ]
  },
  {
   "cell_type": "markdown",
   "metadata": {
    "id": "ZlS0iaUIWLpI"
   },
   "source": [
    "To confirm that this works as expected, evaluate a sentence twice. First, alone so there's no padding to mask:"
   ]
  },
  {
   "cell_type": "code",
   "execution_count": 15,
   "metadata": {
    "execution": {
     "iopub.execute_input": "2021-08-11T17:13:55.517577Z",
     "iopub.status.busy": "2021-08-11T17:13:55.516547Z",
     "iopub.status.idle": "2021-08-11T17:14:03.520163Z",
     "shell.execute_reply": "2021-08-11T17:14:03.520546Z"
    },
    "id": "O41gw3KfWHus"
   },
   "outputs": [
    {
     "name": "stderr",
     "output_type": "stream",
     "text": [
      "2021-10-01 08:17:20.436756: I tensorflow/stream_executor/cuda/cuda_dnn.cc:369] Loaded cuDNN version 8204\n"
     ]
    },
    {
     "name": "stdout",
     "output_type": "stream",
     "text": [
      "[0.00420673]\n"
     ]
    },
    {
     "name": "stderr",
     "output_type": "stream",
     "text": [
      "2021-10-01 08:17:21.240425: I tensorflow/stream_executor/cuda/cuda_blas.cc:1760] TensorFloat-32 will be used for the matrix multiplication. This will only be logged once.\n"
     ]
    }
   ],
   "source": [
    "# predict on a sample text without padding.\n",
    "\n",
    "sample_text = ('The movie was cool. The animation and the graphics '\n",
    "               'were out of this world. I would recommend this movie.')\n",
    "predictions = model.predict(np.array([sample_text]))\n",
    "print(predictions[0])"
   ]
  },
  {
   "cell_type": "markdown",
   "metadata": {
    "id": "K0VQmGnEWcuz"
   },
   "source": [
    "Now, evaluate it again in a batch with a longer sentence. The result should be identical:"
   ]
  },
  {
   "cell_type": "code",
   "execution_count": 16,
   "metadata": {
    "execution": {
     "iopub.execute_input": "2021-08-11T17:14:03.525764Z",
     "iopub.status.busy": "2021-08-11T17:14:03.525170Z",
     "iopub.status.idle": "2021-08-11T17:14:03.671347Z",
     "shell.execute_reply": "2021-08-11T17:14:03.671697Z"
    },
    "id": "UIgpuTeFNDzq"
   },
   "outputs": [
    {
     "name": "stdout",
     "output_type": "stream",
     "text": [
      "[0.00420673]\n"
     ]
    }
   ],
   "source": [
    "# predict on a sample text with padding\n",
    "\n",
    "padding = \"the \" * 2000\n",
    "predictions = model.predict(np.array([sample_text, padding]))\n",
    "print(predictions[0])"
   ]
  },
  {
   "cell_type": "markdown",
   "metadata": {
    "id": "sRI776ZcH3Tf"
   },
   "source": [
    "Compile the Keras model to configure the training process:"
   ]
  },
  {
   "cell_type": "code",
   "execution_count": 17,
   "metadata": {
    "execution": {
     "iopub.execute_input": "2021-08-11T17:14:03.680359Z",
     "iopub.status.busy": "2021-08-11T17:14:03.679471Z",
     "iopub.status.idle": "2021-08-11T17:14:03.684947Z",
     "shell.execute_reply": "2021-08-11T17:14:03.685351Z"
    },
    "id": "kj2xei41YZjC"
   },
   "outputs": [],
   "source": [
    "model.compile(loss=tf.keras.losses.BinaryCrossentropy(from_logits=True),\n",
    "              optimizer=tf.keras.optimizers.Adam(1e-4),\n",
    "              metrics=['accuracy'])"
   ]
  },
  {
   "cell_type": "markdown",
   "metadata": {
    "id": "zIwH3nto596k"
   },
   "source": [
    "## Train the model"
   ]
  },
  {
   "cell_type": "code",
   "execution_count": 18,
   "metadata": {
    "execution": {
     "iopub.execute_input": "2021-08-11T17:14:03.689863Z",
     "iopub.status.busy": "2021-08-11T17:14:03.689209Z",
     "iopub.status.idle": "2021-08-11T17:19:34.070232Z",
     "shell.execute_reply": "2021-08-11T17:19:34.069781Z"
    },
    "id": "hw86wWS4YgR2"
   },
   "outputs": [
    {
     "name": "stdout",
     "output_type": "stream",
     "text": [
      "Epoch 1/10\n",
      "391/391 [==============================] - 19s 40ms/step - loss: 0.6459 - accuracy: 0.5610 - val_loss: 0.5339 - val_accuracy: 0.7302\n",
      "Epoch 2/10\n",
      "  3/391 [..............................] - ETA: 14s - loss: 0.4984 - accuracy: 0.7500"
     ]
    },
    {
     "name": "stderr",
     "output_type": "stream",
     "text": [
      "2021-10-01 08:17:40.037363: W tensorflow/core/kernels/data/cache_dataset_ops.cc:768] The calling iterator did not fully read the dataset being cached. In order to avoid unexpected truncation of the dataset, the partially cached contents of the dataset  will be discarded. This can happen if you have an input pipeline similar to `dataset.cache().take(k).repeat()`. You should use `dataset.take(k).cache().repeat()` instead.\n"
     ]
    },
    {
     "name": "stdout",
     "output_type": "stream",
     "text": [
      "391/391 [==============================] - 15s 38ms/step - loss: 0.4318 - accuracy: 0.7999 - val_loss: 0.3988 - val_accuracy: 0.8188\n",
      "Epoch 3/10\n",
      "  3/391 [..............................] - ETA: 13s - loss: 0.3566 - accuracy: 0.8490"
     ]
    },
    {
     "name": "stderr",
     "output_type": "stream",
     "text": [
      "2021-10-01 08:17:54.957684: W tensorflow/core/kernels/data/cache_dataset_ops.cc:768] The calling iterator did not fully read the dataset being cached. In order to avoid unexpected truncation of the dataset, the partially cached contents of the dataset  will be discarded. This can happen if you have an input pipeline similar to `dataset.cache().take(k).repeat()`. You should use `dataset.take(k).cache().repeat()` instead.\n"
     ]
    },
    {
     "name": "stdout",
     "output_type": "stream",
     "text": [
      "391/391 [==============================] - 15s 38ms/step - loss: 0.3601 - accuracy: 0.8412 - val_loss: 0.3589 - val_accuracy: 0.8323\n",
      "Epoch 4/10\n",
      "  3/391 [..............................] - ETA: 14s - loss: 0.3273 - accuracy: 0.8646"
     ]
    },
    {
     "name": "stderr",
     "output_type": "stream",
     "text": [
      "2021-10-01 08:18:09.940955: W tensorflow/core/kernels/data/cache_dataset_ops.cc:768] The calling iterator did not fully read the dataset being cached. In order to avoid unexpected truncation of the dataset, the partially cached contents of the dataset  will be discarded. This can happen if you have an input pipeline similar to `dataset.cache().take(k).repeat()`. You should use `dataset.take(k).cache().repeat()` instead.\n"
     ]
    },
    {
     "name": "stdout",
     "output_type": "stream",
     "text": [
      "391/391 [==============================] - 15s 38ms/step - loss: 0.3320 - accuracy: 0.8554 - val_loss: 0.3391 - val_accuracy: 0.8438\n",
      "Epoch 5/10\n",
      "  3/391 [..............................] - ETA: 13s - loss: 0.3520 - accuracy: 0.8646"
     ]
    },
    {
     "name": "stderr",
     "output_type": "stream",
     "text": [
      "2021-10-01 08:18:24.928703: W tensorflow/core/kernels/data/cache_dataset_ops.cc:768] The calling iterator did not fully read the dataset being cached. In order to avoid unexpected truncation of the dataset, the partially cached contents of the dataset  will be discarded. This can happen if you have an input pipeline similar to `dataset.cache().take(k).repeat()`. You should use `dataset.take(k).cache().repeat()` instead.\n"
     ]
    },
    {
     "name": "stdout",
     "output_type": "stream",
     "text": [
      "391/391 [==============================] - 15s 38ms/step - loss: 0.3186 - accuracy: 0.8631 - val_loss: 0.3437 - val_accuracy: 0.8557\n",
      "Epoch 6/10\n",
      "  3/391 [..............................] - ETA: 13s - loss: 0.3815 - accuracy: 0.8281"
     ]
    },
    {
     "name": "stderr",
     "output_type": "stream",
     "text": [
      "2021-10-01 08:18:39.786528: W tensorflow/core/kernels/data/cache_dataset_ops.cc:768] The calling iterator did not fully read the dataset being cached. In order to avoid unexpected truncation of the dataset, the partially cached contents of the dataset  will be discarded. This can happen if you have an input pipeline similar to `dataset.cache().take(k).repeat()`. You should use `dataset.take(k).cache().repeat()` instead.\n"
     ]
    },
    {
     "name": "stdout",
     "output_type": "stream",
     "text": [
      "391/391 [==============================] - 15s 39ms/step - loss: 0.3112 - accuracy: 0.8663 - val_loss: 0.3295 - val_accuracy: 0.8500\n",
      "Epoch 7/10\n",
      "  3/391 [..............................] - ETA: 15s - loss: 0.2377 - accuracy: 0.9062"
     ]
    },
    {
     "name": "stderr",
     "output_type": "stream",
     "text": [
      "2021-10-01 08:18:54.941486: W tensorflow/core/kernels/data/cache_dataset_ops.cc:768] The calling iterator did not fully read the dataset being cached. In order to avoid unexpected truncation of the dataset, the partially cached contents of the dataset  will be discarded. This can happen if you have an input pipeline similar to `dataset.cache().take(k).repeat()`. You should use `dataset.take(k).cache().repeat()` instead.\n"
     ]
    },
    {
     "name": "stdout",
     "output_type": "stream",
     "text": [
      "391/391 [==============================] - 15s 37ms/step - loss: 0.3058 - accuracy: 0.8708 - val_loss: 0.3235 - val_accuracy: 0.8578\n",
      "Epoch 8/10\n",
      "  5/391 [..............................] - ETA: 11s - loss: 0.2917 - accuracy: 0.8750"
     ]
    },
    {
     "name": "stderr",
     "output_type": "stream",
     "text": [
      "2021-10-01 08:19:09.605364: W tensorflow/core/kernels/data/cache_dataset_ops.cc:768] The calling iterator did not fully read the dataset being cached. In order to avoid unexpected truncation of the dataset, the partially cached contents of the dataset  will be discarded. This can happen if you have an input pipeline similar to `dataset.cache().take(k).repeat()`. You should use `dataset.take(k).cache().repeat()` instead.\n"
     ]
    },
    {
     "name": "stdout",
     "output_type": "stream",
     "text": [
      "391/391 [==============================] - 15s 38ms/step - loss: 0.3032 - accuracy: 0.8714 - val_loss: 0.3256 - val_accuracy: 0.8521\n",
      "Epoch 9/10\n",
      "  3/391 [..............................] - ETA: 13s - loss: 0.3683 - accuracy: 0.8750"
     ]
    },
    {
     "name": "stderr",
     "output_type": "stream",
     "text": [
      "2021-10-01 08:19:24.374149: W tensorflow/core/kernels/data/cache_dataset_ops.cc:768] The calling iterator did not fully read the dataset being cached. In order to avoid unexpected truncation of the dataset, the partially cached contents of the dataset  will be discarded. This can happen if you have an input pipeline similar to `dataset.cache().take(k).repeat()`. You should use `dataset.take(k).cache().repeat()` instead.\n"
     ]
    },
    {
     "name": "stdout",
     "output_type": "stream",
     "text": [
      "391/391 [==============================] - 15s 39ms/step - loss: 0.3014 - accuracy: 0.8716 - val_loss: 0.3337 - val_accuracy: 0.8479\n",
      "Epoch 10/10\n",
      "  3/391 [..............................] - ETA: 15s - loss: 0.2719 - accuracy: 0.8802"
     ]
    },
    {
     "name": "stderr",
     "output_type": "stream",
     "text": [
      "2021-10-01 08:19:39.478990: W tensorflow/core/kernels/data/cache_dataset_ops.cc:768] The calling iterator did not fully read the dataset being cached. In order to avoid unexpected truncation of the dataset, the partially cached contents of the dataset  will be discarded. This can happen if you have an input pipeline similar to `dataset.cache().take(k).repeat()`. You should use `dataset.take(k).cache().repeat()` instead.\n"
     ]
    },
    {
     "name": "stdout",
     "output_type": "stream",
     "text": [
      "391/391 [==============================] - 15s 39ms/step - loss: 0.2963 - accuracy: 0.8759 - val_loss: 0.3303 - val_accuracy: 0.8448\n"
     ]
    },
    {
     "name": "stderr",
     "output_type": "stream",
     "text": [
      "2021-10-01 08:19:54.579923: W tensorflow/core/kernels/data/cache_dataset_ops.cc:768] The calling iterator did not fully read the dataset being cached. In order to avoid unexpected truncation of the dataset, the partially cached contents of the dataset  will be discarded. This can happen if you have an input pipeline similar to `dataset.cache().take(k).repeat()`. You should use `dataset.take(k).cache().repeat()` instead.\n"
     ]
    }
   ],
   "source": [
    "history = model.fit(train_dataset, epochs=10,\n",
    "                    validation_data=test_dataset,\n",
    "                    validation_steps=30)"
   ]
  },
  {
   "cell_type": "code",
   "execution_count": 19,
   "metadata": {
    "execution": {
     "iopub.execute_input": "2021-08-11T17:19:34.074870Z",
     "iopub.status.busy": "2021-08-11T17:19:34.074249Z",
     "iopub.status.idle": "2021-08-11T17:19:49.445447Z",
     "shell.execute_reply": "2021-08-11T17:19:49.445001Z"
    },
    "id": "BaNbXi43YgUT"
   },
   "outputs": [
    {
     "name": "stdout",
     "output_type": "stream",
     "text": [
      "391/391 [==============================] - 6s 16ms/step - loss: 0.3219 - accuracy: 0.8486\n",
      "Test Loss: 0.3219422698020935\n",
      "Test Accuracy: 0.8485599756240845\n"
     ]
    }
   ],
   "source": [
    "test_loss, test_acc = model.evaluate(test_dataset)\n",
    "\n",
    "print('Test Loss:', test_loss)\n",
    "print('Test Accuracy:', test_acc)"
   ]
  },
  {
   "cell_type": "code",
   "execution_count": 20,
   "metadata": {
    "execution": {
     "iopub.execute_input": "2021-08-11T17:19:49.463640Z",
     "iopub.status.busy": "2021-08-11T17:19:49.454122Z",
     "iopub.status.idle": "2021-08-11T17:19:49.733860Z",
     "shell.execute_reply": "2021-08-11T17:19:49.734296Z"
    },
    "id": "OZmwt_mzaQJk"
   },
   "outputs": [
    {
     "data": {
      "text/plain": [
       "(0.0, 0.663350661098957)"
      ]
     },
     "execution_count": 20,
     "metadata": {},
     "output_type": "execute_result"
    },
    {
     "data": {
      "image/png": "[encoded data removed]",
      "text/plain": [
       "<Figure size 1152x576 with 2 Axes>"
      ]
     },
     "metadata": {
      "needs_background": "light"
     },
     "output_type": "display_data"
    }
   ],
   "source": [
    "plt.figure(figsize=(16, 8))\n",
    "plt.subplot(1, 2, 1)\n",
    "plot_graphs(history, 'accuracy')\n",
    "plt.ylim(None, 1)\n",
    "plt.subplot(1, 2, 2)\n",
    "plot_graphs(history, 'loss')\n",
    "plt.ylim(0, None)"
   ]
  },
  {
   "cell_type": "markdown",
   "metadata": {
    "id": "DwSE_386uhxD"
   },
   "source": [
    "Run a prediction on a new sentence:\n",
    "\n",
    "If the prediction is >= 0.0, it is positive else it is negative."
   ]
  },
  {
   "cell_type": "code",
   "execution_count": 21,
   "metadata": {
    "execution": {
     "iopub.execute_input": "2021-08-11T17:19:49.738583Z",
     "iopub.status.busy": "2021-08-11T17:19:49.736908Z",
     "iopub.status.idle": "2021-08-11T17:19:51.515652Z",
     "shell.execute_reply": "2021-08-11T17:19:51.516033Z"
    },
    "id": "ZXgfQSgRW6zU"
   },
   "outputs": [],
   "source": [
    "sample_text = ('The movie was cool. The animation and the graphics '\n",
    "               'were out of this world. I would recommend this movie.')\n",
    "predictions = model.predict(np.array([sample_text]))"
   ]
  },
  {
   "cell_type": "markdown",
   "metadata": {
    "id": "7g1evcaRpTKm"
   },
   "source": [
    "## Stack two or more LSTM layers\n",
    "\n",
    "Keras recurrent layers have two available modes that are controlled by the `return_sequences` constructor argument:\n",
    "\n",
    "* If `False` it returns only the last output for each input sequence (a 2D tensor of shape (batch_size, output_features)). This is the default, used in the previous model.\n",
    "\n",
    "* If `True` the full sequences of successive outputs for each timestep is returned (a 3D tensor of shape `(batch_size, timesteps, output_features)`).\n",
    "\n",
    "Here is what the flow of information looks like with `return_sequences=True`:\n",
    "\n",
    "![layered_bidirectional](images/layered_bidirectional.png)"
   ]
  },
  {
   "cell_type": "markdown",
   "metadata": {
    "id": "wbSClCrG1z8l"
   },
   "source": [
    "The interesting thing about using an `RNN` with `return_sequences=True` is that the output still has 3-axes, like the input, so it can be passed to another RNN layer, like this:"
   ]
  },
  {
   "cell_type": "code",
   "execution_count": 22,
   "metadata": {
    "execution": {
     "iopub.execute_input": "2021-08-11T17:19:51.539413Z",
     "iopub.status.busy": "2021-08-11T17:19:51.537065Z",
     "iopub.status.idle": "2021-08-11T17:19:51.543959Z",
     "shell.execute_reply": "2021-08-11T17:19:51.544343Z"
    },
    "id": "jo1jjO3vn0jo"
   },
   "outputs": [],
   "source": [
    "model = tf.keras.Sequential([\n",
    "    encoder,\n",
    "    tf.keras.layers.Embedding(len(encoder.get_vocabulary()), 64, mask_zero=True),\n",
    "    tf.keras.layers.Bidirectional(tf.keras.layers.LSTM(64,  return_sequences=True)),\n",
    "    tf.keras.layers.Bidirectional(tf.keras.layers.LSTM(32)),\n",
    "    tf.keras.layers.Dense(64, activation='relu'),\n",
    "    tf.keras.layers.Dropout(0.5),\n",
    "    tf.keras.layers.Dense(1)\n",
    "])"
   ]
  },
  {
   "cell_type": "code",
   "execution_count": 23,
   "metadata": {
    "execution": {
     "iopub.execute_input": "2021-08-11T17:19:51.550992Z",
     "iopub.status.busy": "2021-08-11T17:19:51.550274Z",
     "iopub.status.idle": "2021-08-11T17:19:51.553906Z",
     "shell.execute_reply": "2021-08-11T17:19:51.554312Z"
    },
    "id": "hEPV5jVGp-is"
   },
   "outputs": [],
   "source": [
    "model.compile(loss=tf.keras.losses.BinaryCrossentropy(from_logits=True),\n",
    "              optimizer=tf.keras.optimizers.Adam(1e-4),\n",
    "              metrics=['accuracy'])"
   ]
  },
  {
   "cell_type": "code",
   "execution_count": 24,
   "metadata": {
    "execution": {
     "iopub.execute_input": "2021-08-11T17:19:51.558475Z",
     "iopub.status.busy": "2021-08-11T17:19:51.557922Z",
     "iopub.status.idle": "2021-08-11T17:29:24.791484Z",
     "shell.execute_reply": "2021-08-11T17:29:24.790951Z"
    },
    "id": "LeSE-YjdqAeN"
   },
   "outputs": [
    {
     "name": "stdout",
     "output_type": "stream",
     "text": [
      "Epoch 1/10\n",
      "391/391 [==============================] - 36s 76ms/step - loss: 0.6223 - accuracy: 0.5906 - val_loss: 0.4397 - val_accuracy: 0.7812\n",
      "Epoch 2/10\n",
      "391/391 [==============================] - 28s 71ms/step - loss: 0.3778 - accuracy: 0.8329 - val_loss: 0.3582 - val_accuracy: 0.8443\n",
      "Epoch 3/10\n",
      "391/391 [==============================] - 28s 73ms/step - loss: 0.3330 - accuracy: 0.8566 - val_loss: 0.3312 - val_accuracy: 0.8583\n",
      "Epoch 4/10\n",
      "391/391 [==============================] - 28s 72ms/step - loss: 0.3214 - accuracy: 0.8611 - val_loss: 0.3309 - val_accuracy: 0.8490\n",
      "Epoch 5/10\n",
      "391/391 [==============================] - 28s 72ms/step - loss: 0.3135 - accuracy: 0.8650 - val_loss: 0.3367 - val_accuracy: 0.8328\n",
      "Epoch 6/10\n",
      "391/391 [==============================] - 28s 72ms/step - loss: 0.3098 - accuracy: 0.8647 - val_loss: 0.3305 - val_accuracy: 0.8625\n",
      "Epoch 7/10\n",
      "391/391 [==============================] - 28s 72ms/step - loss: 0.3021 - accuracy: 0.8685 - val_loss: 0.3213 - val_accuracy: 0.8495\n",
      "Epoch 8/10\n",
      "391/391 [==============================] - 28s 72ms/step - loss: 0.3011 - accuracy: 0.8716 - val_loss: 0.3267 - val_accuracy: 0.8625\n",
      "Epoch 9/10\n",
      "391/391 [==============================] - 28s 71ms/step - loss: 0.2959 - accuracy: 0.8711 - val_loss: 0.3185 - val_accuracy: 0.8646\n",
      "Epoch 10/10\n",
      "391/391 [==============================] - 28s 71ms/step - loss: 0.2969 - accuracy: 0.8708 - val_loss: 0.3225 - val_accuracy: 0.8552\n"
     ]
    }
   ],
   "source": [
    "history = model.fit(train_dataset, epochs=10,\n",
    "                    validation_data=test_dataset,\n",
    "                    validation_steps=30)"
   ]
  },
  {
   "cell_type": "code",
   "execution_count": 25,
   "metadata": {
    "execution": {
     "iopub.execute_input": "2021-08-11T17:29:24.796370Z",
     "iopub.status.busy": "2021-08-11T17:29:24.795639Z",
     "iopub.status.idle": "2021-08-11T17:29:51.093266Z",
     "shell.execute_reply": "2021-08-11T17:29:51.093643Z"
    },
    "id": "_LdwilM1qPM3"
   },
   "outputs": [
    {
     "name": "stdout",
     "output_type": "stream",
     "text": [
      "391/391 [==============================] - 12s 30ms/step - loss: 0.3182 - accuracy: 0.8544\n",
      "Test Loss: 0.3181517720222473\n",
      "Test Accuracy: 0.8543599843978882\n"
     ]
    }
   ],
   "source": [
    "test_loss, test_acc = model.evaluate(test_dataset)\n",
    "\n",
    "print('Test Loss:', test_loss)\n",
    "print('Test Accuracy:', test_acc)"
   ]
  },
  {
   "cell_type": "code",
   "execution_count": 26,
   "metadata": {
    "execution": {
     "iopub.execute_input": "2021-08-11T17:29:51.098152Z",
     "iopub.status.busy": "2021-08-11T17:29:51.097582Z",
     "iopub.status.idle": "2021-08-11T17:29:54.637639Z",
     "shell.execute_reply": "2021-08-11T17:29:54.638028Z"
    },
    "id": "ykUKnAoqbycW"
   },
   "outputs": [
    {
     "name": "stdout",
     "output_type": "stream",
     "text": [
      "[[-1.7831335]]\n"
     ]
    }
   ],
   "source": [
    "# predict on a sample text without padding.\n",
    "\n",
    "sample_text = ('The movie was not good. The animation and the graphics '\n",
    "               'were terrible. I would not recommend this movie.')\n",
    "predictions = model.predict(np.array([sample_text]))\n",
    "print(predictions)"
   ]
  },
  {
   "cell_type": "code",
   "execution_count": 27,
   "metadata": {
    "execution": {
     "iopub.execute_input": "2021-08-11T17:29:54.686268Z",
     "iopub.status.busy": "2021-08-11T17:29:54.657436Z",
     "iopub.status.idle": "2021-08-11T17:29:54.892607Z",
     "shell.execute_reply": "2021-08-11T17:29:54.892995Z"
    },
    "id": "_YYub0EDtwCu"
   },
   "outputs": [
    {
     "data": {
      "image/png": "[encoded data removed]",
      "text/plain": [
       "<Figure size 1152x432 with 2 Axes>"
      ]
     },
     "metadata": {
      "needs_background": "light"
     },
     "output_type": "display_data"
    }
   ],
   "source": [
    "plt.figure(figsize=(16, 6))\n",
    "plt.subplot(1, 2, 1)\n",
    "plot_graphs(history, 'accuracy')\n",
    "plt.subplot(1, 2, 2)\n",
    "plot_graphs(history, 'loss')"
   ]
  },
  {
   "cell_type": "markdown",
   "metadata": {
    "id": "9xvpE3BaGw_V"
   },
   "source": [
    "Check out other existing recurrent layers such as [GRU layers](https://www.tensorflow.org/api_docs/python/tf/keras/layers/GRU).\n",
    "\n",
    "If you're interestied in building custom RNNs, see the [Keras RNN Guide](https://www.tensorflow.org/guide/keras/rnn).\n"
   ]
  }
 ],
 "metadata": {
  "accelerator": "GPU",
  "colab": {
   "collapsed_sections": [],
   "name": "text_classification_rnn.ipynb",
   "provenance": [],
   "toc_visible": true
  },
  "kernelspec": {
   "display_name": "Python 3 (ipykernel)",
   "language": "python",
   "name": "python3"
  },
  "language_info": {
   "codemirror_mode": {
    "name": "ipython",
    "version": 3
   },
   "file_extension": ".py",
   "mimetype": "text/x-python",
   "name": "python",
   "nbconvert_exporter": "python",
   "pygments_lexer": "ipython3",
   "version": "3.8.10"
  }
 },
 "nbformat": 4,
 "nbformat_minor": 1
}
