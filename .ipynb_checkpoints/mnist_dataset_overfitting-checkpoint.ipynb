{
 "cells": [
  {
   "cell_type": "code",
   "execution_count": 1,
   "id": "d4fd7218",
   "metadata": {},
   "outputs": [],
   "source": [
    "from __future__ import absolute_import, division, print_function, unicode_literals\n",
    "\n",
    "import tensorflow as tf\n",
    "import matplotlib.pyplot as plt"
   ]
  },
  {
   "cell_type": "code",
   "execution_count": 2,
   "id": "09b027dd",
   "metadata": {},
   "outputs": [],
   "source": [
    "mnist = tf.keras.datasets.mnist\n",
    "(x_train, y_train), (x_test, y_test) = mnist.load_data()\n",
    "x_train, x_test = x_train / 255.0, x_test / 255.0\n"
   ]
  },
  {
   "cell_type": "code",
   "execution_count": 3,
   "id": "cf0dcff3",
   "metadata": {
    "scrolled": true
   },
   "outputs": [
    {
     "name": "stderr",
     "output_type": "stream",
     "text": [
      "2021-09-28 23:21:34.019770: I tensorflow/stream_executor/cuda/cuda_gpu_executor.cc:937] successful NUMA node read from SysFS had negative value (-1), but there must be at least one NUMA node, so returning NUMA node zero\n",
      "2021-09-28 23:21:34.024071: I tensorflow/stream_executor/cuda/cuda_gpu_executor.cc:937] successful NUMA node read from SysFS had negative value (-1), but there must be at least one NUMA node, so returning NUMA node zero\n",
      "2021-09-28 23:21:34.024375: I tensorflow/stream_executor/cuda/cuda_gpu_executor.cc:937] successful NUMA node read from SysFS had negative value (-1), but there must be at least one NUMA node, so returning NUMA node zero\n",
      "2021-09-28 23:21:34.024836: I tensorflow/core/platform/cpu_feature_guard.cc:142] This TensorFlow binary is optimized with oneAPI Deep Neural Network Library (oneDNN) to use the following CPU instructions in performance-critical operations:  AVX2 FMA\n",
      "To enable them in other operations, rebuild TensorFlow with the appropriate compiler flags.\n",
      "2021-09-28 23:21:34.025236: I tensorflow/stream_executor/cuda/cuda_gpu_executor.cc:937] successful NUMA node read from SysFS had negative value (-1), but there must be at least one NUMA node, so returning NUMA node zero\n",
      "2021-09-28 23:21:34.025526: I tensorflow/stream_executor/cuda/cuda_gpu_executor.cc:937] successful NUMA node read from SysFS had negative value (-1), but there must be at least one NUMA node, so returning NUMA node zero\n",
      "2021-09-28 23:21:34.025803: I tensorflow/stream_executor/cuda/cuda_gpu_executor.cc:937] successful NUMA node read from SysFS had negative value (-1), but there must be at least one NUMA node, so returning NUMA node zero\n",
      "2021-09-28 23:21:34.311489: I tensorflow/stream_executor/cuda/cuda_gpu_executor.cc:937] successful NUMA node read from SysFS had negative value (-1), but there must be at least one NUMA node, so returning NUMA node zero\n",
      "2021-09-28 23:21:34.311801: I tensorflow/stream_executor/cuda/cuda_gpu_executor.cc:937] successful NUMA node read from SysFS had negative value (-1), but there must be at least one NUMA node, so returning NUMA node zero\n",
      "2021-09-28 23:21:34.312081: I tensorflow/stream_executor/cuda/cuda_gpu_executor.cc:937] successful NUMA node read from SysFS had negative value (-1), but there must be at least one NUMA node, so returning NUMA node zero\n",
      "2021-09-28 23:21:34.312352: I tensorflow/core/common_runtime/gpu/gpu_device.cc:1510] Created device /job:localhost/replica:0/task:0/device:GPU:0 with 9724 MB memory:  -> device: 0, name: NVIDIA GeForce RTX 3060, pci bus id: 0000:09:00.0, compute capability: 8.6\n"
     ]
    }
   ],
   "source": [
    "model = tf.keras.models.Sequential([\n",
    "    tf.keras.layers.Flatten(input_shape=(28, 28)),\n",
    "    tf.keras.layers.Dense(256, activation='relu', kernel_initializer=tf.keras.initializers.HeUniform(),\n",
    "                              kernel_regularizer=tf.keras.regularizers.l1(0.01)),\n",
    "    tf.keras.layers.Dropout(0.2),\n",
    "    tf.keras.layers.Dense(128, activation='relu'),\n",
    "    tf.keras.layers.Dropout(0.2),\n",
    "    tf.keras.layers.Dense(10, activation='softmax')\n",
    "])\n"
   ]
  },
  {
   "cell_type": "code",
   "execution_count": 4,
   "id": "a7348f58",
   "metadata": {},
   "outputs": [
    {
     "name": "stdout",
     "output_type": "stream",
     "text": [
      "Model: \"sequential\"\n",
      "_________________________________________________________________\n",
      "Layer (type)                 Output Shape              Param #   \n",
      "=================================================================\n",
      "flatten (Flatten)            (None, 784)               0         \n",
      "_________________________________________________________________\n",
      "dense (Dense)                (None, 256)               200960    \n",
      "_________________________________________________________________\n",
      "dropout (Dropout)            (None, 256)               0         \n",
      "_________________________________________________________________\n",
      "dense_1 (Dense)              (None, 128)               32896     \n",
      "_________________________________________________________________\n",
      "dropout_1 (Dropout)          (None, 128)               0         \n",
      "_________________________________________________________________\n",
      "dense_2 (Dense)              (None, 10)                1290      \n",
      "=================================================================\n",
      "Total params: 235,146\n",
      "Trainable params: 235,146\n",
      "Non-trainable params: 0\n",
      "_________________________________________________________________\n"
     ]
    }
   ],
   "source": [
    "model.summary()"
   ]
  },
  {
   "cell_type": "code",
   "execution_count": 5,
   "id": "130c5e6d",
   "metadata": {},
   "outputs": [],
   "source": [
    "opt = tf.keras.optimizers.Adam(learning_rate=0.01)\n",
    "model.compile(optimizer=opt,\n",
    "              loss='sparse_categorical_crossentropy',\n",
    "              metrics=['accuracy'])"
   ]
  },
  {
   "cell_type": "code",
   "execution_count": 6,
   "id": "46b35fd0",
   "metadata": {
    "scrolled": true
   },
   "outputs": [
    {
     "name": "stderr",
     "output_type": "stream",
     "text": [
      "2021-09-28 23:21:34.632666: I tensorflow/compiler/mlir/mlir_graph_optimization_pass.cc:185] None of the MLIR Optimization Passes are enabled (registered 2)\n"
     ]
    },
    {
     "name": "stdout",
     "output_type": "stream",
     "text": [
      "Epoch 1/150\n",
      "35/40 [=========================>....] - ETA: 0s - loss: 19.2420 - accuracy: 0.5993 "
     ]
    },
    {
     "name": "stderr",
     "output_type": "stream",
     "text": [
      "2021-09-28 23:21:35.260385: I tensorflow/stream_executor/cuda/cuda_blas.cc:1760] TensorFloat-32 will be used for the matrix multiplication. This will only be logged once.\n"
     ]
    },
    {
     "name": "stdout",
     "output_type": "stream",
     "text": [
      "40/40 [==============================] - 1s 5ms/step - loss: 17.7792 - accuracy: 0.6060 - val_loss: 5.2310 - val_accuracy: 0.7871\n",
      "Epoch 2/150\n",
      "40/40 [==============================] - 0s 2ms/step - loss: 4.5636 - accuracy: 0.7283 - val_loss: 4.0057 - val_accuracy: 0.7229\n",
      "Epoch 3/150\n",
      "40/40 [==============================] - 0s 2ms/step - loss: 3.8290 - accuracy: 0.7806 - val_loss: 3.3967 - val_accuracy: 0.8534\n",
      "Epoch 4/150\n",
      "40/40 [==============================] - 0s 3ms/step - loss: 3.5586 - accuracy: 0.7982 - val_loss: 3.7378 - val_accuracy: 0.8388\n",
      "Epoch 5/150\n",
      "40/40 [==============================] - 0s 2ms/step - loss: 3.5027 - accuracy: 0.8269 - val_loss: 3.2622 - val_accuracy: 0.8515\n",
      "Epoch 6/150\n",
      "40/40 [==============================] - 0s 3ms/step - loss: 3.3648 - accuracy: 0.8324 - val_loss: 3.1763 - val_accuracy: 0.8471\n",
      "Epoch 7/150\n",
      "40/40 [==============================] - 0s 3ms/step - loss: 3.4817 - accuracy: 0.8200 - val_loss: 3.3794 - val_accuracy: 0.8365\n",
      "Epoch 8/150\n",
      "40/40 [==============================] - 0s 2ms/step - loss: 3.3758 - accuracy: 0.8385 - val_loss: 3.1440 - val_accuracy: 0.8879\n",
      "Epoch 9/150\n",
      "40/40 [==============================] - 0s 2ms/step - loss: 3.2846 - accuracy: 0.8447 - val_loss: 3.2729 - val_accuracy: 0.8654\n",
      "Epoch 10/150\n",
      "40/40 [==============================] - 0s 2ms/step - loss: 3.3158 - accuracy: 0.8455 - val_loss: 3.2046 - val_accuracy: 0.8632\n",
      "Epoch 11/150\n",
      "40/40 [==============================] - 0s 2ms/step - loss: 3.4873 - accuracy: 0.8307 - val_loss: 3.1010 - val_accuracy: 0.8857\n",
      "Epoch 12/150\n",
      "40/40 [==============================] - 0s 2ms/step - loss: 3.6222 - accuracy: 0.8137 - val_loss: 3.4122 - val_accuracy: 0.8961\n",
      "Epoch 13/150\n",
      "40/40 [==============================] - 0s 2ms/step - loss: 3.5431 - accuracy: 0.8339 - val_loss: 3.2126 - val_accuracy: 0.9059\n",
      "Epoch 14/150\n",
      "40/40 [==============================] - 0s 3ms/step - loss: 3.2213 - accuracy: 0.8576 - val_loss: 3.0551 - val_accuracy: 0.9124\n",
      "Epoch 15/150\n",
      "40/40 [==============================] - 0s 3ms/step - loss: 3.4022 - accuracy: 0.8433 - val_loss: 3.1944 - val_accuracy: 0.9096\n",
      "Epoch 16/150\n",
      "40/40 [==============================] - 0s 2ms/step - loss: 3.5894 - accuracy: 0.8329 - val_loss: 3.2670 - val_accuracy: 0.9123\n",
      "Epoch 17/150\n",
      "40/40 [==============================] - 0s 3ms/step - loss: 3.2662 - accuracy: 0.8540 - val_loss: 3.0177 - val_accuracy: 0.9063\n",
      "Epoch 18/150\n",
      "40/40 [==============================] - 0s 2ms/step - loss: 3.2342 - accuracy: 0.8508 - val_loss: 3.0892 - val_accuracy: 0.9020\n",
      "Epoch 19/150\n",
      "40/40 [==============================] - 0s 2ms/step - loss: 3.1880 - accuracy: 0.8557 - val_loss: 3.0755 - val_accuracy: 0.8931\n",
      "Epoch 20/150\n",
      "40/40 [==============================] - 0s 3ms/step - loss: 3.9746 - accuracy: 0.7850 - val_loss: 3.5897 - val_accuracy: 0.9094\n",
      "Epoch 21/150\n",
      "40/40 [==============================] - 0s 3ms/step - loss: 3.4451 - accuracy: 0.8412 - val_loss: 3.1596 - val_accuracy: 0.9078\n",
      "Epoch 22/150\n",
      "40/40 [==============================] - 0s 2ms/step - loss: 3.2196 - accuracy: 0.8521 - val_loss: 3.1746 - val_accuracy: 0.8648\n",
      "Epoch 23/150\n",
      "40/40 [==============================] - 0s 2ms/step - loss: 3.2392 - accuracy: 0.8492 - val_loss: 3.2875 - val_accuracy: 0.8269\n",
      "Epoch 24/150\n",
      "40/40 [==============================] - 0s 2ms/step - loss: 3.4044 - accuracy: 0.8356 - val_loss: 3.1367 - val_accuracy: 0.8767\n",
      "Epoch 25/150\n",
      "40/40 [==============================] - 0s 2ms/step - loss: 3.2816 - accuracy: 0.8463 - val_loss: 3.0819 - val_accuracy: 0.8969\n",
      "Epoch 26/150\n",
      "40/40 [==============================] - 0s 2ms/step - loss: 3.3338 - accuracy: 0.8415 - val_loss: 2.9714 - val_accuracy: 0.9168\n",
      "Epoch 27/150\n",
      "40/40 [==============================] - 0s 3ms/step - loss: 3.2942 - accuracy: 0.8475 - val_loss: 3.0312 - val_accuracy: 0.9031\n",
      "Epoch 28/150\n",
      "40/40 [==============================] - 0s 2ms/step - loss: 3.2218 - accuracy: 0.8504 - val_loss: 3.0725 - val_accuracy: 0.9078\n",
      "Epoch 29/150\n",
      "40/40 [==============================] - 0s 2ms/step - loss: 3.1925 - accuracy: 0.8566 - val_loss: 3.1088 - val_accuracy: 0.9007\n",
      "Epoch 30/150\n",
      "40/40 [==============================] - 0s 3ms/step - loss: 3.1962 - accuracy: 0.8582 - val_loss: 3.0849 - val_accuracy: 0.8771\n",
      "Epoch 31/150\n",
      "40/40 [==============================] - 0s 2ms/step - loss: 3.2389 - accuracy: 0.8490 - val_loss: 3.2241 - val_accuracy: 0.8711\n",
      "Epoch 32/150\n",
      "40/40 [==============================] - 0s 2ms/step - loss: 3.2645 - accuracy: 0.8514 - val_loss: 3.1256 - val_accuracy: 0.8903\n",
      "Epoch 33/150\n",
      "40/40 [==============================] - 0s 2ms/step - loss: 3.2617 - accuracy: 0.8527 - val_loss: 3.0758 - val_accuracy: 0.9178\n",
      "Epoch 34/150\n",
      "40/40 [==============================] - 0s 2ms/step - loss: 3.2326 - accuracy: 0.8536 - val_loss: 3.1788 - val_accuracy: 0.8969\n",
      "Epoch 35/150\n",
      "40/40 [==============================] - 0s 2ms/step - loss: 3.1983 - accuracy: 0.8588 - val_loss: 2.9794 - val_accuracy: 0.9154\n",
      "Epoch 36/150\n",
      "40/40 [==============================] - 0s 2ms/step - loss: 3.2267 - accuracy: 0.8505 - val_loss: 3.2556 - val_accuracy: 0.9069\n",
      "Epoch 37/150\n",
      "40/40 [==============================] - 0s 2ms/step - loss: 3.3032 - accuracy: 0.8439 - val_loss: 3.6686 - val_accuracy: 0.8650\n",
      "Epoch 38/150\n",
      "40/40 [==============================] - 0s 2ms/step - loss: 3.5284 - accuracy: 0.8463 - val_loss: 3.1772 - val_accuracy: 0.8931\n",
      "Epoch 39/150\n",
      "40/40 [==============================] - 0s 2ms/step - loss: 3.4880 - accuracy: 0.8319 - val_loss: 3.0671 - val_accuracy: 0.9083\n",
      "Epoch 40/150\n",
      "40/40 [==============================] - 0s 2ms/step - loss: 3.3910 - accuracy: 0.8284 - val_loss: 3.3262 - val_accuracy: 0.9111\n",
      "Epoch 41/150\n",
      "40/40 [==============================] - 0s 2ms/step - loss: 3.5974 - accuracy: 0.8079 - val_loss: 3.9200 - val_accuracy: 0.8958\n",
      "Epoch 42/150\n",
      "40/40 [==============================] - 0s 2ms/step - loss: 3.5839 - accuracy: 0.8493 - val_loss: 3.2029 - val_accuracy: 0.8938\n",
      "Epoch 43/150\n",
      "40/40 [==============================] - 0s 2ms/step - loss: 3.3618 - accuracy: 0.8368 - val_loss: 3.0815 - val_accuracy: 0.9083\n",
      "Epoch 44/150\n",
      "40/40 [==============================] - 0s 2ms/step - loss: 3.2340 - accuracy: 0.8501 - val_loss: 3.0676 - val_accuracy: 0.9057\n",
      "Epoch 45/150\n",
      "40/40 [==============================] - 0s 2ms/step - loss: 3.2014 - accuracy: 0.8510 - val_loss: 3.0512 - val_accuracy: 0.9115\n",
      "Epoch 46/150\n",
      "40/40 [==============================] - 0s 2ms/step - loss: 3.1945 - accuracy: 0.8501 - val_loss: 3.0631 - val_accuracy: 0.9120\n",
      "Epoch 47/150\n",
      "40/40 [==============================] - 0s 3ms/step - loss: 3.1516 - accuracy: 0.8605 - val_loss: 3.0082 - val_accuracy: 0.9016\n",
      "Epoch 48/150\n",
      "40/40 [==============================] - 0s 2ms/step - loss: 3.2064 - accuracy: 0.8492 - val_loss: 3.0907 - val_accuracy: 0.8998\n",
      "Epoch 49/150\n",
      "40/40 [==============================] - 0s 2ms/step - loss: 3.1689 - accuracy: 0.8553 - val_loss: 3.0109 - val_accuracy: 0.8992\n",
      "Epoch 50/150\n",
      "40/40 [==============================] - 0s 2ms/step - loss: 3.3375 - accuracy: 0.8389 - val_loss: 3.1323 - val_accuracy: 0.8676\n",
      "Epoch 51/150\n",
      "40/40 [==============================] - 0s 2ms/step - loss: 3.2072 - accuracy: 0.8502 - val_loss: 2.9886 - val_accuracy: 0.9086\n",
      "Epoch 52/150\n",
      "40/40 [==============================] - 0s 2ms/step - loss: 3.1730 - accuracy: 0.8544 - val_loss: 3.0016 - val_accuracy: 0.9127\n",
      "Epoch 53/150\n",
      "40/40 [==============================] - 0s 2ms/step - loss: 3.2192 - accuracy: 0.8487 - val_loss: 3.0012 - val_accuracy: 0.9065\n",
      "Epoch 54/150\n",
      "40/40 [==============================] - 0s 2ms/step - loss: 3.1560 - accuracy: 0.8585 - val_loss: 3.0148 - val_accuracy: 0.9057\n",
      "Epoch 55/150\n",
      "40/40 [==============================] - 0s 2ms/step - loss: 3.1993 - accuracy: 0.8534 - val_loss: 3.0174 - val_accuracy: 0.9093\n",
      "Epoch 56/150\n",
      "40/40 [==============================] - 0s 2ms/step - loss: 3.4105 - accuracy: 0.8309 - val_loss: 2.9753 - val_accuracy: 0.9191\n",
      "Epoch 57/150\n",
      "40/40 [==============================] - 0s 2ms/step - loss: 3.3350 - accuracy: 0.8360 - val_loss: 3.0646 - val_accuracy: 0.9208\n",
      "Epoch 58/150\n",
      "40/40 [==============================] - 0s 2ms/step - loss: 3.2015 - accuracy: 0.8488 - val_loss: 3.0540 - val_accuracy: 0.9155\n"
     ]
    },
    {
     "name": "stdout",
     "output_type": "stream",
     "text": [
      "Epoch 59/150\n",
      "40/40 [==============================] - 0s 2ms/step - loss: 3.1919 - accuracy: 0.8464 - val_loss: 3.1732 - val_accuracy: 0.8676\n",
      "Epoch 60/150\n",
      "40/40 [==============================] - 0s 2ms/step - loss: 3.3389 - accuracy: 0.8458 - val_loss: 3.0849 - val_accuracy: 0.9110\n",
      "Epoch 61/150\n",
      "40/40 [==============================] - 0s 2ms/step - loss: 3.2535 - accuracy: 0.8410 - val_loss: 2.9914 - val_accuracy: 0.9138\n",
      "Epoch 62/150\n",
      "40/40 [==============================] - 0s 2ms/step - loss: 3.1800 - accuracy: 0.8493 - val_loss: 3.1195 - val_accuracy: 0.8987\n",
      "Epoch 63/150\n",
      "40/40 [==============================] - 0s 2ms/step - loss: 3.1716 - accuracy: 0.8523 - val_loss: 2.9870 - val_accuracy: 0.9111\n",
      "Epoch 64/150\n",
      "40/40 [==============================] - 0s 2ms/step - loss: 3.1581 - accuracy: 0.8535 - val_loss: 3.0831 - val_accuracy: 0.8806\n",
      "Epoch 65/150\n",
      "40/40 [==============================] - 0s 2ms/step - loss: 3.2107 - accuracy: 0.8445 - val_loss: 3.0253 - val_accuracy: 0.9134\n",
      "Epoch 66/150\n",
      "40/40 [==============================] - 0s 2ms/step - loss: 3.1891 - accuracy: 0.8538 - val_loss: 2.9656 - val_accuracy: 0.9208\n",
      "Epoch 67/150\n",
      "40/40 [==============================] - 0s 3ms/step - loss: 3.2123 - accuracy: 0.8494 - val_loss: 2.9752 - val_accuracy: 0.9099\n",
      "Epoch 68/150\n",
      "40/40 [==============================] - 0s 2ms/step - loss: 3.2417 - accuracy: 0.8405 - val_loss: 3.1092 - val_accuracy: 0.8971\n",
      "Epoch 69/150\n",
      "40/40 [==============================] - 0s 2ms/step - loss: 3.2687 - accuracy: 0.8454 - val_loss: 2.9833 - val_accuracy: 0.9229\n",
      "Epoch 70/150\n",
      "40/40 [==============================] - 0s 2ms/step - loss: 3.1448 - accuracy: 0.8553 - val_loss: 3.0042 - val_accuracy: 0.9085\n",
      "Epoch 71/150\n",
      "40/40 [==============================] - 0s 2ms/step - loss: 3.2100 - accuracy: 0.8481 - val_loss: 3.0064 - val_accuracy: 0.9048\n",
      "Epoch 72/150\n",
      "40/40 [==============================] - 0s 2ms/step - loss: 3.2249 - accuracy: 0.8470 - val_loss: 2.9403 - val_accuracy: 0.9139\n",
      "Epoch 73/150\n",
      "40/40 [==============================] - 0s 2ms/step - loss: 3.1701 - accuracy: 0.8485 - val_loss: 3.0653 - val_accuracy: 0.8952\n",
      "Epoch 74/150\n",
      "40/40 [==============================] - 0s 3ms/step - loss: 3.1894 - accuracy: 0.8510 - val_loss: 2.9701 - val_accuracy: 0.9062\n",
      "Epoch 75/150\n",
      "40/40 [==============================] - 0s 2ms/step - loss: 3.2052 - accuracy: 0.8432 - val_loss: 3.0109 - val_accuracy: 0.9185\n",
      "Epoch 76/150\n",
      "40/40 [==============================] - 0s 2ms/step - loss: 3.1448 - accuracy: 0.8584 - val_loss: 2.9918 - val_accuracy: 0.8983\n",
      "Epoch 77/150\n",
      "40/40 [==============================] - 0s 3ms/step - loss: 3.1674 - accuracy: 0.8495 - val_loss: 3.0967 - val_accuracy: 0.8843\n",
      "Epoch 78/150\n",
      "40/40 [==============================] - 0s 2ms/step - loss: 3.2269 - accuracy: 0.8494 - val_loss: 2.9521 - val_accuracy: 0.9216\n",
      "Epoch 79/150\n",
      "40/40 [==============================] - 0s 2ms/step - loss: 3.1912 - accuracy: 0.8494 - val_loss: 3.0850 - val_accuracy: 0.9128\n",
      "Epoch 80/150\n",
      "40/40 [==============================] - 0s 2ms/step - loss: 3.1903 - accuracy: 0.8469 - val_loss: 2.9465 - val_accuracy: 0.9273\n",
      "Epoch 81/150\n",
      "40/40 [==============================] - 0s 2ms/step - loss: 3.1389 - accuracy: 0.8565 - val_loss: 3.0484 - val_accuracy: 0.8966\n",
      "Epoch 82/150\n",
      "40/40 [==============================] - 0s 2ms/step - loss: 3.2446 - accuracy: 0.8455 - val_loss: 3.0511 - val_accuracy: 0.8911\n",
      "Epoch 83/150\n",
      "40/40 [==============================] - 0s 2ms/step - loss: 3.1658 - accuracy: 0.8565 - val_loss: 2.8944 - val_accuracy: 0.9270\n",
      "Epoch 84/150\n",
      "40/40 [==============================] - 0s 2ms/step - loss: 3.1737 - accuracy: 0.8539 - val_loss: 3.1444 - val_accuracy: 0.8808\n",
      "Epoch 85/150\n",
      "40/40 [==============================] - 0s 2ms/step - loss: 3.3069 - accuracy: 0.8410 - val_loss: 3.1363 - val_accuracy: 0.8678\n",
      "Epoch 86/150\n",
      "40/40 [==============================] - 0s 2ms/step - loss: 3.1964 - accuracy: 0.8506 - val_loss: 2.9447 - val_accuracy: 0.9195\n",
      "Epoch 87/150\n",
      "40/40 [==============================] - 0s 2ms/step - loss: 3.1656 - accuracy: 0.8529 - val_loss: 3.0672 - val_accuracy: 0.9088\n",
      "Epoch 88/150\n",
      "40/40 [==============================] - 0s 2ms/step - loss: 3.1915 - accuracy: 0.8516 - val_loss: 3.0413 - val_accuracy: 0.9075\n",
      "Epoch 89/150\n",
      "40/40 [==============================] - 0s 2ms/step - loss: 3.2638 - accuracy: 0.8466 - val_loss: 2.9543 - val_accuracy: 0.9200\n",
      "Epoch 90/150\n",
      "40/40 [==============================] - 0s 2ms/step - loss: 3.1448 - accuracy: 0.8552 - val_loss: 3.0745 - val_accuracy: 0.9048\n",
      "Epoch 91/150\n",
      "40/40 [==============================] - 0s 2ms/step - loss: 3.2104 - accuracy: 0.8502 - val_loss: 3.0209 - val_accuracy: 0.9111\n",
      "Epoch 92/150\n",
      "40/40 [==============================] - 0s 3ms/step - loss: 3.1819 - accuracy: 0.8494 - val_loss: 3.1028 - val_accuracy: 0.8926\n",
      "Epoch 93/150\n",
      "40/40 [==============================] - 0s 2ms/step - loss: 3.2961 - accuracy: 0.8390 - val_loss: 2.9989 - val_accuracy: 0.9170\n",
      "Epoch 94/150\n",
      "40/40 [==============================] - 0s 2ms/step - loss: 3.2086 - accuracy: 0.8530 - val_loss: 2.9545 - val_accuracy: 0.9223\n",
      "Epoch 95/150\n",
      "40/40 [==============================] - 0s 2ms/step - loss: 3.2284 - accuracy: 0.8430 - val_loss: 3.1187 - val_accuracy: 0.8871\n",
      "Epoch 96/150\n",
      "40/40 [==============================] - 0s 2ms/step - loss: 3.2004 - accuracy: 0.8501 - val_loss: 3.0668 - val_accuracy: 0.9014\n",
      "Epoch 97/150\n",
      "40/40 [==============================] - 0s 3ms/step - loss: 3.1695 - accuracy: 0.8538 - val_loss: 3.0241 - val_accuracy: 0.9018\n",
      "Epoch 98/150\n",
      "40/40 [==============================] - 0s 2ms/step - loss: 3.1802 - accuracy: 0.8551 - val_loss: 2.9649 - val_accuracy: 0.9183\n",
      "Epoch 99/150\n",
      "40/40 [==============================] - 0s 2ms/step - loss: 3.1908 - accuracy: 0.8498 - val_loss: 3.0233 - val_accuracy: 0.9254\n",
      "Epoch 100/150\n",
      "40/40 [==============================] - 0s 2ms/step - loss: 3.1946 - accuracy: 0.8514 - val_loss: 3.1497 - val_accuracy: 0.8587\n",
      "Epoch 101/150\n",
      "40/40 [==============================] - 0s 2ms/step - loss: 3.2406 - accuracy: 0.8515 - val_loss: 3.0234 - val_accuracy: 0.8877\n",
      "Epoch 102/150\n",
      "40/40 [==============================] - 0s 2ms/step - loss: 3.2819 - accuracy: 0.8438 - val_loss: 3.0398 - val_accuracy: 0.9020\n",
      "Epoch 103/150\n",
      "40/40 [==============================] - 0s 3ms/step - loss: 3.2134 - accuracy: 0.8513 - val_loss: 2.9592 - val_accuracy: 0.9265\n",
      "Epoch 104/150\n",
      "40/40 [==============================] - 0s 2ms/step - loss: 3.1939 - accuracy: 0.8483 - val_loss: 3.0751 - val_accuracy: 0.9054\n",
      "Epoch 105/150\n",
      "40/40 [==============================] - 0s 2ms/step - loss: 3.2394 - accuracy: 0.8492 - val_loss: 3.0478 - val_accuracy: 0.9067\n",
      "Epoch 106/150\n",
      "40/40 [==============================] - 0s 2ms/step - loss: 3.1936 - accuracy: 0.8536 - val_loss: 3.0610 - val_accuracy: 0.9025\n",
      "Epoch 107/150\n",
      "40/40 [==============================] - 0s 2ms/step - loss: 3.2132 - accuracy: 0.8528 - val_loss: 3.0380 - val_accuracy: 0.9240\n",
      "Epoch 108/150\n",
      "40/40 [==============================] - 0s 2ms/step - loss: 3.1203 - accuracy: 0.8661 - val_loss: 3.0268 - val_accuracy: 0.9010\n",
      "Epoch 109/150\n",
      "40/40 [==============================] - 0s 2ms/step - loss: 3.3962 - accuracy: 0.8293 - val_loss: 3.0280 - val_accuracy: 0.9135\n",
      "Epoch 110/150\n",
      "40/40 [==============================] - 0s 2ms/step - loss: 3.1992 - accuracy: 0.8497 - val_loss: 3.0890 - val_accuracy: 0.8909\n",
      "Epoch 111/150\n",
      "40/40 [==============================] - 0s 2ms/step - loss: 3.1918 - accuracy: 0.8523 - val_loss: 3.2697 - val_accuracy: 0.8451\n",
      "Epoch 112/150\n",
      "40/40 [==============================] - 0s 2ms/step - loss: 3.2846 - accuracy: 0.8461 - val_loss: 3.0068 - val_accuracy: 0.9152\n",
      "Epoch 113/150\n",
      "40/40 [==============================] - 0s 3ms/step - loss: 3.1960 - accuracy: 0.8543 - val_loss: 3.0308 - val_accuracy: 0.9003\n",
      "Epoch 114/150\n",
      "40/40 [==============================] - 0s 2ms/step - loss: 3.1715 - accuracy: 0.8553 - val_loss: 3.0330 - val_accuracy: 0.9028\n",
      "Epoch 115/150\n",
      "40/40 [==============================] - 0s 2ms/step - loss: 3.1624 - accuracy: 0.8593 - val_loss: 3.1271 - val_accuracy: 0.8699\n",
      "Epoch 116/150\n"
     ]
    },
    {
     "name": "stdout",
     "output_type": "stream",
     "text": [
      "40/40 [==============================] - 0s 2ms/step - loss: 3.2787 - accuracy: 0.8419 - val_loss: 3.0626 - val_accuracy: 0.9046\n",
      "Epoch 117/150\n",
      "40/40 [==============================] - 0s 2ms/step - loss: 3.2624 - accuracy: 0.8422 - val_loss: 3.0968 - val_accuracy: 0.8947\n",
      "Epoch 118/150\n",
      "40/40 [==============================] - 0s 3ms/step - loss: 3.1671 - accuracy: 0.8573 - val_loss: 3.0992 - val_accuracy: 0.8889\n",
      "Epoch 119/150\n",
      "40/40 [==============================] - 0s 2ms/step - loss: 3.2724 - accuracy: 0.8493 - val_loss: 3.0198 - val_accuracy: 0.9051\n",
      "Epoch 120/150\n",
      "40/40 [==============================] - 0s 2ms/step - loss: 3.1844 - accuracy: 0.8566 - val_loss: 3.0095 - val_accuracy: 0.9121\n",
      "Epoch 121/150\n",
      "40/40 [==============================] - 0s 2ms/step - loss: 3.1704 - accuracy: 0.8573 - val_loss: 3.1209 - val_accuracy: 0.8931\n",
      "Epoch 122/150\n",
      "40/40 [==============================] - 0s 2ms/step - loss: 3.1937 - accuracy: 0.8576 - val_loss: 3.1325 - val_accuracy: 0.8805\n",
      "Epoch 123/150\n",
      "40/40 [==============================] - 0s 3ms/step - loss: 3.2102 - accuracy: 0.8519 - val_loss: 3.0822 - val_accuracy: 0.9097\n",
      "Epoch 124/150\n",
      "40/40 [==============================] - 0s 2ms/step - loss: 3.2173 - accuracy: 0.8491 - val_loss: 3.0524 - val_accuracy: 0.8905\n",
      "Epoch 125/150\n",
      "40/40 [==============================] - 0s 3ms/step - loss: 3.2598 - accuracy: 0.8441 - val_loss: 2.9951 - val_accuracy: 0.9219\n",
      "Epoch 126/150\n",
      "40/40 [==============================] - 0s 2ms/step - loss: 3.2401 - accuracy: 0.8467 - val_loss: 3.0322 - val_accuracy: 0.9172\n",
      "Epoch 127/150\n",
      "40/40 [==============================] - 0s 3ms/step - loss: 3.2200 - accuracy: 0.8485 - val_loss: 3.0215 - val_accuracy: 0.9182\n",
      "Epoch 128/150\n",
      "40/40 [==============================] - 0s 2ms/step - loss: 3.1677 - accuracy: 0.8552 - val_loss: 2.9812 - val_accuracy: 0.9029\n",
      "Epoch 129/150\n",
      "40/40 [==============================] - 0s 2ms/step - loss: 3.2249 - accuracy: 0.8476 - val_loss: 3.0212 - val_accuracy: 0.9155\n",
      "Epoch 130/150\n",
      "40/40 [==============================] - 0s 2ms/step - loss: 3.1665 - accuracy: 0.8560 - val_loss: 3.0532 - val_accuracy: 0.8958\n",
      "Epoch 131/150\n",
      "40/40 [==============================] - 0s 2ms/step - loss: 3.2323 - accuracy: 0.8499 - val_loss: 2.9846 - val_accuracy: 0.9116\n",
      "Epoch 132/150\n",
      "40/40 [==============================] - 0s 2ms/step - loss: 3.2897 - accuracy: 0.8378 - val_loss: 3.0011 - val_accuracy: 0.9129\n",
      "Epoch 133/150\n",
      "40/40 [==============================] - 0s 2ms/step - loss: 3.1653 - accuracy: 0.8540 - val_loss: 3.1241 - val_accuracy: 0.8747\n",
      "Epoch 134/150\n",
      "40/40 [==============================] - 0s 2ms/step - loss: 3.2223 - accuracy: 0.8481 - val_loss: 3.0187 - val_accuracy: 0.9019\n",
      "Epoch 135/150\n",
      "40/40 [==============================] - 0s 2ms/step - loss: 3.1998 - accuracy: 0.8507 - val_loss: 2.9893 - val_accuracy: 0.9284\n",
      "Epoch 136/150\n",
      "40/40 [==============================] - 0s 2ms/step - loss: 3.2373 - accuracy: 0.8461 - val_loss: 3.1452 - val_accuracy: 0.8972\n",
      "Epoch 137/150\n",
      "40/40 [==============================] - 0s 2ms/step - loss: 3.2142 - accuracy: 0.8431 - val_loss: 3.0053 - val_accuracy: 0.9146\n",
      "Epoch 138/150\n",
      "40/40 [==============================] - 0s 2ms/step - loss: 3.2623 - accuracy: 0.8435 - val_loss: 2.9911 - val_accuracy: 0.9222\n",
      "Epoch 139/150\n",
      "40/40 [==============================] - 0s 2ms/step - loss: 3.2484 - accuracy: 0.8374 - val_loss: 3.1364 - val_accuracy: 0.9044\n",
      "Epoch 140/150\n",
      "40/40 [==============================] - 0s 2ms/step - loss: 3.1902 - accuracy: 0.8535 - val_loss: 3.1348 - val_accuracy: 0.8513\n",
      "Epoch 141/150\n",
      "40/40 [==============================] - 0s 2ms/step - loss: 3.3554 - accuracy: 0.8337 - val_loss: 2.9702 - val_accuracy: 0.9231\n",
      "Epoch 142/150\n",
      "40/40 [==============================] - 0s 2ms/step - loss: 3.1738 - accuracy: 0.8486 - val_loss: 3.0271 - val_accuracy: 0.9148\n",
      "Epoch 143/150\n",
      "40/40 [==============================] - 0s 2ms/step - loss: 3.2101 - accuracy: 0.8475 - val_loss: 3.0346 - val_accuracy: 0.8967\n",
      "Epoch 144/150\n",
      "40/40 [==============================] - 0s 3ms/step - loss: 3.2153 - accuracy: 0.8400 - val_loss: 3.0980 - val_accuracy: 0.9094\n",
      "Epoch 145/150\n",
      "40/40 [==============================] - 0s 2ms/step - loss: 3.2281 - accuracy: 0.8494 - val_loss: 3.1240 - val_accuracy: 0.8715\n",
      "Epoch 146/150\n",
      "40/40 [==============================] - 0s 2ms/step - loss: 3.2193 - accuracy: 0.8467 - val_loss: 2.9422 - val_accuracy: 0.9202\n",
      "Epoch 147/150\n",
      "40/40 [==============================] - 0s 2ms/step - loss: 3.1596 - accuracy: 0.8531 - val_loss: 3.1172 - val_accuracy: 0.8777\n",
      "Epoch 148/150\n",
      "40/40 [==============================] - 0s 2ms/step - loss: 3.2835 - accuracy: 0.8414 - val_loss: 2.9761 - val_accuracy: 0.9083\n",
      "Epoch 149/150\n",
      "40/40 [==============================] - 0s 2ms/step - loss: 3.2237 - accuracy: 0.8417 - val_loss: 2.9788 - val_accuracy: 0.9164\n",
      "Epoch 150/150\n",
      "40/40 [==============================] - 0s 2ms/step - loss: 3.2178 - accuracy: 0.8403 - val_loss: 3.0285 - val_accuracy: 0.9151\n"
     ]
    }
   ],
   "source": [
    "history=model.fit(x_train, y_train, validation_split=0.33, epochs=150, batch_size=1024)"
   ]
  },
  {
   "cell_type": "code",
   "execution_count": 7,
   "id": "71e360e4",
   "metadata": {},
   "outputs": [
    {
     "data": {
      "image/png": "[encoded data removed]",
      "text/plain": [
       "<Figure size 432x288 with 1 Axes>"
      ]
     },
     "metadata": {
      "needs_background": "light"
     },
     "output_type": "display_data"
    }
   ],
   "source": [
    "# summarize history for accuracy\n",
    "plt.plot(history.history['accuracy'])\n",
    "plt.plot(history.history['val_accuracy'])\n",
    "plt.title('model accuracy')\n",
    "plt.ylabel('accuracy')\n",
    "plt.xlabel('epoch')\n",
    "plt.legend(['train', 'test'], loc='upper left')\n",
    "plt.show()\n"
   ]
  },
  {
   "cell_type": "code",
   "execution_count": 8,
   "id": "feb6ffe0",
   "metadata": {},
   "outputs": [
    {
     "data": {
      "image/png": "[encoded data removed]",
      "text/plain": [
       "<Figure size 432x288 with 1 Axes>"
      ]
     },
     "metadata": {
      "needs_background": "light"
     },
     "output_type": "display_data"
    }
   ],
   "source": [
    "# summarize history for loss\n",
    "plt.plot(history.history['loss'])\n",
    "plt.plot(history.history['val_loss'])\n",
    "plt.title('model loss')\n",
    "plt.ylabel('loss')\n",
    "plt.xlabel('epoch')\n",
    "plt.legend(['train', 'test'], loc='upper left')\n",
    "plt.show()"
   ]
  },
  {
   "cell_type": "code",
   "execution_count": 9,
   "id": "9ef5a615",
   "metadata": {},
   "outputs": [
    {
     "name": "stdout",
     "output_type": "stream",
     "text": [
      "313/313 - 0s - loss: 3.0244 - accuracy: 0.9153\n"
     ]
    },
    {
     "data": {
      "text/plain": [
       "[3.0244369506835938, 0.9153000116348267]"
      ]
     },
     "execution_count": 9,
     "metadata": {},
     "output_type": "execute_result"
    }
   ],
   "source": [
    "model.evaluate(x_test,  y_test, verbose=2)"
   ]
  },
  {
   "cell_type": "code",
   "execution_count": null,
   "id": "894f2211",
   "metadata": {},
   "outputs": [],
   "source": []
  }
 ],
 "metadata": {
  "kernelspec": {
   "display_name": "Python 3 (ipykernel)",
   "language": "python",
   "name": "python3"
  },
  "language_info": {
   "codemirror_mode": {
    "name": "ipython",
    "version": 3
   },
   "file_extension": ".py",
   "mimetype": "text/x-python",
   "name": "python",
   "nbconvert_exporter": "python",
   "pygments_lexer": "ipython3",
   "version": "3.8.10"
  }
 },
 "nbformat": 4,
 "nbformat_minor": 5
}
