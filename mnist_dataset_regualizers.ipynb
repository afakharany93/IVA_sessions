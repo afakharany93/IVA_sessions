{
 "cells": [
  {
   "cell_type": "code",
   "execution_count": 1,
   "id": "f09a09d5",
   "metadata": {},
   "outputs": [],
   "source": [
    "from __future__ import absolute_import, division, print_function, unicode_literals\n",
    "\n",
    "import tensorflow as tf\n",
    "import matplotlib.pyplot as plt"
   ]
  },
  {
   "cell_type": "code",
   "execution_count": 2,
   "id": "16ff2ab1",
   "metadata": {},
   "outputs": [],
   "source": [
    "mnist = tf.keras.datasets.mnist\n",
    "(x_train, y_train), (x_test, y_test) = mnist.load_data()\n",
    "x_train, x_test = x_train / 255.0, x_test / 255.0\n"
   ]
  },
  {
   "cell_type": "code",
   "execution_count": 3,
   "id": "811a8417",
   "metadata": {
    "scrolled": true
   },
   "outputs": [
    {
     "name": "stderr",
     "output_type": "stream",
     "text": [
      "2021-09-28 23:30:19.776580: I tensorflow/stream_executor/cuda/cuda_gpu_executor.cc:937] successful NUMA node read from SysFS had negative value (-1), but there must be at least one NUMA node, so returning NUMA node zero\n",
      "2021-09-28 23:30:19.780768: I tensorflow/stream_executor/cuda/cuda_gpu_executor.cc:937] successful NUMA node read from SysFS had negative value (-1), but there must be at least one NUMA node, so returning NUMA node zero\n",
      "2021-09-28 23:30:19.781069: I tensorflow/stream_executor/cuda/cuda_gpu_executor.cc:937] successful NUMA node read from SysFS had negative value (-1), but there must be at least one NUMA node, so returning NUMA node zero\n",
      "2021-09-28 23:30:19.781856: I tensorflow/core/platform/cpu_feature_guard.cc:142] This TensorFlow binary is optimized with oneAPI Deep Neural Network Library (oneDNN) to use the following CPU instructions in performance-critical operations:  AVX2 FMA\n",
      "To enable them in other operations, rebuild TensorFlow with the appropriate compiler flags.\n",
      "2021-09-28 23:30:19.813880: I tensorflow/stream_executor/cuda/cuda_gpu_executor.cc:937] successful NUMA node read from SysFS had negative value (-1), but there must be at least one NUMA node, so returning NUMA node zero\n",
      "2021-09-28 23:30:19.814470: I tensorflow/stream_executor/cuda/cuda_gpu_executor.cc:937] successful NUMA node read from SysFS had negative value (-1), but there must be at least one NUMA node, so returning NUMA node zero\n",
      "2021-09-28 23:30:19.814951: I tensorflow/stream_executor/cuda/cuda_gpu_executor.cc:937] successful NUMA node read from SysFS had negative value (-1), but there must be at least one NUMA node, so returning NUMA node zero\n",
      "2021-09-28 23:30:20.107092: I tensorflow/stream_executor/cuda/cuda_gpu_executor.cc:937] successful NUMA node read from SysFS had negative value (-1), but there must be at least one NUMA node, so returning NUMA node zero\n",
      "2021-09-28 23:30:20.107411: I tensorflow/stream_executor/cuda/cuda_gpu_executor.cc:937] successful NUMA node read from SysFS had negative value (-1), but there must be at least one NUMA node, so returning NUMA node zero\n",
      "2021-09-28 23:30:20.107692: I tensorflow/stream_executor/cuda/cuda_gpu_executor.cc:937] successful NUMA node read from SysFS had negative value (-1), but there must be at least one NUMA node, so returning NUMA node zero\n",
      "2021-09-28 23:30:20.107964: I tensorflow/core/common_runtime/gpu/gpu_device.cc:1510] Created device /job:localhost/replica:0/task:0/device:GPU:0 with 9732 MB memory:  -> device: 0, name: NVIDIA GeForce RTX 3060, pci bus id: 0000:09:00.0, compute capability: 8.6\n"
     ]
    }
   ],
   "source": [
    "model = tf.keras.models.Sequential([\n",
    "    tf.keras.layers.Flatten(input_shape=(28, 28)),\n",
    "    tf.keras.layers.Dense(256, kernel_initializer=tf.keras.initializers.HeUniform(),\n",
    "                              kernel_regularizer=tf.keras.regularizers.l1(0.01)),\n",
    "    tf.keras.layers.ReLU(),\n",
    "    tf.keras.layers.BatchNormalization(),\n",
    "    tf.keras.layers.Dropout(0.2),\n",
    "    tf.keras.layers.Dense(128, activation='relu'),\n",
    "    tf.keras.layers.Dropout(0.2),\n",
    "    tf.keras.layers.Dense(10, activation='softmax')\n",
    "])\n"
   ]
  },
  {
   "cell_type": "code",
   "execution_count": 4,
   "id": "3ddfafa3",
   "metadata": {},
   "outputs": [
    {
     "name": "stdout",
     "output_type": "stream",
     "text": [
      "Model: \"sequential\"\n",
      "_________________________________________________________________\n",
      "Layer (type)                 Output Shape              Param #   \n",
      "=================================================================\n",
      "flatten (Flatten)            (None, 784)               0         \n",
      "_________________________________________________________________\n",
      "dense (Dense)                (None, 256)               200960    \n",
      "_________________________________________________________________\n",
      "re_lu (ReLU)                 (None, 256)               0         \n",
      "_________________________________________________________________\n",
      "batch_normalization (BatchNo (None, 256)               1024      \n",
      "_________________________________________________________________\n",
      "dropout (Dropout)            (None, 256)               0         \n",
      "_________________________________________________________________\n",
      "dense_1 (Dense)              (None, 128)               32896     \n",
      "_________________________________________________________________\n",
      "dropout_1 (Dropout)          (None, 128)               0         \n",
      "_________________________________________________________________\n",
      "dense_2 (Dense)              (None, 10)                1290      \n",
      "=================================================================\n",
      "Total params: 236,170\n",
      "Trainable params: 235,658\n",
      "Non-trainable params: 512\n",
      "_________________________________________________________________\n"
     ]
    }
   ],
   "source": [
    "model.summary()"
   ]
  },
  {
   "cell_type": "code",
   "execution_count": 5,
   "id": "adbae693",
   "metadata": {},
   "outputs": [],
   "source": [
    "opt = tf.keras.optimizers.Adam(learning_rate=0.01)\n",
    "model.compile(optimizer=opt,\n",
    "              loss='sparse_categorical_crossentropy',\n",
    "              metrics=['accuracy'])"
   ]
  },
  {
   "cell_type": "code",
   "execution_count": 6,
   "id": "cef9f51c",
   "metadata": {
    "scrolled": true
   },
   "outputs": [
    {
     "name": "stderr",
     "output_type": "stream",
     "text": [
      "2021-09-28 23:30:20.456688: I tensorflow/compiler/mlir/mlir_graph_optimization_pass.cc:185] None of the MLIR Optimization Passes are enabled (registered 2)\n"
     ]
    },
    {
     "name": "stdout",
     "output_type": "stream",
     "text": [
      "Epoch 1/150\n",
      "25/40 [=================>............] - ETA: 0s - loss: 24.0506 - accuracy: 0.7996 "
     ]
    },
    {
     "name": "stderr",
     "output_type": "stream",
     "text": [
      "2021-09-28 23:30:21.151276: I tensorflow/stream_executor/cuda/cuda_blas.cc:1760] TensorFloat-32 will be used for the matrix multiplication. This will only be logged once.\n"
     ]
    },
    {
     "name": "stdout",
     "output_type": "stream",
     "text": [
      "40/40 [==============================] - 1s 6ms/step - loss: 17.8497 - accuracy: 0.8189 - val_loss: 7.2869 - val_accuracy: 0.3331\n",
      "Epoch 2/150\n",
      "40/40 [==============================] - 0s 3ms/step - loss: 4.8487 - accuracy: 0.8654 - val_loss: 5.8681 - val_accuracy: 0.3383\n",
      "Epoch 3/150\n",
      "40/40 [==============================] - 0s 3ms/step - loss: 4.2619 - accuracy: 0.8775 - val_loss: 5.5224 - val_accuracy: 0.2888\n",
      "Epoch 4/150\n",
      "40/40 [==============================] - 0s 3ms/step - loss: 4.0339 - accuracy: 0.8848 - val_loss: 5.2019 - val_accuracy: 0.4530\n",
      "Epoch 5/150\n",
      "40/40 [==============================] - 0s 3ms/step - loss: 3.8652 - accuracy: 0.8893 - val_loss: 4.7544 - val_accuracy: 0.5557\n",
      "Epoch 6/150\n",
      "40/40 [==============================] - 0s 3ms/step - loss: 3.7059 - accuracy: 0.8930 - val_loss: 4.4313 - val_accuracy: 0.6935\n",
      "Epoch 7/150\n",
      "40/40 [==============================] - 0s 3ms/step - loss: 3.6490 - accuracy: 0.8953 - val_loss: 4.2950 - val_accuracy: 0.7335\n",
      "Epoch 8/150\n",
      "40/40 [==============================] - 0s 2ms/step - loss: 3.5989 - accuracy: 0.8965 - val_loss: 3.9958 - val_accuracy: 0.7778\n",
      "Epoch 9/150\n",
      "40/40 [==============================] - 0s 3ms/step - loss: 3.5364 - accuracy: 0.9008 - val_loss: 3.6152 - val_accuracy: 0.9000\n",
      "Epoch 10/150\n",
      "40/40 [==============================] - 0s 3ms/step - loss: 3.4663 - accuracy: 0.9029 - val_loss: 3.6462 - val_accuracy: 0.8465\n",
      "Epoch 11/150\n",
      "40/40 [==============================] - 0s 3ms/step - loss: 3.4378 - accuracy: 0.9027 - val_loss: 3.4603 - val_accuracy: 0.8747\n",
      "Epoch 12/150\n",
      "40/40 [==============================] - 0s 3ms/step - loss: 3.3959 - accuracy: 0.9060 - val_loss: 3.6667 - val_accuracy: 0.8082\n",
      "Epoch 13/150\n",
      "40/40 [==============================] - 0s 3ms/step - loss: 3.3947 - accuracy: 0.9035 - val_loss: 3.7531 - val_accuracy: 0.8030\n",
      "Epoch 14/150\n",
      "40/40 [==============================] - 0s 2ms/step - loss: 3.3927 - accuracy: 0.9068 - val_loss: 3.3271 - val_accuracy: 0.9209\n",
      "Epoch 15/150\n",
      "40/40 [==============================] - 0s 3ms/step - loss: 3.3860 - accuracy: 0.9051 - val_loss: 3.4973 - val_accuracy: 0.8763\n",
      "Epoch 16/150\n",
      "40/40 [==============================] - 0s 3ms/step - loss: 3.3705 - accuracy: 0.9105 - val_loss: 3.3837 - val_accuracy: 0.8897\n",
      "Epoch 17/150\n",
      "40/40 [==============================] - 0s 3ms/step - loss: 3.3434 - accuracy: 0.9093 - val_loss: 3.3650 - val_accuracy: 0.9073\n"
     ]
    }
   ],
   "source": [
    "#callback = tf.keras.callbacks.EarlyStopping(monitor='val_loss', patience=3)\n",
    "history=model.fit(x_train, y_train, validation_split=0.33, epochs=150, batch_size=1024) #, callbacks=[callback])"
   ]
  },
  {
   "cell_type": "code",
   "execution_count": 7,
   "id": "cc20f245",
   "metadata": {},
   "outputs": [
    {
     "data": {
      "image/png": "[encoded data removed]",
      "text/plain": [
       "<Figure size 432x288 with 1 Axes>"
      ]
     },
     "metadata": {
      "needs_background": "light"
     },
     "output_type": "display_data"
    }
   ],
   "source": [
    "# summarize history for accuracy\n",
    "plt.plot(history.history['accuracy'])\n",
    "plt.plot(history.history['val_accuracy'])\n",
    "plt.title('model accuracy')\n",
    "plt.ylabel('accuracy')\n",
    "plt.xlabel('epoch')\n",
    "plt.legend(['train', 'test'], loc='upper left')\n",
    "plt.show()\n"
   ]
  },
  {
   "cell_type": "code",
   "execution_count": 8,
   "id": "436e50b0",
   "metadata": {},
   "outputs": [
    {
     "data": {
      "image/png": "[encoded data removed]",
      "text/plain": [
       "<Figure size 432x288 with 1 Axes>"
      ]
     },
     "metadata": {
      "needs_background": "light"
     },
     "output_type": "display_data"
    }
   ],
   "source": [
    "# summarize history for loss\n",
    "plt.plot(history.history['loss'])\n",
    "plt.plot(history.history['val_loss'])\n",
    "plt.title('model loss')\n",
    "plt.ylabel('loss')\n",
    "plt.xlabel('epoch')\n",
    "plt.legend(['train', 'test'], loc='upper left')\n",
    "plt.show()"
   ]
  },
  {
   "cell_type": "code",
   "execution_count": 9,
   "id": "228c1cef",
   "metadata": {},
   "outputs": [
    {
     "name": "stdout",
     "output_type": "stream",
     "text": [
      "313/313 - 0s - loss: 3.3684 - accuracy: 0.9048\n"
     ]
    },
    {
     "data": {
      "text/plain": [
       "[3.3684301376342773, 0.9047999978065491]"
      ]
     },
     "execution_count": 9,
     "metadata": {},
     "output_type": "execute_result"
    }
   ],
   "source": [
    "model.evaluate(x_test,  y_test, verbose=2)"
   ]
  },
  {
   "cell_type": "code",
   "execution_count": null,
   "id": "4cfe2fc9",
   "metadata": {},
   "outputs": [],
   "source": []
  }
 ],
 "metadata": {
  "kernelspec": {
   "display_name": "Python 3 (ipykernel)",
   "language": "python",
   "name": "python3"
  },
  "language_info": {
   "codemirror_mode": {
    "name": "ipython",
    "version": 3
   },
   "file_extension": ".py",
   "mimetype": "text/x-python",
   "name": "python",
   "nbconvert_exporter": "python",
   "pygments_lexer": "ipython3",
   "version": "3.8.10"
  }
 },
 "nbformat": 4,
 "nbformat_minor": 5
}
