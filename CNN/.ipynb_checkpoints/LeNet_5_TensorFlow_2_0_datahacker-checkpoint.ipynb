{
 "cells": [
  {
   "cell_type": "code",
   "execution_count": 1,
   "metadata": {
    "id": "lXsO6OyvFiJz"
   },
   "outputs": [],
   "source": [
    "import datetime\n",
    "import numpy as np\n",
    "import tensorflow as tf\n",
    "import matplotlib.pyplot as plt\n",
    "\n",
    "from tensorflow.keras import Model\n",
    "from tensorflow.keras.models import Sequential\n",
    "from tensorflow.keras.losses import categorical_crossentropy\n",
    "from tensorflow.keras.layers import Dense, Flatten, Conv2D, AveragePooling2D\n",
    "\n",
    "from tensorflow.keras import datasets\n",
    "from tensorflow.keras.utils import to_categorical\n",
    "\n",
    "from __future__ import absolute_import, division, print_function, unicode_literals"
   ]
  },
  {
   "cell_type": "code",
   "execution_count": 2,
   "metadata": {
    "colab": {
     "base_uri": "https://localhost:8080/",
     "height": 153
    },
    "id": "Ms6WetkBcWDP",
    "outputId": "b6e1ad9a-bafd-4217-c7c2-b7282b9d44a3"
   },
   "outputs": [],
   "source": [
    "mnist = tf.keras.datasets.mnist\n",
    "(x_train, y_train), (x_test, y_test) = mnist.load_data()\n",
    "x_train, x_test = x_train / 255.0, x_test / 255.0"
   ]
  },
  {
   "cell_type": "code",
   "execution_count": 3,
   "metadata": {
    "colab": {
     "base_uri": "https://localhost:8080/",
     "height": 85
    },
    "id": "N4_4PluOcZe_",
    "outputId": "8357891d-7754-4527-f551-5047d5e8e7ce"
   },
   "outputs": [
    {
     "name": "stdout",
     "output_type": "stream",
     "text": [
      "x_train shape: (60000, 28, 28)\n",
      "60000 train samples\n",
      "10000 test samples\n",
      "(28, 28) image shape\n",
      "(60000,)\n"
     ]
    }
   ],
   "source": [
    "print('x_train shape:', x_train.shape)\n",
    "print(x_train.shape[0], 'train samples')\n",
    "print(x_test.shape[0], 'test samples')\n",
    "print(x_train[0].shape, 'image shape')\n",
    "print(y_train.shape)"
   ]
  },
  {
   "cell_type": "code",
   "execution_count": 4,
   "metadata": {
    "colab": {
     "base_uri": "https://localhost:8080/",
     "height": 85
    },
    "id": "_c0DplXTkpGB",
    "outputId": "2ccc3c53-9636-4f68-d6a9-acb2e2d4249d"
   },
   "outputs": [
    {
     "name": "stdout",
     "output_type": "stream",
     "text": [
      "x_train shape: (60000, 28, 28, 1)\n",
      "60000 train samples\n",
      "10000 test samples\n",
      "(28, 28, 1) image shape\n"
     ]
    }
   ],
   "source": [
    "# Add a new axis\n",
    "x_train = x_train[:, :, :, np.newaxis]\n",
    "x_test = x_test[:, :, :, np.newaxis]\n",
    "\n",
    "print('x_train shape:', x_train.shape)\n",
    "print(x_train.shape[0], 'train samples')\n",
    "print(x_test.shape[0], 'test samples')\n",
    "print(x_train[0].shape, 'image shape')"
   ]
  },
  {
   "cell_type": "code",
   "execution_count": 5,
   "metadata": {
    "id": "fUUkZmkoccyg"
   },
   "outputs": [
    {
     "name": "stdout",
     "output_type": "stream",
     "text": [
      "(60000, 10)\n",
      "(10000, 10)\n"
     ]
    }
   ],
   "source": [
    "# Convert class vectors to binary class matrices.\n",
    "\n",
    "num_classes = 10\n",
    "y_train = to_categorical(y_train, num_classes)\n",
    "y_test = to_categorical(y_test, num_classes)\n",
    "print(y_train.shape)\n",
    "print(y_test.shape)"
   ]
  },
  {
   "cell_type": "code",
   "execution_count": 6,
   "metadata": {
    "id": "UA2ehjxgF7bY",
    "scrolled": true
   },
   "outputs": [
    {
     "name": "stderr",
     "output_type": "stream",
     "text": [
      "2021-09-29 22:59:06.201642: I tensorflow/stream_executor/cuda/cuda_gpu_executor.cc:937] successful NUMA node read from SysFS had negative value (-1), but there must be at least one NUMA node, so returning NUMA node zero\n",
      "2021-09-29 22:59:06.208840: I tensorflow/stream_executor/cuda/cuda_gpu_executor.cc:937] successful NUMA node read from SysFS had negative value (-1), but there must be at least one NUMA node, so returning NUMA node zero\n",
      "2021-09-29 22:59:06.209453: I tensorflow/stream_executor/cuda/cuda_gpu_executor.cc:937] successful NUMA node read from SysFS had negative value (-1), but there must be at least one NUMA node, so returning NUMA node zero\n",
      "2021-09-29 22:59:06.209931: I tensorflow/core/platform/cpu_feature_guard.cc:142] This TensorFlow binary is optimized with oneAPI Deep Neural Network Library (oneDNN) to use the following CPU instructions in performance-critical operations:  AVX2 FMA\n",
      "To enable them in other operations, rebuild TensorFlow with the appropriate compiler flags.\n",
      "2021-09-29 22:59:06.210372: I tensorflow/stream_executor/cuda/cuda_gpu_executor.cc:937] successful NUMA node read from SysFS had negative value (-1), but there must be at least one NUMA node, so returning NUMA node zero\n",
      "2021-09-29 22:59:06.210660: I tensorflow/stream_executor/cuda/cuda_gpu_executor.cc:937] successful NUMA node read from SysFS had negative value (-1), but there must be at least one NUMA node, so returning NUMA node zero\n",
      "2021-09-29 22:59:06.210950: I tensorflow/stream_executor/cuda/cuda_gpu_executor.cc:937] successful NUMA node read from SysFS had negative value (-1), but there must be at least one NUMA node, so returning NUMA node zero\n",
      "2021-09-29 22:59:06.445221: I tensorflow/stream_executor/cuda/cuda_gpu_executor.cc:937] successful NUMA node read from SysFS had negative value (-1), but there must be at least one NUMA node, so returning NUMA node zero\n",
      "2021-09-29 22:59:06.445534: I tensorflow/stream_executor/cuda/cuda_gpu_executor.cc:937] successful NUMA node read from SysFS had negative value (-1), but there must be at least one NUMA node, so returning NUMA node zero\n",
      "2021-09-29 22:59:06.445831: I tensorflow/stream_executor/cuda/cuda_gpu_executor.cc:937] successful NUMA node read from SysFS had negative value (-1), but there must be at least one NUMA node, so returning NUMA node zero\n",
      "2021-09-29 22:59:06.446101: I tensorflow/core/common_runtime/gpu/gpu_device.cc:1510] Created device /job:localhost/replica:0/task:0/device:GPU:0 with 9591 MB memory:  -> device: 0, name: NVIDIA GeForce RTX 3060, pci bus id: 0000:09:00.0, compute capability: 8.6\n"
     ]
    }
   ],
   "source": [
    "# LeNet-5 model\n",
    "\n",
    "model = tf.keras.models.Sequential([\n",
    "    tf.keras.layers.Conv2D(6, kernel_size=(5, 5), strides=(1, 1), activation='tanh', input_shape=(28,28,1), padding=\"same\"),\n",
    "    tf.keras.layers.AveragePooling2D(pool_size=(2, 2), strides=(2, 2), padding='valid'),\n",
    "    tf.keras.layers.Conv2D(16, kernel_size=(5, 5), strides=(1, 1), activation='tanh', padding='valid'),\n",
    "    tf.keras.layers.AveragePooling2D(pool_size=(2, 2), strides=(2, 2), padding='valid'),\n",
    "    tf.keras.layers.Flatten(),\n",
    "    tf.keras.layers.Dense(120, activation='tanh'),\n",
    "    tf.keras.layers.Dense(84, activation='tanh'),\n",
    "    tf.keras.layers.Dense(10, activation='softmax')\n",
    "])\n",
    "\n",
    "\n",
    "\n",
    "\n",
    "    "
   ]
  },
  {
   "cell_type": "code",
   "execution_count": 7,
   "metadata": {
    "colab": {
     "base_uri": "https://localhost:8080/",
     "height": 425
    },
    "id": "DLzSwPG1arbk",
    "outputId": "a2518fe9-4ebf-4721-89f1-2741cfce3a6d",
    "scrolled": true
   },
   "outputs": [
    {
     "name": "stdout",
     "output_type": "stream",
     "text": [
      "Model: \"sequential\"\n",
      "_________________________________________________________________\n",
      "Layer (type)                 Output Shape              Param #   \n",
      "=================================================================\n",
      "conv2d (Conv2D)              (None, 28, 28, 6)         156       \n",
      "_________________________________________________________________\n",
      "average_pooling2d (AveragePo (None, 14, 14, 6)         0         \n",
      "_________________________________________________________________\n",
      "conv2d_1 (Conv2D)            (None, 10, 10, 16)        2416      \n",
      "_________________________________________________________________\n",
      "average_pooling2d_1 (Average (None, 5, 5, 16)          0         \n",
      "_________________________________________________________________\n",
      "flatten (Flatten)            (None, 400)               0         \n",
      "_________________________________________________________________\n",
      "dense (Dense)                (None, 120)               48120     \n",
      "_________________________________________________________________\n",
      "dense_1 (Dense)              (None, 84)                10164     \n",
      "_________________________________________________________________\n",
      "dense_2 (Dense)              (None, 10)                850       \n",
      "=================================================================\n",
      "Total params: 61,706\n",
      "Trainable params: 61,706\n",
      "Non-trainable params: 0\n",
      "_________________________________________________________________\n"
     ]
    }
   ],
   "source": [
    "model.summary()"
   ]
  },
  {
   "cell_type": "code",
   "execution_count": 8,
   "metadata": {},
   "outputs": [],
   "source": [
    "model.compile(optimizer='adam',\n",
    "                loss=categorical_crossentropy,\n",
    "                metrics=['accuracy'])"
   ]
  },
  {
   "cell_type": "code",
   "execution_count": 9,
   "metadata": {
    "colab": {
     "base_uri": "https://localhost:8080/",
     "height": 51
    },
    "id": "BWudz07TXuW4",
    "outputId": "4041af32-58e9-4156-8887-4a46ccdda529",
    "scrolled": true
   },
   "outputs": [
    {
     "name": "stderr",
     "output_type": "stream",
     "text": [
      "2021-09-29 22:59:06.761163: I tensorflow/compiler/mlir/mlir_graph_optimization_pass.cc:185] None of the MLIR Optimization Passes are enabled (registered 2)\n"
     ]
    },
    {
     "name": "stdout",
     "output_type": "stream",
     "text": [
      "Epoch 1/150\n"
     ]
    },
    {
     "name": "stderr",
     "output_type": "stream",
     "text": [
      "2021-09-29 22:59:07.390459: I tensorflow/stream_executor/cuda/cuda_dnn.cc:369] Loaded cuDNN version 8204\n",
      "2021-09-29 22:59:07.984056: I tensorflow/core/platform/default/subprocess.cc:304] Start cannot spawn child process: No such file or directory\n",
      "2021-09-29 22:59:08.369849: I tensorflow/stream_executor/cuda/cuda_blas.cc:1760] TensorFloat-32 will be used for the matrix multiplication. This will only be logged once.\n"
     ]
    },
    {
     "name": "stdout",
     "output_type": "stream",
     "text": [
      "40/40 [==============================] - 2s 10ms/step - loss: 1.0251 - accuracy: 0.7369 - val_loss: 0.4300 - val_accuracy: 0.8786\n",
      "Epoch 2/150\n",
      "40/40 [==============================] - 0s 6ms/step - loss: 0.3673 - accuracy: 0.8934 - val_loss: 0.3029 - val_accuracy: 0.9102\n",
      "Epoch 3/150\n",
      "40/40 [==============================] - 0s 6ms/step - loss: 0.2788 - accuracy: 0.9183 - val_loss: 0.2457 - val_accuracy: 0.9277\n",
      "Epoch 4/150\n",
      "40/40 [==============================] - 0s 6ms/step - loss: 0.2253 - accuracy: 0.9324 - val_loss: 0.2060 - val_accuracy: 0.9388\n",
      "Epoch 5/150\n",
      "40/40 [==============================] - 0s 6ms/step - loss: 0.1861 - accuracy: 0.9448 - val_loss: 0.1781 - val_accuracy: 0.9462\n",
      "Epoch 6/150\n",
      "40/40 [==============================] - 0s 6ms/step - loss: 0.1574 - accuracy: 0.9529 - val_loss: 0.1587 - val_accuracy: 0.9513\n",
      "Epoch 7/150\n",
      "40/40 [==============================] - 0s 6ms/step - loss: 0.1350 - accuracy: 0.9599 - val_loss: 0.1396 - val_accuracy: 0.9582\n",
      "Epoch 8/150\n",
      "40/40 [==============================] - 0s 6ms/step - loss: 0.1179 - accuracy: 0.9650 - val_loss: 0.1246 - val_accuracy: 0.9626\n",
      "Epoch 9/150\n",
      "40/40 [==============================] - 0s 6ms/step - loss: 0.1045 - accuracy: 0.9690 - val_loss: 0.1141 - val_accuracy: 0.9664\n",
      "Epoch 10/150\n",
      "40/40 [==============================] - 0s 6ms/step - loss: 0.0914 - accuracy: 0.9731 - val_loss: 0.1040 - val_accuracy: 0.9693\n",
      "Epoch 11/150\n",
      "40/40 [==============================] - 0s 6ms/step - loss: 0.0816 - accuracy: 0.9754 - val_loss: 0.0982 - val_accuracy: 0.9709\n",
      "Epoch 12/150\n",
      "40/40 [==============================] - 0s 6ms/step - loss: 0.0723 - accuracy: 0.9789 - val_loss: 0.0894 - val_accuracy: 0.9734\n",
      "Epoch 13/150\n",
      "40/40 [==============================] - 0s 6ms/step - loss: 0.0659 - accuracy: 0.9806 - val_loss: 0.0850 - val_accuracy: 0.9748\n",
      "Epoch 14/150\n",
      "40/40 [==============================] - 0s 6ms/step - loss: 0.0599 - accuracy: 0.9822 - val_loss: 0.0815 - val_accuracy: 0.9747\n",
      "Epoch 15/150\n",
      "40/40 [==============================] - 0s 6ms/step - loss: 0.0551 - accuracy: 0.9833 - val_loss: 0.0782 - val_accuracy: 0.9762\n",
      "Epoch 16/150\n",
      "40/40 [==============================] - 0s 6ms/step - loss: 0.0493 - accuracy: 0.9858 - val_loss: 0.0769 - val_accuracy: 0.9772\n",
      "Epoch 17/150\n",
      "40/40 [==============================] - 0s 6ms/step - loss: 0.0458 - accuracy: 0.9872 - val_loss: 0.0725 - val_accuracy: 0.9771\n",
      "Epoch 18/150\n",
      "40/40 [==============================] - 0s 6ms/step - loss: 0.0406 - accuracy: 0.9889 - val_loss: 0.0714 - val_accuracy: 0.9785\n",
      "Epoch 19/150\n",
      "40/40 [==============================] - 0s 6ms/step - loss: 0.0389 - accuracy: 0.9891 - val_loss: 0.0673 - val_accuracy: 0.9800\n",
      "Epoch 20/150\n",
      "40/40 [==============================] - 0s 6ms/step - loss: 0.0347 - accuracy: 0.9908 - val_loss: 0.0659 - val_accuracy: 0.9804\n",
      "Epoch 21/150\n",
      "40/40 [==============================] - 0s 6ms/step - loss: 0.0339 - accuracy: 0.9906 - val_loss: 0.0652 - val_accuracy: 0.9801\n",
      "Epoch 22/150\n",
      "40/40 [==============================] - 0s 6ms/step - loss: 0.0308 - accuracy: 0.9919 - val_loss: 0.0672 - val_accuracy: 0.9793\n",
      "Epoch 23/150\n",
      "40/40 [==============================] - 0s 6ms/step - loss: 0.0286 - accuracy: 0.9921 - val_loss: 0.0619 - val_accuracy: 0.9815\n",
      "Epoch 24/150\n",
      "40/40 [==============================] - 0s 6ms/step - loss: 0.0251 - accuracy: 0.9942 - val_loss: 0.0603 - val_accuracy: 0.9815\n",
      "Epoch 25/150\n",
      "40/40 [==============================] - 0s 6ms/step - loss: 0.0231 - accuracy: 0.9945 - val_loss: 0.0618 - val_accuracy: 0.9817\n",
      "Epoch 26/150\n",
      "40/40 [==============================] - 0s 6ms/step - loss: 0.0212 - accuracy: 0.9954 - val_loss: 0.0593 - val_accuracy: 0.9821\n",
      "Epoch 27/150\n",
      "40/40 [==============================] - 0s 6ms/step - loss: 0.0200 - accuracy: 0.9950 - val_loss: 0.0597 - val_accuracy: 0.9825\n",
      "Epoch 28/150\n",
      "40/40 [==============================] - 0s 6ms/step - loss: 0.0179 - accuracy: 0.9958 - val_loss: 0.0578 - val_accuracy: 0.9822\n",
      "Epoch 29/150\n",
      "40/40 [==============================] - 0s 6ms/step - loss: 0.0170 - accuracy: 0.9962 - val_loss: 0.0582 - val_accuracy: 0.9829\n",
      "Epoch 30/150\n",
      "40/40 [==============================] - 0s 6ms/step - loss: 0.0151 - accuracy: 0.9967 - val_loss: 0.0584 - val_accuracy: 0.9824\n",
      "Epoch 31/150\n",
      "40/40 [==============================] - 0s 6ms/step - loss: 0.0139 - accuracy: 0.9971 - val_loss: 0.0583 - val_accuracy: 0.9822\n",
      "Epoch 32/150\n",
      "40/40 [==============================] - 0s 6ms/step - loss: 0.0131 - accuracy: 0.9974 - val_loss: 0.0603 - val_accuracy: 0.9824\n",
      "Epoch 33/150\n",
      "40/40 [==============================] - 0s 6ms/step - loss: 0.0122 - accuracy: 0.9976 - val_loss: 0.0576 - val_accuracy: 0.9826\n",
      "Epoch 34/150\n",
      "40/40 [==============================] - 0s 6ms/step - loss: 0.0110 - accuracy: 0.9982 - val_loss: 0.0562 - val_accuracy: 0.9837\n",
      "Epoch 35/150\n",
      "40/40 [==============================] - 0s 6ms/step - loss: 0.0103 - accuracy: 0.9981 - val_loss: 0.0570 - val_accuracy: 0.9836\n",
      "Epoch 36/150\n",
      "40/40 [==============================] - 0s 6ms/step - loss: 0.0091 - accuracy: 0.9984 - val_loss: 0.0560 - val_accuracy: 0.9834\n",
      "Epoch 37/150\n",
      "40/40 [==============================] - 0s 6ms/step - loss: 0.0081 - accuracy: 0.9989 - val_loss: 0.0585 - val_accuracy: 0.9826\n",
      "Epoch 38/150\n",
      "40/40 [==============================] - 0s 6ms/step - loss: 0.0081 - accuracy: 0.9986 - val_loss: 0.0572 - val_accuracy: 0.9828\n",
      "Epoch 39/150\n",
      "40/40 [==============================] - 0s 6ms/step - loss: 0.0076 - accuracy: 0.9989 - val_loss: 0.0565 - val_accuracy: 0.9835\n",
      "Epoch 40/150\n",
      "40/40 [==============================] - 0s 6ms/step - loss: 0.0067 - accuracy: 0.9992 - val_loss: 0.0576 - val_accuracy: 0.9835\n",
      "Epoch 41/150\n",
      "40/40 [==============================] - 0s 6ms/step - loss: 0.0063 - accuracy: 0.9993 - val_loss: 0.0566 - val_accuracy: 0.9839\n",
      "Epoch 42/150\n",
      "40/40 [==============================] - 0s 6ms/step - loss: 0.0057 - accuracy: 0.9993 - val_loss: 0.0564 - val_accuracy: 0.9843\n",
      "Epoch 43/150\n",
      "40/40 [==============================] - 0s 6ms/step - loss: 0.0050 - accuracy: 0.9995 - val_loss: 0.0562 - val_accuracy: 0.9837\n",
      "Epoch 44/150\n",
      "40/40 [==============================] - 0s 6ms/step - loss: 0.0046 - accuracy: 0.9996 - val_loss: 0.0556 - val_accuracy: 0.9846\n",
      "Epoch 45/150\n",
      "40/40 [==============================] - 0s 6ms/step - loss: 0.0046 - accuracy: 0.9996 - val_loss: 0.0574 - val_accuracy: 0.9845\n",
      "Epoch 46/150\n",
      "40/40 [==============================] - 0s 6ms/step - loss: 0.0042 - accuracy: 0.9997 - val_loss: 0.0587 - val_accuracy: 0.9834\n",
      "Epoch 47/150\n",
      "40/40 [==============================] - 0s 6ms/step - loss: 0.0039 - accuracy: 0.9997 - val_loss: 0.0588 - val_accuracy: 0.9834\n",
      "Epoch 48/150\n",
      "40/40 [==============================] - 0s 6ms/step - loss: 0.0035 - accuracy: 0.9998 - val_loss: 0.0570 - val_accuracy: 0.9846\n",
      "Epoch 49/150\n",
      "40/40 [==============================] - 0s 6ms/step - loss: 0.0034 - accuracy: 0.9997 - val_loss: 0.0584 - val_accuracy: 0.9843\n",
      "Epoch 50/150\n",
      "40/40 [==============================] - 0s 6ms/step - loss: 0.0035 - accuracy: 0.9997 - val_loss: 0.0588 - val_accuracy: 0.9843\n",
      "Epoch 51/150\n",
      "40/40 [==============================] - 0s 6ms/step - loss: 0.0036 - accuracy: 0.9997 - val_loss: 0.0585 - val_accuracy: 0.9843\n",
      "Epoch 52/150\n",
      "40/40 [==============================] - 0s 6ms/step - loss: 0.0031 - accuracy: 0.9996 - val_loss: 0.0594 - val_accuracy: 0.9842\n",
      "Epoch 53/150\n",
      "40/40 [==============================] - 0s 6ms/step - loss: 0.0029 - accuracy: 0.9997 - val_loss: 0.0586 - val_accuracy: 0.9844\n",
      "Epoch 54/150\n",
      "40/40 [==============================] - 0s 6ms/step - loss: 0.0023 - accuracy: 0.9999 - val_loss: 0.0586 - val_accuracy: 0.9840\n",
      "Epoch 55/150\n",
      "40/40 [==============================] - 0s 6ms/step - loss: 0.0026 - accuracy: 0.9997 - val_loss: 0.0613 - val_accuracy: 0.9833\n",
      "Epoch 56/150\n",
      "40/40 [==============================] - 0s 6ms/step - loss: 0.0023 - accuracy: 0.9999 - val_loss: 0.0588 - val_accuracy: 0.9841\n",
      "Epoch 57/150\n",
      "40/40 [==============================] - 0s 6ms/step - loss: 0.0019 - accuracy: 0.9999 - val_loss: 0.0589 - val_accuracy: 0.9845\n",
      "Epoch 58/150\n",
      "40/40 [==============================] - 0s 6ms/step - loss: 0.0018 - accuracy: 0.9999 - val_loss: 0.0587 - val_accuracy: 0.9844\n"
     ]
    },
    {
     "name": "stdout",
     "output_type": "stream",
     "text": [
      "Epoch 59/150\n",
      "40/40 [==============================] - 0s 6ms/step - loss: 0.0016 - accuracy: 1.0000 - val_loss: 0.0589 - val_accuracy: 0.9840\n",
      "Epoch 60/150\n",
      "40/40 [==============================] - 0s 6ms/step - loss: 0.0015 - accuracy: 0.9999 - val_loss: 0.0591 - val_accuracy: 0.9844\n",
      "Epoch 61/150\n",
      "40/40 [==============================] - 0s 6ms/step - loss: 0.0015 - accuracy: 0.9999 - val_loss: 0.0597 - val_accuracy: 0.9845\n",
      "Epoch 62/150\n",
      "40/40 [==============================] - 0s 6ms/step - loss: 0.0015 - accuracy: 1.0000 - val_loss: 0.0598 - val_accuracy: 0.9847\n",
      "Epoch 63/150\n",
      "40/40 [==============================] - 0s 6ms/step - loss: 0.0013 - accuracy: 1.0000 - val_loss: 0.0594 - val_accuracy: 0.9847\n",
      "Epoch 64/150\n",
      "40/40 [==============================] - 0s 6ms/step - loss: 0.0012 - accuracy: 1.0000 - val_loss: 0.0598 - val_accuracy: 0.9846\n",
      "Epoch 65/150\n",
      "40/40 [==============================] - 0s 6ms/step - loss: 0.0011 - accuracy: 1.0000 - val_loss: 0.0597 - val_accuracy: 0.9846\n",
      "Epoch 66/150\n",
      "40/40 [==============================] - 0s 6ms/step - loss: 0.0011 - accuracy: 1.0000 - val_loss: 0.0604 - val_accuracy: 0.9843\n",
      "Epoch 67/150\n",
      "40/40 [==============================] - 0s 6ms/step - loss: 0.0012 - accuracy: 1.0000 - val_loss: 0.0602 - val_accuracy: 0.9850\n",
      "Epoch 68/150\n",
      "40/40 [==============================] - 0s 6ms/step - loss: 0.0015 - accuracy: 0.9998 - val_loss: 0.0700 - val_accuracy: 0.9836\n",
      "Epoch 69/150\n",
      "40/40 [==============================] - 0s 6ms/step - loss: 0.0051 - accuracy: 0.9985 - val_loss: 0.0689 - val_accuracy: 0.9815\n",
      "Epoch 70/150\n",
      "40/40 [==============================] - 0s 6ms/step - loss: 0.0023 - accuracy: 0.9997 - val_loss: 0.0612 - val_accuracy: 0.9842\n",
      "Epoch 71/150\n",
      "40/40 [==============================] - 0s 6ms/step - loss: 0.0012 - accuracy: 0.9999 - val_loss: 0.0602 - val_accuracy: 0.9844\n",
      "Epoch 72/150\n",
      "40/40 [==============================] - 0s 6ms/step - loss: 0.0010 - accuracy: 1.0000 - val_loss: 0.0607 - val_accuracy: 0.9852\n",
      "Epoch 73/150\n",
      "40/40 [==============================] - 0s 6ms/step - loss: 7.7781e-04 - accuracy: 1.0000 - val_loss: 0.0604 - val_accuracy: 0.9848\n",
      "Epoch 74/150\n",
      "40/40 [==============================] - 0s 6ms/step - loss: 7.2213e-04 - accuracy: 1.0000 - val_loss: 0.0605 - val_accuracy: 0.9848\n",
      "Epoch 75/150\n",
      "40/40 [==============================] - 0s 6ms/step - loss: 6.5752e-04 - accuracy: 1.0000 - val_loss: 0.0611 - val_accuracy: 0.9848\n",
      "Epoch 76/150\n",
      "40/40 [==============================] - 0s 6ms/step - loss: 6.4658e-04 - accuracy: 1.0000 - val_loss: 0.0608 - val_accuracy: 0.9850\n",
      "Epoch 77/150\n",
      "40/40 [==============================] - 0s 6ms/step - loss: 6.4007e-04 - accuracy: 1.0000 - val_loss: 0.0615 - val_accuracy: 0.9847\n",
      "Epoch 78/150\n",
      "40/40 [==============================] - 0s 6ms/step - loss: 5.8067e-04 - accuracy: 1.0000 - val_loss: 0.0610 - val_accuracy: 0.9849\n",
      "Epoch 79/150\n",
      "40/40 [==============================] - 0s 6ms/step - loss: 5.5718e-04 - accuracy: 1.0000 - val_loss: 0.0615 - val_accuracy: 0.9847\n",
      "Epoch 80/150\n",
      "40/40 [==============================] - 0s 6ms/step - loss: 5.2871e-04 - accuracy: 1.0000 - val_loss: 0.0615 - val_accuracy: 0.9849\n",
      "Epoch 81/150\n",
      "40/40 [==============================] - 0s 6ms/step - loss: 5.1317e-04 - accuracy: 1.0000 - val_loss: 0.0617 - val_accuracy: 0.9847\n",
      "Epoch 82/150\n",
      "40/40 [==============================] - 0s 6ms/step - loss: 5.0215e-04 - accuracy: 1.0000 - val_loss: 0.0622 - val_accuracy: 0.9847\n",
      "Epoch 83/150\n",
      "40/40 [==============================] - 0s 6ms/step - loss: 6.0306e-04 - accuracy: 1.0000 - val_loss: 0.0631 - val_accuracy: 0.9848\n",
      "Epoch 84/150\n",
      "40/40 [==============================] - 0s 6ms/step - loss: 4.7772e-04 - accuracy: 1.0000 - val_loss: 0.0630 - val_accuracy: 0.9848\n",
      "Epoch 85/150\n",
      "40/40 [==============================] - 0s 6ms/step - loss: 4.3582e-04 - accuracy: 1.0000 - val_loss: 0.0625 - val_accuracy: 0.9850\n",
      "Epoch 86/150\n",
      "40/40 [==============================] - 0s 6ms/step - loss: 4.2374e-04 - accuracy: 1.0000 - val_loss: 0.0624 - val_accuracy: 0.9851\n",
      "Epoch 87/150\n",
      "40/40 [==============================] - 0s 6ms/step - loss: 4.0484e-04 - accuracy: 1.0000 - val_loss: 0.0629 - val_accuracy: 0.9851\n",
      "Epoch 88/150\n",
      "40/40 [==============================] - 0s 6ms/step - loss: 3.9033e-04 - accuracy: 1.0000 - val_loss: 0.0631 - val_accuracy: 0.9850\n",
      "Epoch 89/150\n",
      "40/40 [==============================] - 0s 6ms/step - loss: 3.7504e-04 - accuracy: 1.0000 - val_loss: 0.0632 - val_accuracy: 0.9851\n",
      "Epoch 90/150\n",
      "40/40 [==============================] - 0s 6ms/step - loss: 3.6713e-04 - accuracy: 1.0000 - val_loss: 0.0634 - val_accuracy: 0.9850\n",
      "Epoch 91/150\n",
      "40/40 [==============================] - 0s 6ms/step - loss: 3.5526e-04 - accuracy: 1.0000 - val_loss: 0.0636 - val_accuracy: 0.9846\n",
      "Epoch 92/150\n",
      "40/40 [==============================] - 0s 6ms/step - loss: 3.5103e-04 - accuracy: 1.0000 - val_loss: 0.0636 - val_accuracy: 0.9849\n",
      "Epoch 93/150\n",
      "40/40 [==============================] - 0s 6ms/step - loss: 3.3526e-04 - accuracy: 1.0000 - val_loss: 0.0633 - val_accuracy: 0.9851\n",
      "Epoch 94/150\n",
      "40/40 [==============================] - 0s 6ms/step - loss: 3.1696e-04 - accuracy: 1.0000 - val_loss: 0.0639 - val_accuracy: 0.9850\n",
      "Epoch 95/150\n",
      "40/40 [==============================] - 0s 6ms/step - loss: 3.1848e-04 - accuracy: 1.0000 - val_loss: 0.0638 - val_accuracy: 0.9849\n",
      "Epoch 96/150\n",
      "40/40 [==============================] - 0s 6ms/step - loss: 2.9975e-04 - accuracy: 1.0000 - val_loss: 0.0641 - val_accuracy: 0.9851\n",
      "Epoch 97/150\n",
      "40/40 [==============================] - 0s 6ms/step - loss: 2.9113e-04 - accuracy: 1.0000 - val_loss: 0.0640 - val_accuracy: 0.9854\n",
      "Epoch 98/150\n",
      "40/40 [==============================] - 0s 6ms/step - loss: 2.8139e-04 - accuracy: 1.0000 - val_loss: 0.0646 - val_accuracy: 0.9850\n",
      "Epoch 99/150\n",
      "40/40 [==============================] - 0s 6ms/step - loss: 2.7905e-04 - accuracy: 1.0000 - val_loss: 0.0641 - val_accuracy: 0.9850\n",
      "Epoch 100/150\n",
      "40/40 [==============================] - 0s 6ms/step - loss: 2.6264e-04 - accuracy: 1.0000 - val_loss: 0.0643 - val_accuracy: 0.9853\n",
      "Epoch 101/150\n",
      "40/40 [==============================] - 0s 6ms/step - loss: 2.5604e-04 - accuracy: 1.0000 - val_loss: 0.0642 - val_accuracy: 0.9851\n",
      "Epoch 102/150\n",
      "40/40 [==============================] - 0s 6ms/step - loss: 2.4718e-04 - accuracy: 1.0000 - val_loss: 0.0642 - val_accuracy: 0.9850\n",
      "Epoch 103/150\n",
      "40/40 [==============================] - 0s 6ms/step - loss: 2.4725e-04 - accuracy: 1.0000 - val_loss: 0.0648 - val_accuracy: 0.9853\n",
      "Epoch 104/150\n",
      "40/40 [==============================] - 0s 6ms/step - loss: 2.2996e-04 - accuracy: 1.0000 - val_loss: 0.0646 - val_accuracy: 0.9853\n",
      "Epoch 105/150\n",
      "40/40 [==============================] - 0s 6ms/step - loss: 2.2359e-04 - accuracy: 1.0000 - val_loss: 0.0652 - val_accuracy: 0.9852\n",
      "Epoch 106/150\n",
      "40/40 [==============================] - 0s 6ms/step - loss: 2.2033e-04 - accuracy: 1.0000 - val_loss: 0.0651 - val_accuracy: 0.9848\n",
      "Epoch 107/150\n",
      "40/40 [==============================] - 0s 6ms/step - loss: 2.1152e-04 - accuracy: 1.0000 - val_loss: 0.0652 - val_accuracy: 0.9853\n",
      "Epoch 108/150\n",
      "40/40 [==============================] - 0s 6ms/step - loss: 2.0361e-04 - accuracy: 1.0000 - val_loss: 0.0655 - val_accuracy: 0.9851\n",
      "Epoch 109/150\n",
      "40/40 [==============================] - 0s 6ms/step - loss: 2.0148e-04 - accuracy: 1.0000 - val_loss: 0.0650 - val_accuracy: 0.9850\n",
      "Epoch 110/150\n",
      "40/40 [==============================] - 0s 6ms/step - loss: 1.9506e-04 - accuracy: 1.0000 - val_loss: 0.0655 - val_accuracy: 0.9851\n",
      "Epoch 111/150\n",
      "40/40 [==============================] - 0s 6ms/step - loss: 1.9005e-04 - accuracy: 1.0000 - val_loss: 0.0654 - val_accuracy: 0.9853\n",
      "Epoch 112/150\n",
      "40/40 [==============================] - 0s 6ms/step - loss: 1.8181e-04 - accuracy: 1.0000 - val_loss: 0.0658 - val_accuracy: 0.9855\n",
      "Epoch 113/150\n",
      "40/40 [==============================] - 0s 6ms/step - loss: 1.8018e-04 - accuracy: 1.0000 - val_loss: 0.0660 - val_accuracy: 0.9850\n",
      "Epoch 114/150\n",
      "40/40 [==============================] - 0s 6ms/step - loss: 1.7264e-04 - accuracy: 1.0000 - val_loss: 0.0661 - val_accuracy: 0.9853\n",
      "Epoch 115/150\n"
     ]
    },
    {
     "name": "stdout",
     "output_type": "stream",
     "text": [
      "40/40 [==============================] - 0s 6ms/step - loss: 1.7054e-04 - accuracy: 1.0000 - val_loss: 0.0661 - val_accuracy: 0.9852\n",
      "Epoch 116/150\n",
      "40/40 [==============================] - 0s 6ms/step - loss: 1.6264e-04 - accuracy: 1.0000 - val_loss: 0.0659 - val_accuracy: 0.9851\n",
      "Epoch 117/150\n",
      "40/40 [==============================] - 0s 6ms/step - loss: 1.5877e-04 - accuracy: 1.0000 - val_loss: 0.0664 - val_accuracy: 0.9852\n",
      "Epoch 118/150\n",
      "40/40 [==============================] - 0s 5ms/step - loss: 1.5440e-04 - accuracy: 1.0000 - val_loss: 0.0663 - val_accuracy: 0.9851\n",
      "Epoch 119/150\n",
      "40/40 [==============================] - 0s 6ms/step - loss: 1.5083e-04 - accuracy: 1.0000 - val_loss: 0.0663 - val_accuracy: 0.9853\n",
      "Epoch 120/150\n",
      "40/40 [==============================] - 0s 6ms/step - loss: 1.4485e-04 - accuracy: 1.0000 - val_loss: 0.0668 - val_accuracy: 0.9852\n",
      "Epoch 121/150\n",
      "40/40 [==============================] - 0s 6ms/step - loss: 1.3987e-04 - accuracy: 1.0000 - val_loss: 0.0668 - val_accuracy: 0.9854\n",
      "Epoch 122/150\n",
      "40/40 [==============================] - 0s 6ms/step - loss: 1.3650e-04 - accuracy: 1.0000 - val_loss: 0.0670 - val_accuracy: 0.9853\n",
      "Epoch 123/150\n",
      "40/40 [==============================] - 0s 6ms/step - loss: 1.3738e-04 - accuracy: 1.0000 - val_loss: 0.0673 - val_accuracy: 0.9850\n",
      "Epoch 124/150\n",
      "40/40 [==============================] - 0s 6ms/step - loss: 1.2918e-04 - accuracy: 1.0000 - val_loss: 0.0672 - val_accuracy: 0.9853\n",
      "Epoch 125/150\n",
      "40/40 [==============================] - 0s 6ms/step - loss: 1.2650e-04 - accuracy: 1.0000 - val_loss: 0.0672 - val_accuracy: 0.9854\n",
      "Epoch 126/150\n",
      "40/40 [==============================] - 0s 6ms/step - loss: 1.2074e-04 - accuracy: 1.0000 - val_loss: 0.0670 - val_accuracy: 0.9853\n",
      "Epoch 127/150\n",
      "40/40 [==============================] - 0s 6ms/step - loss: 1.1797e-04 - accuracy: 1.0000 - val_loss: 0.0671 - val_accuracy: 0.9855\n",
      "Epoch 128/150\n",
      "40/40 [==============================] - 0s 6ms/step - loss: 1.1589e-04 - accuracy: 1.0000 - val_loss: 0.0672 - val_accuracy: 0.9855\n",
      "Epoch 129/150\n",
      "40/40 [==============================] - 0s 6ms/step - loss: 1.1328e-04 - accuracy: 1.0000 - val_loss: 0.0672 - val_accuracy: 0.9853\n",
      "Epoch 130/150\n",
      "40/40 [==============================] - 0s 6ms/step - loss: 1.0835e-04 - accuracy: 1.0000 - val_loss: 0.0678 - val_accuracy: 0.9856\n",
      "Epoch 131/150\n",
      "40/40 [==============================] - 0s 6ms/step - loss: 1.0465e-04 - accuracy: 1.0000 - val_loss: 0.0674 - val_accuracy: 0.9854\n",
      "Epoch 132/150\n",
      "40/40 [==============================] - 0s 6ms/step - loss: 1.0231e-04 - accuracy: 1.0000 - val_loss: 0.0673 - val_accuracy: 0.9855\n",
      "Epoch 133/150\n",
      "40/40 [==============================] - 0s 6ms/step - loss: 1.0115e-04 - accuracy: 1.0000 - val_loss: 0.0675 - val_accuracy: 0.9856\n",
      "Epoch 134/150\n",
      "40/40 [==============================] - 0s 6ms/step - loss: 9.7693e-05 - accuracy: 1.0000 - val_loss: 0.0680 - val_accuracy: 0.9854\n",
      "Epoch 135/150\n",
      "40/40 [==============================] - 0s 6ms/step - loss: 9.5192e-05 - accuracy: 1.0000 - val_loss: 0.0680 - val_accuracy: 0.9855\n",
      "Epoch 136/150\n",
      "40/40 [==============================] - 0s 6ms/step - loss: 9.3046e-05 - accuracy: 1.0000 - val_loss: 0.0681 - val_accuracy: 0.9853\n",
      "Epoch 137/150\n",
      "40/40 [==============================] - 0s 6ms/step - loss: 9.0040e-05 - accuracy: 1.0000 - val_loss: 0.0683 - val_accuracy: 0.9854\n",
      "Epoch 138/150\n",
      "40/40 [==============================] - 0s 6ms/step - loss: 8.7128e-05 - accuracy: 1.0000 - val_loss: 0.0686 - val_accuracy: 0.9855\n",
      "Epoch 139/150\n",
      "40/40 [==============================] - 0s 6ms/step - loss: 8.5739e-05 - accuracy: 1.0000 - val_loss: 0.0691 - val_accuracy: 0.9854\n",
      "Epoch 140/150\n",
      "40/40 [==============================] - 0s 6ms/step - loss: 8.4827e-05 - accuracy: 1.0000 - val_loss: 0.0687 - val_accuracy: 0.9855\n",
      "Epoch 141/150\n",
      "40/40 [==============================] - 0s 6ms/step - loss: 8.1470e-05 - accuracy: 1.0000 - val_loss: 0.0686 - val_accuracy: 0.9856\n",
      "Epoch 142/150\n",
      "40/40 [==============================] - 0s 6ms/step - loss: 7.8070e-05 - accuracy: 1.0000 - val_loss: 0.0689 - val_accuracy: 0.9856\n",
      "Epoch 143/150\n",
      "40/40 [==============================] - 0s 6ms/step - loss: 7.6825e-05 - accuracy: 1.0000 - val_loss: 0.0688 - val_accuracy: 0.9855\n",
      "Epoch 144/150\n",
      "40/40 [==============================] - 0s 6ms/step - loss: 7.4961e-05 - accuracy: 1.0000 - val_loss: 0.0693 - val_accuracy: 0.9855\n",
      "Epoch 145/150\n",
      "40/40 [==============================] - 0s 6ms/step - loss: 7.3017e-05 - accuracy: 1.0000 - val_loss: 0.0690 - val_accuracy: 0.9857\n",
      "Epoch 146/150\n",
      "40/40 [==============================] - 0s 6ms/step - loss: 7.1044e-05 - accuracy: 1.0000 - val_loss: 0.0691 - val_accuracy: 0.9855\n",
      "Epoch 147/150\n",
      "40/40 [==============================] - 0s 6ms/step - loss: 6.8947e-05 - accuracy: 1.0000 - val_loss: 0.0694 - val_accuracy: 0.9855\n",
      "Epoch 148/150\n",
      "40/40 [==============================] - 0s 6ms/step - loss: 6.7910e-05 - accuracy: 1.0000 - val_loss: 0.0697 - val_accuracy: 0.9854\n",
      "Epoch 149/150\n",
      "40/40 [==============================] - 0s 6ms/step - loss: 6.6507e-05 - accuracy: 1.0000 - val_loss: 0.0696 - val_accuracy: 0.9855\n",
      "Epoch 150/150\n",
      "40/40 [==============================] - 0s 6ms/step - loss: 6.4365e-05 - accuracy: 1.0000 - val_loss: 0.0694 - val_accuracy: 0.9857\n"
     ]
    }
   ],
   "source": [
    "history=model.fit(x_train, y_train, validation_split=0.33, epochs=150, batch_size=1024)"
   ]
  },
  {
   "cell_type": "code",
   "execution_count": 21,
   "metadata": {},
   "outputs": [
    {
     "data": {
      "image/png": "[encoded data removed]",
      "text/plain": [
       "<Figure size 432x288 with 1 Axes>"
      ]
     },
     "metadata": {
      "needs_background": "light"
     },
     "output_type": "display_data"
    }
   ],
   "source": [
    "# summarize history for accuracy\n",
    "plt.plot(history.history['accuracy'])\n",
    "plt.plot(history.history['val_accuracy'])\n",
    "plt.title('model accuracy')\n",
    "plt.ylabel('accuracy')\n",
    "plt.xlabel('epoch')\n",
    "plt.legend(['train', 'val'], loc='upper left')\n",
    "plt.show()\n"
   ]
  },
  {
   "cell_type": "code",
   "execution_count": 22,
   "metadata": {},
   "outputs": [
    {
     "data": {
      "image/png": "[encoded data removed]",
      "text/plain": [
       "<Figure size 432x288 with 1 Axes>"
      ]
     },
     "metadata": {
      "needs_background": "light"
     },
     "output_type": "display_data"
    }
   ],
   "source": [
    "# summarize history for loss\n",
    "plt.plot(history.history['loss'])\n",
    "plt.plot(history.history['val_loss'])\n",
    "plt.title('model loss')\n",
    "plt.ylabel('loss')\n",
    "plt.xlabel('epoch')\n",
    "plt.legend(['train', 'val'], loc='upper left')\n",
    "plt.show()"
   ]
  },
  {
   "cell_type": "code",
   "execution_count": 27,
   "metadata": {
    "colab": {
     "base_uri": "https://localhost:8080/",
     "height": 538
    },
    "id": "UxkJheaXWl1X",
    "outputId": "c50fb6a1-0c87-4ca4-f130-cc8fa8b9735f"
   },
   "outputs": [
    {
     "data": {
      "image/png": "[encoded data removed]",
      "text/plain": [
       "<Figure size 1080x504 with 50 Axes>"
      ]
     },
     "metadata": {},
     "output_type": "display_data"
    }
   ],
   "source": [
    "class_names = ['0', '1', '2', '3', '4',\n",
    "               '4', '6', '7', '8', '9']\n",
    "\n",
    "prediction_values = np.argmax(model.predict(x_test), axis=1)\n",
    "\n",
    "# set up the figure\n",
    "fig = plt.figure(figsize=(15, 7))\n",
    "fig.subplots_adjust(left=0, right=1, bottom=0, top=1, hspace=0.05, wspace=0.05)\n",
    "\n",
    "# plot the images: each image is 28x28 pixels\n",
    "for i in range(50):\n",
    "  ax = fig.add_subplot(5, 10, i + 1, xticks=[], yticks=[])\n",
    "  ax.imshow(x_test[i,:].reshape((28,28)),cmap=plt.cm.gray_r, interpolation='nearest')\n",
    "  \n",
    "  if prediction_values[i] == np.argmax(y_test[i]):\n",
    "    # label the image with the blue text\n",
    "    ax.text(0, 7, class_names[prediction_values[i]], color='blue', size='xx-large')\n",
    "  else:\n",
    "    # label the image with the red text\n",
    "    ax.text(0, 7, class_names[prediction_values[i]], color='red')"
   ]
  },
  {
   "cell_type": "markdown",
   "metadata": {
    "id": "nolgAoSxseiO"
   },
   "source": [
    "\n",
    "\n",
    "---\n",
    "\n"
   ]
  }
 ],
 "metadata": {
  "accelerator": "GPU",
  "colab": {
   "collapsed_sections": [],
   "name": "LeNet-5 TensorFlow 2.0 datahacker.ipynb",
   "provenance": []
  },
  "kernelspec": {
   "display_name": "Python 3 (ipykernel)",
   "language": "python",
   "name": "python3"
  },
  "language_info": {
   "codemirror_mode": {
    "name": "ipython",
    "version": 3
   },
   "file_extension": ".py",
   "mimetype": "text/x-python",
   "name": "python",
   "nbconvert_exporter": "python",
   "pygments_lexer": "ipython3",
   "version": "3.8.10"
  }
 },
 "nbformat": 4,
 "nbformat_minor": 1
}
