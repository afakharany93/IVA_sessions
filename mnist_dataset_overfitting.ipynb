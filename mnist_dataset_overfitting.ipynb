{
 "cells": [
  {
   "cell_type": "code",
   "execution_count": 5,
   "id": "d4fd7218",
   "metadata": {},
   "outputs": [
    {
     "name": "stdout",
     "output_type": "stream",
     "text": [
      "2.6.0\n"
     ]
    }
   ],
   "source": [
    "from __future__ import absolute_import, division, print_function, unicode_literals\n",
    "\n",
    "import tensorflow as tf\n",
    "import matplotlib.pyplot as plt\n",
    "print(tf.__version__)"
   ]
  },
  {
   "cell_type": "code",
   "execution_count": 6,
   "id": "09b027dd",
   "metadata": {},
   "outputs": [],
   "source": [
    "mnist = tf.keras.datasets.mnist\n",
    "(x_train, y_train), (x_test, y_test) = mnist.load_data()\n",
    "x_train, x_test = x_train / 255.0, x_test / 255.0\n"
   ]
  },
  {
   "cell_type": "code",
   "execution_count": 12,
   "id": "bf839536",
   "metadata": {
    "scrolled": true
   },
   "outputs": [
    {
     "name": "stdout",
     "output_type": "stream",
     "text": [
      "9\n"
     ]
    },
    {
     "data": {
      "image/png": "[encoded data removed]",
      "text/plain": [
       "<Figure size 432x288 with 1 Axes>"
      ]
     },
     "metadata": {
      "needs_background": "light"
     },
     "output_type": "display_data"
    }
   ],
   "source": [
    "plt.imshow(x_train[1250])\n",
    "print(y_train[1250])"
   ]
  },
  {
   "cell_type": "code",
   "execution_count": 13,
   "id": "37590715",
   "metadata": {},
   "outputs": [
    {
     "name": "stdout",
     "output_type": "stream",
     "text": [
      "(60000, 28, 28)\n",
      "(60000,)\n",
      "(10000, 28, 28)\n",
      "(10000,)\n"
     ]
    }
   ],
   "source": [
    "print(x_train.shape)\n",
    "print(y_train.shape)\n",
    "print(x_test.shape)\n",
    "print(y_test.shape)"
   ]
  },
  {
   "cell_type": "code",
   "execution_count": 3,
   "id": "cf0dcff3",
   "metadata": {
    "scrolled": true
   },
   "outputs": [
    {
     "name": "stderr",
     "output_type": "stream",
     "text": [
      "2021-09-28 23:23:59.885686: I tensorflow/stream_executor/cuda/cuda_gpu_executor.cc:937] successful NUMA node read from SysFS had negative value (-1), but there must be at least one NUMA node, so returning NUMA node zero\n",
      "2021-09-28 23:23:59.889843: I tensorflow/stream_executor/cuda/cuda_gpu_executor.cc:937] successful NUMA node read from SysFS had negative value (-1), but there must be at least one NUMA node, so returning NUMA node zero\n",
      "2021-09-28 23:23:59.890153: I tensorflow/stream_executor/cuda/cuda_gpu_executor.cc:937] successful NUMA node read from SysFS had negative value (-1), but there must be at least one NUMA node, so returning NUMA node zero\n",
      "2021-09-28 23:23:59.890930: I tensorflow/core/platform/cpu_feature_guard.cc:142] This TensorFlow binary is optimized with oneAPI Deep Neural Network Library (oneDNN) to use the following CPU instructions in performance-critical operations:  AVX2 FMA\n",
      "To enable them in other operations, rebuild TensorFlow with the appropriate compiler flags.\n",
      "2021-09-28 23:23:59.929873: I tensorflow/stream_executor/cuda/cuda_gpu_executor.cc:937] successful NUMA node read from SysFS had negative value (-1), but there must be at least one NUMA node, so returning NUMA node zero\n",
      "2021-09-28 23:23:59.930378: I tensorflow/stream_executor/cuda/cuda_gpu_executor.cc:937] successful NUMA node read from SysFS had negative value (-1), but there must be at least one NUMA node, so returning NUMA node zero\n",
      "2021-09-28 23:23:59.930714: I tensorflow/stream_executor/cuda/cuda_gpu_executor.cc:937] successful NUMA node read from SysFS had negative value (-1), but there must be at least one NUMA node, so returning NUMA node zero\n",
      "2021-09-28 23:24:00.178615: I tensorflow/stream_executor/cuda/cuda_gpu_executor.cc:937] successful NUMA node read from SysFS had negative value (-1), but there must be at least one NUMA node, so returning NUMA node zero\n",
      "2021-09-28 23:24:00.179024: I tensorflow/stream_executor/cuda/cuda_gpu_executor.cc:937] successful NUMA node read from SysFS had negative value (-1), but there must be at least one NUMA node, so returning NUMA node zero\n",
      "2021-09-28 23:24:00.179307: I tensorflow/stream_executor/cuda/cuda_gpu_executor.cc:937] successful NUMA node read from SysFS had negative value (-1), but there must be at least one NUMA node, so returning NUMA node zero\n",
      "2021-09-28 23:24:00.179589: I tensorflow/core/common_runtime/gpu/gpu_device.cc:1510] Created device /job:localhost/replica:0/task:0/device:GPU:0 with 9717 MB memory:  -> device: 0, name: NVIDIA GeForce RTX 3060, pci bus id: 0000:09:00.0, compute capability: 8.6\n"
     ]
    }
   ],
   "source": [
    "model = tf.keras.models.Sequential([\n",
    "    tf.keras.layers.Flatten(input_shape=(28, 28)),\n",
    "    tf.keras.layers.Dense(128, activation='relu'),\n",
    "    tf.keras.layers.Dropout(0.2),\n",
    "    tf.keras.layers.Dense(10, activation='softmax')\n",
    "])\n"
   ]
  },
  {
   "cell_type": "code",
   "execution_count": 4,
   "id": "a7348f58",
   "metadata": {},
   "outputs": [
    {
     "name": "stdout",
     "output_type": "stream",
     "text": [
      "Model: \"sequential\"\n",
      "_________________________________________________________________\n",
      "Layer (type)                 Output Shape              Param #   \n",
      "=================================================================\n",
      "flatten (Flatten)            (None, 784)               0         \n",
      "_________________________________________________________________\n",
      "dense (Dense)                (None, 128)               100480    \n",
      "_________________________________________________________________\n",
      "dropout (Dropout)            (None, 128)               0         \n",
      "_________________________________________________________________\n",
      "dense_1 (Dense)              (None, 10)                1290      \n",
      "=================================================================\n",
      "Total params: 101,770\n",
      "Trainable params: 101,770\n",
      "Non-trainable params: 0\n",
      "_________________________________________________________________\n"
     ]
    }
   ],
   "source": [
    "model.summary()"
   ]
  },
  {
   "cell_type": "code",
   "execution_count": 5,
   "id": "130c5e6d",
   "metadata": {},
   "outputs": [],
   "source": [
    "opt = tf.keras.optimizers.Adam(learning_rate=0.01)\n",
    "model.compile(optimizer=opt,\n",
    "              loss='sparse_categorical_crossentropy',\n",
    "              metrics=['accuracy'])"
   ]
  },
  {
   "cell_type": "code",
   "execution_count": 6,
   "id": "46b35fd0",
   "metadata": {
    "scrolled": true
   },
   "outputs": [
    {
     "name": "stderr",
     "output_type": "stream",
     "text": [
      "2021-09-28 23:24:00.506533: I tensorflow/compiler/mlir/mlir_graph_optimization_pass.cc:185] None of the MLIR Optimization Passes are enabled (registered 2)\n"
     ]
    },
    {
     "name": "stdout",
     "output_type": "stream",
     "text": [
      "Epoch 1/150\n",
      "40/40 [==============================] - 1s 5ms/step - loss: 0.5319 - accuracy: 0.8357 - val_loss: 0.2179 - val_accuracy: 0.9349\n",
      "Epoch 2/150\n",
      " 1/40 [..............................] - ETA: 0s - loss: 0.2291 - accuracy: 0.9277"
     ]
    },
    {
     "name": "stderr",
     "output_type": "stream",
     "text": [
      "2021-09-28 23:24:01.068718: I tensorflow/stream_executor/cuda/cuda_blas.cc:1760] TensorFloat-32 will be used for the matrix multiplication. This will only be logged once.\n"
     ]
    },
    {
     "name": "stdout",
     "output_type": "stream",
     "text": [
      "40/40 [==============================] - 0s 2ms/step - loss: 0.2041 - accuracy: 0.9387 - val_loss: 0.1636 - val_accuracy: 0.9515\n",
      "Epoch 3/150\n",
      "40/40 [==============================] - 0s 2ms/step - loss: 0.1545 - accuracy: 0.9536 - val_loss: 0.1487 - val_accuracy: 0.9556\n",
      "Epoch 4/150\n",
      "40/40 [==============================] - 0s 2ms/step - loss: 0.1292 - accuracy: 0.9603 - val_loss: 0.1249 - val_accuracy: 0.9626\n",
      "Epoch 5/150\n",
      "40/40 [==============================] - 0s 2ms/step - loss: 0.1097 - accuracy: 0.9664 - val_loss: 0.1178 - val_accuracy: 0.9661\n",
      "Epoch 6/150\n",
      "40/40 [==============================] - 0s 2ms/step - loss: 0.0947 - accuracy: 0.9704 - val_loss: 0.1170 - val_accuracy: 0.9665\n",
      "Epoch 7/150\n",
      "40/40 [==============================] - 0s 2ms/step - loss: 0.0789 - accuracy: 0.9750 - val_loss: 0.1081 - val_accuracy: 0.9676\n",
      "Epoch 8/150\n",
      "40/40 [==============================] - 0s 3ms/step - loss: 0.0731 - accuracy: 0.9781 - val_loss: 0.1026 - val_accuracy: 0.9705\n",
      "Epoch 9/150\n",
      "40/40 [==============================] - 0s 2ms/step - loss: 0.0670 - accuracy: 0.9783 - val_loss: 0.1028 - val_accuracy: 0.9719\n",
      "Epoch 10/150\n",
      "40/40 [==============================] - 0s 2ms/step - loss: 0.0650 - accuracy: 0.9794 - val_loss: 0.1036 - val_accuracy: 0.9707\n",
      "Epoch 11/150\n",
      "40/40 [==============================] - 0s 2ms/step - loss: 0.0554 - accuracy: 0.9816 - val_loss: 0.1082 - val_accuracy: 0.9701\n",
      "Epoch 12/150\n",
      "40/40 [==============================] - 0s 2ms/step - loss: 0.0536 - accuracy: 0.9823 - val_loss: 0.1049 - val_accuracy: 0.9716\n",
      "Epoch 13/150\n",
      "40/40 [==============================] - 0s 2ms/step - loss: 0.0504 - accuracy: 0.9835 - val_loss: 0.1136 - val_accuracy: 0.9706\n",
      "Epoch 14/150\n",
      "40/40 [==============================] - 0s 2ms/step - loss: 0.0473 - accuracy: 0.9840 - val_loss: 0.1070 - val_accuracy: 0.9733\n",
      "Epoch 15/150\n",
      "40/40 [==============================] - 0s 2ms/step - loss: 0.0414 - accuracy: 0.9863 - val_loss: 0.1117 - val_accuracy: 0.9718\n",
      "Epoch 16/150\n",
      "40/40 [==============================] - 0s 2ms/step - loss: 0.0377 - accuracy: 0.9878 - val_loss: 0.1062 - val_accuracy: 0.9729\n",
      "Epoch 17/150\n",
      "40/40 [==============================] - 0s 2ms/step - loss: 0.0386 - accuracy: 0.9868 - val_loss: 0.1164 - val_accuracy: 0.9715\n",
      "Epoch 18/150\n",
      "40/40 [==============================] - 0s 2ms/step - loss: 0.0393 - accuracy: 0.9866 - val_loss: 0.1149 - val_accuracy: 0.9722\n",
      "Epoch 19/150\n",
      "40/40 [==============================] - 0s 2ms/step - loss: 0.0349 - accuracy: 0.9885 - val_loss: 0.1094 - val_accuracy: 0.9734\n",
      "Epoch 20/150\n",
      "40/40 [==============================] - 0s 2ms/step - loss: 0.0327 - accuracy: 0.9887 - val_loss: 0.1100 - val_accuracy: 0.9732\n",
      "Epoch 21/150\n",
      "40/40 [==============================] - 0s 2ms/step - loss: 0.0336 - accuracy: 0.9885 - val_loss: 0.1107 - val_accuracy: 0.9727\n",
      "Epoch 22/150\n",
      "40/40 [==============================] - 0s 2ms/step - loss: 0.0320 - accuracy: 0.9888 - val_loss: 0.1144 - val_accuracy: 0.9740\n",
      "Epoch 23/150\n",
      "40/40 [==============================] - 0s 2ms/step - loss: 0.0316 - accuracy: 0.9888 - val_loss: 0.1156 - val_accuracy: 0.9736\n",
      "Epoch 24/150\n",
      "40/40 [==============================] - 0s 2ms/step - loss: 0.0279 - accuracy: 0.9903 - val_loss: 0.1221 - val_accuracy: 0.9729\n",
      "Epoch 25/150\n",
      "40/40 [==============================] - 0s 2ms/step - loss: 0.0290 - accuracy: 0.9900 - val_loss: 0.1155 - val_accuracy: 0.9733\n",
      "Epoch 26/150\n",
      "40/40 [==============================] - 0s 2ms/step - loss: 0.0286 - accuracy: 0.9898 - val_loss: 0.1287 - val_accuracy: 0.9723\n",
      "Epoch 27/150\n",
      "40/40 [==============================] - 0s 2ms/step - loss: 0.0274 - accuracy: 0.9907 - val_loss: 0.1209 - val_accuracy: 0.9728\n",
      "Epoch 28/150\n",
      "40/40 [==============================] - 0s 2ms/step - loss: 0.0295 - accuracy: 0.9897 - val_loss: 0.1236 - val_accuracy: 0.9736\n",
      "Epoch 29/150\n",
      "40/40 [==============================] - 0s 2ms/step - loss: 0.0260 - accuracy: 0.9911 - val_loss: 0.1245 - val_accuracy: 0.9733\n",
      "Epoch 30/150\n",
      "40/40 [==============================] - 0s 2ms/step - loss: 0.0281 - accuracy: 0.9903 - val_loss: 0.1262 - val_accuracy: 0.9734\n",
      "Epoch 31/150\n",
      "40/40 [==============================] - 0s 2ms/step - loss: 0.0260 - accuracy: 0.9909 - val_loss: 0.1362 - val_accuracy: 0.9739\n",
      "Epoch 32/150\n",
      "40/40 [==============================] - 0s 2ms/step - loss: 0.0282 - accuracy: 0.9900 - val_loss: 0.1319 - val_accuracy: 0.9740\n",
      "Epoch 33/150\n",
      "40/40 [==============================] - 0s 2ms/step - loss: 0.0238 - accuracy: 0.9918 - val_loss: 0.1359 - val_accuracy: 0.9735\n",
      "Epoch 34/150\n",
      "40/40 [==============================] - 0s 2ms/step - loss: 0.0265 - accuracy: 0.9912 - val_loss: 0.1286 - val_accuracy: 0.9734\n",
      "Epoch 35/150\n",
      "40/40 [==============================] - 0s 2ms/step - loss: 0.0262 - accuracy: 0.9911 - val_loss: 0.1340 - val_accuracy: 0.9732\n",
      "Epoch 36/150\n",
      "40/40 [==============================] - 0s 2ms/step - loss: 0.0252 - accuracy: 0.9907 - val_loss: 0.1363 - val_accuracy: 0.9733\n",
      "Epoch 37/150\n",
      "40/40 [==============================] - 0s 2ms/step - loss: 0.0259 - accuracy: 0.9908 - val_loss: 0.1398 - val_accuracy: 0.9726\n",
      "Epoch 38/150\n",
      "40/40 [==============================] - 0s 2ms/step - loss: 0.0249 - accuracy: 0.9910 - val_loss: 0.1405 - val_accuracy: 0.9724\n",
      "Epoch 39/150\n",
      "40/40 [==============================] - 0s 2ms/step - loss: 0.0248 - accuracy: 0.9914 - val_loss: 0.1481 - val_accuracy: 0.9726\n",
      "Epoch 40/150\n",
      "40/40 [==============================] - 0s 2ms/step - loss: 0.0262 - accuracy: 0.9916 - val_loss: 0.1362 - val_accuracy: 0.9735\n",
      "Epoch 41/150\n",
      "40/40 [==============================] - 0s 2ms/step - loss: 0.0213 - accuracy: 0.9925 - val_loss: 0.1444 - val_accuracy: 0.9730\n",
      "Epoch 42/150\n",
      "40/40 [==============================] - 0s 2ms/step - loss: 0.0226 - accuracy: 0.9923 - val_loss: 0.1500 - val_accuracy: 0.9727\n",
      "Epoch 43/150\n",
      "40/40 [==============================] - 0s 2ms/step - loss: 0.0252 - accuracy: 0.9916 - val_loss: 0.1458 - val_accuracy: 0.9722\n",
      "Epoch 44/150\n",
      "40/40 [==============================] - 0s 2ms/step - loss: 0.0247 - accuracy: 0.9917 - val_loss: 0.1529 - val_accuracy: 0.9718\n",
      "Epoch 45/150\n",
      "40/40 [==============================] - 0s 2ms/step - loss: 0.0225 - accuracy: 0.9924 - val_loss: 0.1527 - val_accuracy: 0.9740\n",
      "Epoch 46/150\n",
      "40/40 [==============================] - 0s 2ms/step - loss: 0.0236 - accuracy: 0.9920 - val_loss: 0.1448 - val_accuracy: 0.9735\n",
      "Epoch 47/150\n",
      "40/40 [==============================] - 0s 2ms/step - loss: 0.0294 - accuracy: 0.9905 - val_loss: 0.1520 - val_accuracy: 0.9717\n",
      "Epoch 48/150\n",
      "40/40 [==============================] - 0s 2ms/step - loss: 0.0250 - accuracy: 0.9912 - val_loss: 0.1643 - val_accuracy: 0.9724\n",
      "Epoch 49/150\n",
      "40/40 [==============================] - 0s 2ms/step - loss: 0.0254 - accuracy: 0.9915 - val_loss: 0.1528 - val_accuracy: 0.9726\n",
      "Epoch 50/150\n",
      "40/40 [==============================] - 0s 2ms/step - loss: 0.0219 - accuracy: 0.9927 - val_loss: 0.1662 - val_accuracy: 0.9724\n",
      "Epoch 51/150\n",
      "40/40 [==============================] - 0s 2ms/step - loss: 0.0203 - accuracy: 0.9928 - val_loss: 0.1635 - val_accuracy: 0.9730\n",
      "Epoch 52/150\n",
      "40/40 [==============================] - 0s 2ms/step - loss: 0.0211 - accuracy: 0.9932 - val_loss: 0.1678 - val_accuracy: 0.9725\n",
      "Epoch 53/150\n",
      "40/40 [==============================] - 0s 2ms/step - loss: 0.0222 - accuracy: 0.9927 - val_loss: 0.1561 - val_accuracy: 0.9728\n",
      "Epoch 54/150\n",
      "40/40 [==============================] - 0s 2ms/step - loss: 0.0222 - accuracy: 0.9924 - val_loss: 0.1659 - val_accuracy: 0.9717\n",
      "Epoch 55/150\n",
      "40/40 [==============================] - 0s 2ms/step - loss: 0.0206 - accuracy: 0.9929 - val_loss: 0.1635 - val_accuracy: 0.9736\n",
      "Epoch 56/150\n",
      "40/40 [==============================] - 0s 2ms/step - loss: 0.0200 - accuracy: 0.9929 - val_loss: 0.1619 - val_accuracy: 0.9723\n",
      "Epoch 57/150\n",
      "40/40 [==============================] - 0s 2ms/step - loss: 0.0181 - accuracy: 0.9936 - val_loss: 0.1683 - val_accuracy: 0.9720\n",
      "Epoch 58/150\n",
      "40/40 [==============================] - 0s 2ms/step - loss: 0.0211 - accuracy: 0.9926 - val_loss: 0.1713 - val_accuracy: 0.9721\n",
      "Epoch 59/150\n",
      "40/40 [==============================] - 0s 2ms/step - loss: 0.0192 - accuracy: 0.9935 - val_loss: 0.1715 - val_accuracy: 0.9724\n"
     ]
    },
    {
     "name": "stdout",
     "output_type": "stream",
     "text": [
      "Epoch 60/150\n",
      "40/40 [==============================] - 0s 2ms/step - loss: 0.0219 - accuracy: 0.9928 - val_loss: 0.1660 - val_accuracy: 0.9733\n",
      "Epoch 61/150\n",
      "40/40 [==============================] - 0s 2ms/step - loss: 0.0202 - accuracy: 0.9932 - val_loss: 0.1642 - val_accuracy: 0.9735\n",
      "Epoch 62/150\n",
      "40/40 [==============================] - 0s 2ms/step - loss: 0.0203 - accuracy: 0.9932 - val_loss: 0.1659 - val_accuracy: 0.9730\n",
      "Epoch 63/150\n",
      "40/40 [==============================] - 0s 2ms/step - loss: 0.0184 - accuracy: 0.9937 - val_loss: 0.1612 - val_accuracy: 0.9733\n",
      "Epoch 64/150\n",
      "40/40 [==============================] - 0s 2ms/step - loss: 0.0213 - accuracy: 0.9932 - val_loss: 0.1754 - val_accuracy: 0.9719\n",
      "Epoch 65/150\n",
      "40/40 [==============================] - 0s 2ms/step - loss: 0.0217 - accuracy: 0.9924 - val_loss: 0.1733 - val_accuracy: 0.9731\n",
      "Epoch 66/150\n",
      "40/40 [==============================] - 0s 2ms/step - loss: 0.0204 - accuracy: 0.9931 - val_loss: 0.1766 - val_accuracy: 0.9732\n",
      "Epoch 67/150\n",
      "40/40 [==============================] - 0s 2ms/step - loss: 0.0193 - accuracy: 0.9937 - val_loss: 0.1753 - val_accuracy: 0.9732\n",
      "Epoch 68/150\n",
      "40/40 [==============================] - 0s 2ms/step - loss: 0.0213 - accuracy: 0.9930 - val_loss: 0.1722 - val_accuracy: 0.9725\n",
      "Epoch 69/150\n",
      "40/40 [==============================] - 0s 2ms/step - loss: 0.0193 - accuracy: 0.9935 - val_loss: 0.1798 - val_accuracy: 0.9732\n",
      "Epoch 70/150\n",
      "40/40 [==============================] - 0s 2ms/step - loss: 0.0221 - accuracy: 0.9927 - val_loss: 0.1861 - val_accuracy: 0.9722\n",
      "Epoch 71/150\n",
      "40/40 [==============================] - 0s 2ms/step - loss: 0.0232 - accuracy: 0.9926 - val_loss: 0.1833 - val_accuracy: 0.9721\n",
      "Epoch 72/150\n",
      "40/40 [==============================] - 0s 2ms/step - loss: 0.0167 - accuracy: 0.9942 - val_loss: 0.1919 - val_accuracy: 0.9733\n",
      "Epoch 73/150\n",
      "40/40 [==============================] - 0s 2ms/step - loss: 0.0178 - accuracy: 0.9942 - val_loss: 0.1850 - val_accuracy: 0.9738\n",
      "Epoch 74/150\n",
      "40/40 [==============================] - 0s 2ms/step - loss: 0.0236 - accuracy: 0.9928 - val_loss: 0.1872 - val_accuracy: 0.9719\n",
      "Epoch 75/150\n",
      "40/40 [==============================] - 0s 2ms/step - loss: 0.0175 - accuracy: 0.9941 - val_loss: 0.1867 - val_accuracy: 0.9730\n",
      "Epoch 76/150\n",
      "40/40 [==============================] - 0s 2ms/step - loss: 0.0184 - accuracy: 0.9937 - val_loss: 0.1919 - val_accuracy: 0.9734\n",
      "Epoch 77/150\n",
      "40/40 [==============================] - 0s 2ms/step - loss: 0.0268 - accuracy: 0.9916 - val_loss: 0.1969 - val_accuracy: 0.9720\n",
      "Epoch 78/150\n",
      "40/40 [==============================] - 0s 2ms/step - loss: 0.0259 - accuracy: 0.9914 - val_loss: 0.1815 - val_accuracy: 0.9735\n",
      "Epoch 79/150\n",
      "40/40 [==============================] - 0s 2ms/step - loss: 0.0219 - accuracy: 0.9927 - val_loss: 0.1807 - val_accuracy: 0.9731\n",
      "Epoch 80/150\n",
      "40/40 [==============================] - 0s 2ms/step - loss: 0.0195 - accuracy: 0.9934 - val_loss: 0.1965 - val_accuracy: 0.9722\n",
      "Epoch 81/150\n",
      "40/40 [==============================] - 0s 2ms/step - loss: 0.0189 - accuracy: 0.9937 - val_loss: 0.1851 - val_accuracy: 0.9737\n",
      "Epoch 82/150\n",
      "40/40 [==============================] - 0s 2ms/step - loss: 0.0197 - accuracy: 0.9936 - val_loss: 0.1970 - val_accuracy: 0.9731\n",
      "Epoch 83/150\n",
      "40/40 [==============================] - 0s 2ms/step - loss: 0.0190 - accuracy: 0.9937 - val_loss: 0.1873 - val_accuracy: 0.9754\n",
      "Epoch 84/150\n",
      "40/40 [==============================] - 0s 2ms/step - loss: 0.0228 - accuracy: 0.9930 - val_loss: 0.1810 - val_accuracy: 0.9735\n",
      "Epoch 85/150\n",
      "40/40 [==============================] - 0s 2ms/step - loss: 0.0231 - accuracy: 0.9924 - val_loss: 0.1945 - val_accuracy: 0.9733\n",
      "Epoch 86/150\n",
      "40/40 [==============================] - 0s 2ms/step - loss: 0.0242 - accuracy: 0.9923 - val_loss: 0.1834 - val_accuracy: 0.9737\n",
      "Epoch 87/150\n",
      "40/40 [==============================] - 0s 2ms/step - loss: 0.0217 - accuracy: 0.9927 - val_loss: 0.2014 - val_accuracy: 0.9735\n",
      "Epoch 88/150\n",
      "40/40 [==============================] - 0s 2ms/step - loss: 0.0182 - accuracy: 0.9939 - val_loss: 0.1905 - val_accuracy: 0.9752\n",
      "Epoch 89/150\n",
      "40/40 [==============================] - 0s 2ms/step - loss: 0.0212 - accuracy: 0.9928 - val_loss: 0.1962 - val_accuracy: 0.9741\n",
      "Epoch 90/150\n",
      "40/40 [==============================] - 0s 2ms/step - loss: 0.0209 - accuracy: 0.9934 - val_loss: 0.2059 - val_accuracy: 0.9724\n",
      "Epoch 91/150\n",
      "40/40 [==============================] - 0s 2ms/step - loss: 0.0194 - accuracy: 0.9937 - val_loss: 0.1935 - val_accuracy: 0.9741\n",
      "Epoch 92/150\n",
      "40/40 [==============================] - 0s 2ms/step - loss: 0.0204 - accuracy: 0.9932 - val_loss: 0.2073 - val_accuracy: 0.9723\n",
      "Epoch 93/150\n",
      "40/40 [==============================] - 0s 2ms/step - loss: 0.0216 - accuracy: 0.9931 - val_loss: 0.2060 - val_accuracy: 0.9741\n",
      "Epoch 94/150\n",
      "40/40 [==============================] - 0s 2ms/step - loss: 0.0193 - accuracy: 0.9938 - val_loss: 0.2207 - val_accuracy: 0.9720\n",
      "Epoch 95/150\n",
      "40/40 [==============================] - 0s 2ms/step - loss: 0.0171 - accuracy: 0.9944 - val_loss: 0.1965 - val_accuracy: 0.9735\n",
      "Epoch 96/150\n",
      "40/40 [==============================] - 0s 2ms/step - loss: 0.0178 - accuracy: 0.9942 - val_loss: 0.2025 - val_accuracy: 0.9733\n",
      "Epoch 97/150\n",
      "40/40 [==============================] - 0s 2ms/step - loss: 0.0174 - accuracy: 0.9945 - val_loss: 0.2053 - val_accuracy: 0.9726\n",
      "Epoch 98/150\n",
      "40/40 [==============================] - 0s 2ms/step - loss: 0.0209 - accuracy: 0.9933 - val_loss: 0.2046 - val_accuracy: 0.9726\n",
      "Epoch 99/150\n",
      "40/40 [==============================] - 0s 2ms/step - loss: 0.0212 - accuracy: 0.9928 - val_loss: 0.2096 - val_accuracy: 0.9733\n",
      "Epoch 100/150\n",
      "40/40 [==============================] - 0s 2ms/step - loss: 0.0200 - accuracy: 0.9936 - val_loss: 0.2130 - val_accuracy: 0.9742\n",
      "Epoch 101/150\n",
      "40/40 [==============================] - 0s 2ms/step - loss: 0.0208 - accuracy: 0.9933 - val_loss: 0.2252 - val_accuracy: 0.9721\n",
      "Epoch 102/150\n",
      "40/40 [==============================] - 0s 2ms/step - loss: 0.0219 - accuracy: 0.9933 - val_loss: 0.2160 - val_accuracy: 0.9725\n",
      "Epoch 103/150\n",
      "40/40 [==============================] - 0s 2ms/step - loss: 0.0248 - accuracy: 0.9929 - val_loss: 0.2151 - val_accuracy: 0.9731\n",
      "Epoch 104/150\n",
      "40/40 [==============================] - 0s 2ms/step - loss: 0.0192 - accuracy: 0.9935 - val_loss: 0.2007 - val_accuracy: 0.9743\n",
      "Epoch 105/150\n",
      "40/40 [==============================] - 0s 2ms/step - loss: 0.0171 - accuracy: 0.9947 - val_loss: 0.2093 - val_accuracy: 0.9737\n",
      "Epoch 106/150\n",
      "40/40 [==============================] - 0s 2ms/step - loss: 0.0183 - accuracy: 0.9942 - val_loss: 0.2033 - val_accuracy: 0.9728\n",
      "Epoch 107/150\n",
      "40/40 [==============================] - 0s 2ms/step - loss: 0.0164 - accuracy: 0.9947 - val_loss: 0.2191 - val_accuracy: 0.9731\n",
      "Epoch 108/150\n",
      "40/40 [==============================] - 0s 2ms/step - loss: 0.0160 - accuracy: 0.9950 - val_loss: 0.1997 - val_accuracy: 0.9736\n",
      "Epoch 109/150\n",
      "40/40 [==============================] - 0s 2ms/step - loss: 0.0148 - accuracy: 0.9951 - val_loss: 0.2195 - val_accuracy: 0.9737\n",
      "Epoch 110/150\n",
      "40/40 [==============================] - 0s 2ms/step - loss: 0.0208 - accuracy: 0.9936 - val_loss: 0.2094 - val_accuracy: 0.9734\n",
      "Epoch 111/150\n",
      "40/40 [==============================] - 0s 2ms/step - loss: 0.0181 - accuracy: 0.9940 - val_loss: 0.2311 - val_accuracy: 0.9726\n",
      "Epoch 112/150\n",
      "40/40 [==============================] - 0s 2ms/step - loss: 0.0182 - accuracy: 0.9943 - val_loss: 0.2163 - val_accuracy: 0.9738\n",
      "Epoch 113/150\n",
      "40/40 [==============================] - 0s 2ms/step - loss: 0.0229 - accuracy: 0.9933 - val_loss: 0.2286 - val_accuracy: 0.9725\n",
      "Epoch 114/150\n",
      "40/40 [==============================] - 0s 2ms/step - loss: 0.0178 - accuracy: 0.9948 - val_loss: 0.2190 - val_accuracy: 0.9740\n",
      "Epoch 115/150\n",
      "40/40 [==============================] - 0s 2ms/step - loss: 0.0151 - accuracy: 0.9950 - val_loss: 0.2204 - val_accuracy: 0.9742\n",
      "Epoch 116/150\n",
      "40/40 [==============================] - 0s 2ms/step - loss: 0.0181 - accuracy: 0.9941 - val_loss: 0.2270 - val_accuracy: 0.9731\n",
      "Epoch 117/150\n",
      "40/40 [==============================] - 0s 2ms/step - loss: 0.0211 - accuracy: 0.9938 - val_loss: 0.2325 - val_accuracy: 0.9735\n",
      "Epoch 118/150\n",
      "40/40 [==============================] - 0s 2ms/step - loss: 0.0195 - accuracy: 0.9939 - val_loss: 0.2233 - val_accuracy: 0.9744\n",
      "Epoch 119/150\n",
      "40/40 [==============================] - 0s 2ms/step - loss: 0.0211 - accuracy: 0.9937 - val_loss: 0.2287 - val_accuracy: 0.9727\n",
      "Epoch 120/150\n",
      "40/40 [==============================] - 0s 2ms/step - loss: 0.0173 - accuracy: 0.9942 - val_loss: 0.2339 - val_accuracy: 0.9739\n",
      "Epoch 121/150\n",
      "40/40 [==============================] - 0s 2ms/step - loss: 0.0173 - accuracy: 0.9947 - val_loss: 0.2322 - val_accuracy: 0.9745\n",
      "Epoch 122/150\n",
      "40/40 [==============================] - 0s 2ms/step - loss: 0.0213 - accuracy: 0.9934 - val_loss: 0.2129 - val_accuracy: 0.9752\n",
      "Epoch 123/150\n",
      "40/40 [==============================] - 0s 2ms/step - loss: 0.0168 - accuracy: 0.9948 - val_loss: 0.2187 - val_accuracy: 0.9743\n",
      "Epoch 124/150\n",
      "40/40 [==============================] - 0s 2ms/step - loss: 0.0159 - accuracy: 0.9954 - val_loss: 0.2310 - val_accuracy: 0.9749\n",
      "Epoch 125/150\n",
      "40/40 [==============================] - 0s 2ms/step - loss: 0.0179 - accuracy: 0.9948 - val_loss: 0.2258 - val_accuracy: 0.9740\n",
      "Epoch 126/150\n",
      "40/40 [==============================] - 0s 2ms/step - loss: 0.0176 - accuracy: 0.9943 - val_loss: 0.2364 - val_accuracy: 0.9738\n",
      "Epoch 127/150\n",
      "40/40 [==============================] - 0s 2ms/step - loss: 0.0184 - accuracy: 0.9943 - val_loss: 0.2262 - val_accuracy: 0.9752\n",
      "Epoch 128/150\n",
      "40/40 [==============================] - 0s 2ms/step - loss: 0.0195 - accuracy: 0.9943 - val_loss: 0.2326 - val_accuracy: 0.9753\n",
      "Epoch 129/150\n",
      "40/40 [==============================] - 0s 2ms/step - loss: 0.0173 - accuracy: 0.9948 - val_loss: 0.2429 - val_accuracy: 0.9729\n",
      "Epoch 130/150\n",
      "40/40 [==============================] - 0s 2ms/step - loss: 0.0206 - accuracy: 0.9939 - val_loss: 0.2420 - val_accuracy: 0.9742\n",
      "Epoch 131/150\n",
      "40/40 [==============================] - 0s 2ms/step - loss: 0.0207 - accuracy: 0.9940 - val_loss: 0.2297 - val_accuracy: 0.9736\n",
      "Epoch 132/150\n",
      "40/40 [==============================] - 0s 2ms/step - loss: 0.0168 - accuracy: 0.9946 - val_loss: 0.2379 - val_accuracy: 0.9737\n",
      "Epoch 133/150\n",
      "40/40 [==============================] - 0s 2ms/step - loss: 0.0231 - accuracy: 0.9937 - val_loss: 0.2254 - val_accuracy: 0.9744\n",
      "Epoch 134/150\n",
      "40/40 [==============================] - 0s 2ms/step - loss: 0.0233 - accuracy: 0.9932 - val_loss: 0.2416 - val_accuracy: 0.9731\n",
      "Epoch 135/150\n",
      "40/40 [==============================] - 0s 2ms/step - loss: 0.0204 - accuracy: 0.9942 - val_loss: 0.2333 - val_accuracy: 0.9726\n",
      "Epoch 136/150\n",
      "40/40 [==============================] - 0s 2ms/step - loss: 0.0177 - accuracy: 0.9944 - val_loss: 0.2406 - val_accuracy: 0.9747\n",
      "Epoch 137/150\n",
      "40/40 [==============================] - 0s 2ms/step - loss: 0.0167 - accuracy: 0.9942 - val_loss: 0.2308 - val_accuracy: 0.9752\n",
      "Epoch 138/150\n",
      "40/40 [==============================] - 0s 2ms/step - loss: 0.0197 - accuracy: 0.9948 - val_loss: 0.2424 - val_accuracy: 0.9735\n",
      "Epoch 139/150\n",
      "40/40 [==============================] - 0s 2ms/step - loss: 0.0174 - accuracy: 0.9945 - val_loss: 0.2475 - val_accuracy: 0.9726\n",
      "Epoch 140/150\n",
      "40/40 [==============================] - 0s 2ms/step - loss: 0.0210 - accuracy: 0.9938 - val_loss: 0.2473 - val_accuracy: 0.9728\n",
      "Epoch 141/150\n",
      "40/40 [==============================] - 0s 2ms/step - loss: 0.0199 - accuracy: 0.9941 - val_loss: 0.2538 - val_accuracy: 0.9717\n",
      "Epoch 142/150\n",
      "40/40 [==============================] - 0s 2ms/step - loss: 0.0203 - accuracy: 0.9939 - val_loss: 0.2468 - val_accuracy: 0.9734\n",
      "Epoch 143/150\n",
      "40/40 [==============================] - 0s 2ms/step - loss: 0.0180 - accuracy: 0.9948 - val_loss: 0.2496 - val_accuracy: 0.9730\n",
      "Epoch 144/150\n",
      "40/40 [==============================] - 0s 2ms/step - loss: 0.0195 - accuracy: 0.9944 - val_loss: 0.2522 - val_accuracy: 0.9728\n",
      "Epoch 145/150\n",
      "40/40 [==============================] - 0s 2ms/step - loss: 0.0164 - accuracy: 0.9952 - val_loss: 0.2329 - val_accuracy: 0.9744\n",
      "Epoch 146/150\n",
      "40/40 [==============================] - 0s 2ms/step - loss: 0.0147 - accuracy: 0.9956 - val_loss: 0.2355 - val_accuracy: 0.9757\n",
      "Epoch 147/150\n",
      "40/40 [==============================] - 0s 2ms/step - loss: 0.0138 - accuracy: 0.9954 - val_loss: 0.2661 - val_accuracy: 0.9729\n",
      "Epoch 148/150\n",
      "40/40 [==============================] - 0s 2ms/step - loss: 0.0168 - accuracy: 0.9947 - val_loss: 0.2590 - val_accuracy: 0.9737\n",
      "Epoch 149/150\n",
      "40/40 [==============================] - 0s 2ms/step - loss: 0.0176 - accuracy: 0.9946 - val_loss: 0.2552 - val_accuracy: 0.9735\n",
      "Epoch 150/150\n",
      "40/40 [==============================] - 0s 2ms/step - loss: 0.0173 - accuracy: 0.9950 - val_loss: 0.2538 - val_accuracy: 0.9719\n"
     ]
    }
   ],
   "source": [
    "#callback = tf.keras.callbacks.EarlyStopping(monitor='val_loss', patience=3)\n",
    "history=model.fit(x_train, y_train, validation_split=0.33, epochs=150, batch_size=1024)#, callbacks=[callback])"
   ]
  },
  {
   "cell_type": "code",
   "execution_count": 7,
   "id": "71e360e4",
   "metadata": {},
   "outputs": [
    {
     "data": {
      "image/png": "[encoded data removed]",
      "text/plain": [
       "<Figure size 432x288 with 1 Axes>"
      ]
     },
     "metadata": {
      "needs_background": "light"
     },
     "output_type": "display_data"
    }
   ],
   "source": [
    "# summarize history for accuracy\n",
    "plt.plot(history.history['accuracy'])\n",
    "plt.plot(history.history['val_accuracy'])\n",
    "plt.title('model accuracy')\n",
    "plt.ylabel('accuracy')\n",
    "plt.xlabel('epoch')\n",
    "plt.legend(['train', 'test'], loc='upper left')\n",
    "plt.show()\n"
   ]
  },
  {
   "cell_type": "code",
   "execution_count": 8,
   "id": "feb6ffe0",
   "metadata": {},
   "outputs": [
    {
     "data": {
      "image/png": "[encoded data removed]",
      "text/plain": [
       "<Figure size 432x288 with 1 Axes>"
      ]
     },
     "metadata": {
      "needs_background": "light"
     },
     "output_type": "display_data"
    }
   ],
   "source": [
    "# summarize history for loss\n",
    "plt.plot(history.history['loss'])\n",
    "plt.plot(history.history['val_loss'])\n",
    "plt.title('model loss')\n",
    "plt.ylabel('loss')\n",
    "plt.xlabel('epoch')\n",
    "plt.legend(['train', 'test'], loc='upper left')\n",
    "plt.show()"
   ]
  },
  {
   "cell_type": "code",
   "execution_count": 9,
   "id": "9ef5a615",
   "metadata": {},
   "outputs": [
    {
     "name": "stdout",
     "output_type": "stream",
     "text": [
      "313/313 - 0s - loss: 0.2377 - accuracy: 0.9761\n"
     ]
    },
    {
     "data": {
      "text/plain": [
       "[0.23771002888679504, 0.9761000275611877]"
      ]
     },
     "execution_count": 9,
     "metadata": {},
     "output_type": "execute_result"
    }
   ],
   "source": [
    "model.evaluate(x_test,  y_test, verbose=2)"
   ]
  },
  {
   "cell_type": "code",
   "execution_count": null,
   "id": "894f2211",
   "metadata": {},
   "outputs": [],
   "source": []
  }
 ],
 "metadata": {
  "kernelspec": {
   "display_name": "Python 3 (ipykernel)",
   "language": "python",
   "name": "python3"
  },
  "language_info": {
   "codemirror_mode": {
    "name": "ipython",
    "version": 3
   },
   "file_extension": ".py",
   "mimetype": "text/x-python",
   "name": "python",
   "nbconvert_exporter": "python",
   "pygments_lexer": "ipython3",
   "version": "3.8.10"
  }
 },
 "nbformat": 4,
 "nbformat_minor": 5
}
